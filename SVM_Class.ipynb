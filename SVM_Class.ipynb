{
  "cells": [
    {
      "cell_type": "markdown",
      "metadata": {
        "id": "view-in-github",
        "colab_type": "text"
      },
      "source": [
        "<a href=\"https://colab.research.google.com/github/REDDY7208/git-tuts/blob/master/SVM_Class.ipynb\" target=\"_parent\"><img src=\"https://colab.research.google.com/assets/colab-badge.svg\" alt=\"Open In Colab\"/></a>"
      ]
    },
    {
      "cell_type": "markdown",
      "id": "fa5b52d8",
      "metadata": {
        "id": "fa5b52d8"
      },
      "source": [
        "## Business Case:-To find out based on given features whether the loan will get approved or not"
      ]
    },
    {
      "cell_type": "code",
      "execution_count": null,
      "id": "b70acccb",
      "metadata": {
        "id": "b70acccb"
      },
      "outputs": [],
      "source": [
        "import numpy as np\n",
        "import pandas as pd\n",
        "import matplotlib.pyplot as plt\n",
        "import seaborn as sns"
      ]
    },
    {
      "cell_type": "code",
      "execution_count": null,
      "id": "db912e11",
      "metadata": {
        "id": "db912e11",
        "outputId": "888218ea-49a3-4561-8f8e-834bbe7f71e9"
      },
      "outputs": [
        {
          "data": {
            "text/html": [
              "<div>\n",
              "<style scoped>\n",
              "    .dataframe tbody tr th:only-of-type {\n",
              "        vertical-align: middle;\n",
              "    }\n",
              "\n",
              "    .dataframe tbody tr th {\n",
              "        vertical-align: top;\n",
              "    }\n",
              "\n",
              "    .dataframe thead th {\n",
              "        text-align: right;\n",
              "    }\n",
              "</style>\n",
              "<table border=\"1\" class=\"dataframe\">\n",
              "  <thead>\n",
              "    <tr style=\"text-align: right;\">\n",
              "      <th></th>\n",
              "      <th>Loan_ID</th>\n",
              "      <th>Gender</th>\n",
              "      <th>Married</th>\n",
              "      <th>Dependents</th>\n",
              "      <th>Education</th>\n",
              "      <th>Self_Employed</th>\n",
              "      <th>ApplicantIncome</th>\n",
              "      <th>CoapplicantIncome</th>\n",
              "      <th>LoanAmount</th>\n",
              "      <th>Loan_Amount_Term</th>\n",
              "      <th>Credit_History</th>\n",
              "      <th>Property_Area</th>\n",
              "      <th>Loan_Status (Approved)</th>\n",
              "    </tr>\n",
              "  </thead>\n",
              "  <tbody>\n",
              "    <tr>\n",
              "      <th>0</th>\n",
              "      <td>LP001002</td>\n",
              "      <td>Male</td>\n",
              "      <td>No</td>\n",
              "      <td>0</td>\n",
              "      <td>Graduate</td>\n",
              "      <td>No</td>\n",
              "      <td>5849</td>\n",
              "      <td>0.0</td>\n",
              "      <td>NaN</td>\n",
              "      <td>360.0</td>\n",
              "      <td>1.0</td>\n",
              "      <td>Urban</td>\n",
              "      <td>Y</td>\n",
              "    </tr>\n",
              "    <tr>\n",
              "      <th>1</th>\n",
              "      <td>LP001003</td>\n",
              "      <td>Male</td>\n",
              "      <td>Yes</td>\n",
              "      <td>1</td>\n",
              "      <td>Graduate</td>\n",
              "      <td>No</td>\n",
              "      <td>4583</td>\n",
              "      <td>1508.0</td>\n",
              "      <td>128.0</td>\n",
              "      <td>360.0</td>\n",
              "      <td>1.0</td>\n",
              "      <td>Rural</td>\n",
              "      <td>N</td>\n",
              "    </tr>\n",
              "    <tr>\n",
              "      <th>2</th>\n",
              "      <td>LP001005</td>\n",
              "      <td>Male</td>\n",
              "      <td>Yes</td>\n",
              "      <td>0</td>\n",
              "      <td>Graduate</td>\n",
              "      <td>Yes</td>\n",
              "      <td>3000</td>\n",
              "      <td>0.0</td>\n",
              "      <td>66.0</td>\n",
              "      <td>360.0</td>\n",
              "      <td>1.0</td>\n",
              "      <td>Urban</td>\n",
              "      <td>Y</td>\n",
              "    </tr>\n",
              "    <tr>\n",
              "      <th>3</th>\n",
              "      <td>LP001006</td>\n",
              "      <td>Male</td>\n",
              "      <td>Yes</td>\n",
              "      <td>0</td>\n",
              "      <td>Not Graduate</td>\n",
              "      <td>No</td>\n",
              "      <td>2583</td>\n",
              "      <td>2358.0</td>\n",
              "      <td>120.0</td>\n",
              "      <td>360.0</td>\n",
              "      <td>1.0</td>\n",
              "      <td>Urban</td>\n",
              "      <td>Y</td>\n",
              "    </tr>\n",
              "    <tr>\n",
              "      <th>4</th>\n",
              "      <td>LP001008</td>\n",
              "      <td>Male</td>\n",
              "      <td>No</td>\n",
              "      <td>0</td>\n",
              "      <td>Graduate</td>\n",
              "      <td>No</td>\n",
              "      <td>6000</td>\n",
              "      <td>0.0</td>\n",
              "      <td>141.0</td>\n",
              "      <td>360.0</td>\n",
              "      <td>1.0</td>\n",
              "      <td>Urban</td>\n",
              "      <td>Y</td>\n",
              "    </tr>\n",
              "  </tbody>\n",
              "</table>\n",
              "</div>"
            ],
            "text/plain": [
              "    Loan_ID Gender Married Dependents     Education Self_Employed  \\\n",
              "0  LP001002   Male      No          0      Graduate            No   \n",
              "1  LP001003   Male     Yes          1      Graduate            No   \n",
              "2  LP001005   Male     Yes          0      Graduate           Yes   \n",
              "3  LP001006   Male     Yes          0  Not Graduate            No   \n",
              "4  LP001008   Male      No          0      Graduate            No   \n",
              "\n",
              "   ApplicantIncome  CoapplicantIncome  LoanAmount  Loan_Amount_Term  \\\n",
              "0             5849                0.0         NaN             360.0   \n",
              "1             4583             1508.0       128.0             360.0   \n",
              "2             3000                0.0        66.0             360.0   \n",
              "3             2583             2358.0       120.0             360.0   \n",
              "4             6000                0.0       141.0             360.0   \n",
              "\n",
              "   Credit_History Property_Area Loan_Status (Approved)  \n",
              "0             1.0         Urban                      Y  \n",
              "1             1.0         Rural                      N  \n",
              "2             1.0         Urban                      Y  \n",
              "3             1.0         Urban                      Y  \n",
              "4             1.0         Urban                      Y  "
            ]
          },
          "execution_count": 2,
          "metadata": {},
          "output_type": "execute_result"
        }
      ],
      "source": [
        "data = pd.read_csv('loan_approved.csv')\n",
        "data.head()"
      ]
    },
    {
      "cell_type": "markdown",
      "id": "a520d460",
      "metadata": {
        "id": "a520d460"
      },
      "source": [
        "## Basic Checks"
      ]
    },
    {
      "cell_type": "code",
      "execution_count": null,
      "id": "5c3a7ccc",
      "metadata": {
        "id": "5c3a7ccc",
        "outputId": "b61a3935-f06d-4e49-8325-23404fa6849c"
      },
      "outputs": [
        {
          "name": "stdout",
          "output_type": "stream",
          "text": [
            "<class 'pandas.core.frame.DataFrame'>\n",
            "RangeIndex: 614 entries, 0 to 613\n",
            "Data columns (total 13 columns):\n",
            " #   Column                  Non-Null Count  Dtype  \n",
            "---  ------                  --------------  -----  \n",
            " 0   Loan_ID                 614 non-null    object \n",
            " 1   Gender                  601 non-null    object \n",
            " 2   Married                 611 non-null    object \n",
            " 3   Dependents              599 non-null    object \n",
            " 4   Education               614 non-null    object \n",
            " 5   Self_Employed           582 non-null    object \n",
            " 6   ApplicantIncome         614 non-null    int64  \n",
            " 7   CoapplicantIncome       614 non-null    float64\n",
            " 8   LoanAmount              592 non-null    float64\n",
            " 9   Loan_Amount_Term        600 non-null    float64\n",
            " 10  Credit_History          564 non-null    float64\n",
            " 11  Property_Area           614 non-null    object \n",
            " 12  Loan_Status (Approved)  614 non-null    object \n",
            "dtypes: float64(4), int64(1), object(8)\n",
            "memory usage: 62.5+ KB\n"
          ]
        }
      ],
      "source": [
        "data.info()"
      ]
    },
    {
      "cell_type": "code",
      "execution_count": null,
      "id": "c096447d",
      "metadata": {
        "id": "c096447d",
        "outputId": "2dfce4be-3833-4fa2-a42b-140ce719b483"
      },
      "outputs": [
        {
          "data": {
            "text/html": [
              "<div>\n",
              "<style scoped>\n",
              "    .dataframe tbody tr th:only-of-type {\n",
              "        vertical-align: middle;\n",
              "    }\n",
              "\n",
              "    .dataframe tbody tr th {\n",
              "        vertical-align: top;\n",
              "    }\n",
              "\n",
              "    .dataframe thead th {\n",
              "        text-align: right;\n",
              "    }\n",
              "</style>\n",
              "<table border=\"1\" class=\"dataframe\">\n",
              "  <thead>\n",
              "    <tr style=\"text-align: right;\">\n",
              "      <th></th>\n",
              "      <th>ApplicantIncome</th>\n",
              "      <th>CoapplicantIncome</th>\n",
              "      <th>LoanAmount</th>\n",
              "      <th>Loan_Amount_Term</th>\n",
              "      <th>Credit_History</th>\n",
              "    </tr>\n",
              "  </thead>\n",
              "  <tbody>\n",
              "    <tr>\n",
              "      <th>count</th>\n",
              "      <td>614.000000</td>\n",
              "      <td>614.000000</td>\n",
              "      <td>592.000000</td>\n",
              "      <td>600.00000</td>\n",
              "      <td>564.000000</td>\n",
              "    </tr>\n",
              "    <tr>\n",
              "      <th>mean</th>\n",
              "      <td>5403.459283</td>\n",
              "      <td>1621.245798</td>\n",
              "      <td>146.412162</td>\n",
              "      <td>342.00000</td>\n",
              "      <td>0.842199</td>\n",
              "    </tr>\n",
              "    <tr>\n",
              "      <th>std</th>\n",
              "      <td>6109.041673</td>\n",
              "      <td>2926.248369</td>\n",
              "      <td>85.587325</td>\n",
              "      <td>65.12041</td>\n",
              "      <td>0.364878</td>\n",
              "    </tr>\n",
              "    <tr>\n",
              "      <th>min</th>\n",
              "      <td>150.000000</td>\n",
              "      <td>0.000000</td>\n",
              "      <td>9.000000</td>\n",
              "      <td>12.00000</td>\n",
              "      <td>0.000000</td>\n",
              "    </tr>\n",
              "    <tr>\n",
              "      <th>25%</th>\n",
              "      <td>2877.500000</td>\n",
              "      <td>0.000000</td>\n",
              "      <td>100.000000</td>\n",
              "      <td>360.00000</td>\n",
              "      <td>1.000000</td>\n",
              "    </tr>\n",
              "    <tr>\n",
              "      <th>50%</th>\n",
              "      <td>3812.500000</td>\n",
              "      <td>1188.500000</td>\n",
              "      <td>128.000000</td>\n",
              "      <td>360.00000</td>\n",
              "      <td>1.000000</td>\n",
              "    </tr>\n",
              "    <tr>\n",
              "      <th>75%</th>\n",
              "      <td>5795.000000</td>\n",
              "      <td>2297.250000</td>\n",
              "      <td>168.000000</td>\n",
              "      <td>360.00000</td>\n",
              "      <td>1.000000</td>\n",
              "    </tr>\n",
              "    <tr>\n",
              "      <th>max</th>\n",
              "      <td>81000.000000</td>\n",
              "      <td>41667.000000</td>\n",
              "      <td>700.000000</td>\n",
              "      <td>480.00000</td>\n",
              "      <td>1.000000</td>\n",
              "    </tr>\n",
              "  </tbody>\n",
              "</table>\n",
              "</div>"
            ],
            "text/plain": [
              "       ApplicantIncome  CoapplicantIncome  LoanAmount  Loan_Amount_Term  \\\n",
              "count       614.000000         614.000000  592.000000         600.00000   \n",
              "mean       5403.459283        1621.245798  146.412162         342.00000   \n",
              "std        6109.041673        2926.248369   85.587325          65.12041   \n",
              "min         150.000000           0.000000    9.000000          12.00000   \n",
              "25%        2877.500000           0.000000  100.000000         360.00000   \n",
              "50%        3812.500000        1188.500000  128.000000         360.00000   \n",
              "75%        5795.000000        2297.250000  168.000000         360.00000   \n",
              "max       81000.000000       41667.000000  700.000000         480.00000   \n",
              "\n",
              "       Credit_History  \n",
              "count      564.000000  \n",
              "mean         0.842199  \n",
              "std          0.364878  \n",
              "min          0.000000  \n",
              "25%          1.000000  \n",
              "50%          1.000000  \n",
              "75%          1.000000  \n",
              "max          1.000000  "
            ]
          },
          "execution_count": 4,
          "metadata": {},
          "output_type": "execute_result"
        }
      ],
      "source": [
        "data.describe()"
      ]
    },
    {
      "cell_type": "code",
      "execution_count": null,
      "id": "14f958fd",
      "metadata": {
        "scrolled": true,
        "id": "14f958fd",
        "outputId": "f61d893f-3449-49fa-f189-6d6383536ce2"
      },
      "outputs": [
        {
          "data": {
            "text/html": [
              "<div>\n",
              "<style scoped>\n",
              "    .dataframe tbody tr th:only-of-type {\n",
              "        vertical-align: middle;\n",
              "    }\n",
              "\n",
              "    .dataframe tbody tr th {\n",
              "        vertical-align: top;\n",
              "    }\n",
              "\n",
              "    .dataframe thead th {\n",
              "        text-align: right;\n",
              "    }\n",
              "</style>\n",
              "<table border=\"1\" class=\"dataframe\">\n",
              "  <thead>\n",
              "    <tr style=\"text-align: right;\">\n",
              "      <th></th>\n",
              "      <th>Loan_ID</th>\n",
              "      <th>Gender</th>\n",
              "      <th>Married</th>\n",
              "      <th>Dependents</th>\n",
              "      <th>Education</th>\n",
              "      <th>Self_Employed</th>\n",
              "      <th>Property_Area</th>\n",
              "      <th>Loan_Status (Approved)</th>\n",
              "    </tr>\n",
              "  </thead>\n",
              "  <tbody>\n",
              "    <tr>\n",
              "      <th>count</th>\n",
              "      <td>614</td>\n",
              "      <td>601</td>\n",
              "      <td>611</td>\n",
              "      <td>599</td>\n",
              "      <td>614</td>\n",
              "      <td>582</td>\n",
              "      <td>614</td>\n",
              "      <td>614</td>\n",
              "    </tr>\n",
              "    <tr>\n",
              "      <th>unique</th>\n",
              "      <td>614</td>\n",
              "      <td>2</td>\n",
              "      <td>2</td>\n",
              "      <td>4</td>\n",
              "      <td>2</td>\n",
              "      <td>2</td>\n",
              "      <td>3</td>\n",
              "      <td>2</td>\n",
              "    </tr>\n",
              "    <tr>\n",
              "      <th>top</th>\n",
              "      <td>LP001002</td>\n",
              "      <td>Male</td>\n",
              "      <td>Yes</td>\n",
              "      <td>0</td>\n",
              "      <td>Graduate</td>\n",
              "      <td>No</td>\n",
              "      <td>Semiurban</td>\n",
              "      <td>Y</td>\n",
              "    </tr>\n",
              "    <tr>\n",
              "      <th>freq</th>\n",
              "      <td>1</td>\n",
              "      <td>489</td>\n",
              "      <td>398</td>\n",
              "      <td>345</td>\n",
              "      <td>480</td>\n",
              "      <td>500</td>\n",
              "      <td>233</td>\n",
              "      <td>422</td>\n",
              "    </tr>\n",
              "  </tbody>\n",
              "</table>\n",
              "</div>"
            ],
            "text/plain": [
              "         Loan_ID Gender Married Dependents Education Self_Employed  \\\n",
              "count        614    601     611        599       614           582   \n",
              "unique       614      2       2          4         2             2   \n",
              "top     LP001002   Male     Yes          0  Graduate            No   \n",
              "freq           1    489     398        345       480           500   \n",
              "\n",
              "       Property_Area Loan_Status (Approved)  \n",
              "count            614                    614  \n",
              "unique             3                      2  \n",
              "top        Semiurban                      Y  \n",
              "freq             233                    422  "
            ]
          },
          "execution_count": 5,
          "metadata": {},
          "output_type": "execute_result"
        }
      ],
      "source": [
        "data.describe(include = 'O')"
      ]
    },
    {
      "cell_type": "markdown",
      "id": "530a44ee",
      "metadata": {
        "id": "530a44ee"
      },
      "source": [
        "## EDA"
      ]
    },
    {
      "cell_type": "markdown",
      "id": "8afa08ba",
      "metadata": {
        "id": "8afa08ba"
      },
      "source": [
        "### Univariate Analysis"
      ]
    },
    {
      "cell_type": "code",
      "execution_count": null,
      "id": "2e149d16",
      "metadata": {
        "id": "2e149d16",
        "outputId": "08ed0de1-cc36-47e9-faf9-0de4a018c99e"
      },
      "outputs": [
        {
          "data": {
            "text/plain": [
              "array([360., 120., 240.,  nan, 180.,  60., 300., 480.,  36.,  84.,  12.])"
            ]
          },
          "execution_count": 6,
          "metadata": {},
          "output_type": "execute_result"
        }
      ],
      "source": [
        "data.Loan_Amount_Term.unique()"
      ]
    },
    {
      "cell_type": "code",
      "execution_count": null,
      "id": "c2caf0b8",
      "metadata": {
        "id": "c2caf0b8",
        "outputId": "7f005d28-6499-4691-8a4d-e83ddea2e4d7"
      },
      "outputs": [
        {
          "data": {
            "text/plain": [
              "Index(['Loan_ID', 'Gender', 'Married', 'Dependents', 'Education',\n",
              "       'Self_Employed', 'ApplicantIncome', 'CoapplicantIncome', 'LoanAmount',\n",
              "       'Loan_Amount_Term', 'Credit_History', 'Property_Area',\n",
              "       'Loan_Status (Approved)'],\n",
              "      dtype='object')"
            ]
          },
          "execution_count": 7,
          "metadata": {},
          "output_type": "execute_result"
        }
      ],
      "source": [
        "data.columns"
      ]
    },
    {
      "cell_type": "code",
      "execution_count": null,
      "id": "b496cd15",
      "metadata": {
        "id": "b496cd15"
      },
      "outputs": [],
      "source": [
        "data1 = data[['Gender', 'Married', 'Dependents', 'Education', 'Self_Employed', 'Loan_Amount_Term', 'Credit_History', 'Property_Area']]"
      ]
    },
    {
      "cell_type": "code",
      "execution_count": null,
      "id": "a25285e9",
      "metadata": {
        "id": "a25285e9",
        "outputId": "6af3db7a-b623-4167-8f09-ab6e0f3febe7"
      },
      "outputs": [
        {
          "data": {
            "text/html": [
              "<div>\n",
              "<style scoped>\n",
              "    .dataframe tbody tr th:only-of-type {\n",
              "        vertical-align: middle;\n",
              "    }\n",
              "\n",
              "    .dataframe tbody tr th {\n",
              "        vertical-align: top;\n",
              "    }\n",
              "\n",
              "    .dataframe thead th {\n",
              "        text-align: right;\n",
              "    }\n",
              "</style>\n",
              "<table border=\"1\" class=\"dataframe\">\n",
              "  <thead>\n",
              "    <tr style=\"text-align: right;\">\n",
              "      <th></th>\n",
              "      <th>Gender</th>\n",
              "      <th>Married</th>\n",
              "      <th>Dependents</th>\n",
              "      <th>Education</th>\n",
              "      <th>Self_Employed</th>\n",
              "      <th>Loan_Amount_Term</th>\n",
              "      <th>Credit_History</th>\n",
              "      <th>Property_Area</th>\n",
              "    </tr>\n",
              "  </thead>\n",
              "  <tbody>\n",
              "    <tr>\n",
              "      <th>0</th>\n",
              "      <td>Male</td>\n",
              "      <td>No</td>\n",
              "      <td>0</td>\n",
              "      <td>Graduate</td>\n",
              "      <td>No</td>\n",
              "      <td>360.0</td>\n",
              "      <td>1.0</td>\n",
              "      <td>Urban</td>\n",
              "    </tr>\n",
              "    <tr>\n",
              "      <th>1</th>\n",
              "      <td>Male</td>\n",
              "      <td>Yes</td>\n",
              "      <td>1</td>\n",
              "      <td>Graduate</td>\n",
              "      <td>No</td>\n",
              "      <td>360.0</td>\n",
              "      <td>1.0</td>\n",
              "      <td>Rural</td>\n",
              "    </tr>\n",
              "    <tr>\n",
              "      <th>2</th>\n",
              "      <td>Male</td>\n",
              "      <td>Yes</td>\n",
              "      <td>0</td>\n",
              "      <td>Graduate</td>\n",
              "      <td>Yes</td>\n",
              "      <td>360.0</td>\n",
              "      <td>1.0</td>\n",
              "      <td>Urban</td>\n",
              "    </tr>\n",
              "    <tr>\n",
              "      <th>3</th>\n",
              "      <td>Male</td>\n",
              "      <td>Yes</td>\n",
              "      <td>0</td>\n",
              "      <td>Not Graduate</td>\n",
              "      <td>No</td>\n",
              "      <td>360.0</td>\n",
              "      <td>1.0</td>\n",
              "      <td>Urban</td>\n",
              "    </tr>\n",
              "    <tr>\n",
              "      <th>4</th>\n",
              "      <td>Male</td>\n",
              "      <td>No</td>\n",
              "      <td>0</td>\n",
              "      <td>Graduate</td>\n",
              "      <td>No</td>\n",
              "      <td>360.0</td>\n",
              "      <td>1.0</td>\n",
              "      <td>Urban</td>\n",
              "    </tr>\n",
              "  </tbody>\n",
              "</table>\n",
              "</div>"
            ],
            "text/plain": [
              "  Gender Married Dependents     Education Self_Employed  Loan_Amount_Term  \\\n",
              "0   Male      No          0      Graduate            No             360.0   \n",
              "1   Male     Yes          1      Graduate            No             360.0   \n",
              "2   Male     Yes          0      Graduate           Yes             360.0   \n",
              "3   Male     Yes          0  Not Graduate            No             360.0   \n",
              "4   Male      No          0      Graduate            No             360.0   \n",
              "\n",
              "   Credit_History Property_Area  \n",
              "0             1.0         Urban  \n",
              "1             1.0         Rural  \n",
              "2             1.0         Urban  \n",
              "3             1.0         Urban  \n",
              "4             1.0         Urban  "
            ]
          },
          "execution_count": 9,
          "metadata": {},
          "output_type": "execute_result"
        }
      ],
      "source": [
        "data1.head()"
      ]
    },
    {
      "cell_type": "code",
      "execution_count": null,
      "id": "c1088530",
      "metadata": {
        "id": "c1088530"
      },
      "outputs": [],
      "source": [
        "data2 = data[['ApplicantIncome', 'CoapplicantIncome', 'LoanAmount']]"
      ]
    },
    {
      "cell_type": "code",
      "execution_count": null,
      "id": "9071c461",
      "metadata": {
        "id": "9071c461",
        "outputId": "f90a062a-3306-43c3-a4dd-7b7baff56e47"
      },
      "outputs": [
        {
          "data": {
            "text/html": [
              "<div>\n",
              "<style scoped>\n",
              "    .dataframe tbody tr th:only-of-type {\n",
              "        vertical-align: middle;\n",
              "    }\n",
              "\n",
              "    .dataframe tbody tr th {\n",
              "        vertical-align: top;\n",
              "    }\n",
              "\n",
              "    .dataframe thead th {\n",
              "        text-align: right;\n",
              "    }\n",
              "</style>\n",
              "<table border=\"1\" class=\"dataframe\">\n",
              "  <thead>\n",
              "    <tr style=\"text-align: right;\">\n",
              "      <th></th>\n",
              "      <th>ApplicantIncome</th>\n",
              "      <th>CoapplicantIncome</th>\n",
              "      <th>LoanAmount</th>\n",
              "    </tr>\n",
              "  </thead>\n",
              "  <tbody>\n",
              "    <tr>\n",
              "      <th>0</th>\n",
              "      <td>5849</td>\n",
              "      <td>0.0</td>\n",
              "      <td>NaN</td>\n",
              "    </tr>\n",
              "    <tr>\n",
              "      <th>1</th>\n",
              "      <td>4583</td>\n",
              "      <td>1508.0</td>\n",
              "      <td>128.0</td>\n",
              "    </tr>\n",
              "    <tr>\n",
              "      <th>2</th>\n",
              "      <td>3000</td>\n",
              "      <td>0.0</td>\n",
              "      <td>66.0</td>\n",
              "    </tr>\n",
              "    <tr>\n",
              "      <th>3</th>\n",
              "      <td>2583</td>\n",
              "      <td>2358.0</td>\n",
              "      <td>120.0</td>\n",
              "    </tr>\n",
              "    <tr>\n",
              "      <th>4</th>\n",
              "      <td>6000</td>\n",
              "      <td>0.0</td>\n",
              "      <td>141.0</td>\n",
              "    </tr>\n",
              "  </tbody>\n",
              "</table>\n",
              "</div>"
            ],
            "text/plain": [
              "   ApplicantIncome  CoapplicantIncome  LoanAmount\n",
              "0             5849                0.0         NaN\n",
              "1             4583             1508.0       128.0\n",
              "2             3000                0.0        66.0\n",
              "3             2583             2358.0       120.0\n",
              "4             6000                0.0       141.0"
            ]
          },
          "execution_count": 11,
          "metadata": {},
          "output_type": "execute_result"
        }
      ],
      "source": [
        "data2.head()"
      ]
    },
    {
      "cell_type": "code",
      "execution_count": null,
      "id": "1390fd2c",
      "metadata": {
        "scrolled": true,
        "id": "1390fd2c",
        "outputId": "11cbb7a2-0fda-4558-a797-1819d37eddfb"
      },
      "outputs": [
        {
          "data": {
            "image/png": "[encoded data removed]",
            "text/plain": [
              "<Figure size 1000x1000 with 8 Axes>"
            ]
          },
          "metadata": {},
          "output_type": "display_data"
        }
      ],
      "source": [
        "plt.figure(figsize = (10, 10))\n",
        "plotnumber = 1\n",
        "\n",
        "for i in data1:\n",
        "    plt.subplot(3, 3, plotnumber)\n",
        "    sns.countplot(x = data1[i])\n",
        "    plotnumber = plotnumber + 1\n",
        "\n",
        "plt.tight_layout()"
      ]
    },
    {
      "cell_type": "code",
      "execution_count": null,
      "id": "c2c65c4b",
      "metadata": {
        "id": "c2c65c4b",
        "outputId": "8fc89539-06cf-4bbc-ce92-e1b076a7d99c"
      },
      "outputs": [
        {
          "data": {
            "image/png": "[encoded data removed]",
            "text/plain": [
              "<Figure size 1000x1000 with 3 Axes>"
            ]
          },
          "metadata": {},
          "output_type": "display_data"
        }
      ],
      "source": [
        "plt.figure(figsize = (10, 10))\n",
        "plotnumber = 1\n",
        "\n",
        "for i in data2:\n",
        "    plt.subplot(3, 3, plotnumber)\n",
        "    sns.histplot(x = data2[i])\n",
        "    plotnumber = plotnumber + 1\n",
        "\n",
        "plt.tight_layout()"
      ]
    },
    {
      "cell_type": "markdown",
      "id": "d240fc14",
      "metadata": {
        "id": "d240fc14"
      },
      "source": [
        "## Bivariate Analysis"
      ]
    },
    {
      "cell_type": "code",
      "execution_count": null,
      "id": "595b20e7",
      "metadata": {
        "id": "595b20e7"
      },
      "outputs": [],
      "source": [
        "data.rename(columns = {'Loan_Status (Approved)' : 'Loan_Status'}, inplace = True)"
      ]
    },
    {
      "cell_type": "code",
      "execution_count": null,
      "id": "44431c97",
      "metadata": {
        "id": "44431c97",
        "outputId": "06717219-7714-4175-ef6d-45c9065d7d9b"
      },
      "outputs": [
        {
          "data": {
            "text/plain": [
              "Index(['Loan_ID', 'Gender', 'Married', 'Dependents', 'Education',\n",
              "       'Self_Employed', 'ApplicantIncome', 'CoapplicantIncome', 'LoanAmount',\n",
              "       'Loan_Amount_Term', 'Credit_History', 'Property_Area', 'Loan_Status'],\n",
              "      dtype='object')"
            ]
          },
          "execution_count": 15,
          "metadata": {},
          "output_type": "execute_result"
        }
      ],
      "source": [
        "data.columns"
      ]
    },
    {
      "cell_type": "code",
      "execution_count": null,
      "id": "2c004ce1",
      "metadata": {
        "id": "2c004ce1",
        "outputId": "db5e0ea8-e408-4e49-925e-a5b292ad705d"
      },
      "outputs": [
        {
          "data": {
            "image/png": "[encoded data removed]",
            "text/plain": [
              "<Figure size 1000x1000 with 8 Axes>"
            ]
          },
          "metadata": {},
          "output_type": "display_data"
        }
      ],
      "source": [
        "plt.figure(figsize = (10, 10))\n",
        "plotnumber = 1\n",
        "\n",
        "for i in data1:\n",
        "    plt.subplot(3, 3, plotnumber)\n",
        "    sns.countplot(x = data1[i], hue = data['Loan_Status'])\n",
        "    plotnumber = plotnumber + 1\n",
        "\n",
        "plt.tight_layout()"
      ]
    },
    {
      "cell_type": "code",
      "execution_count": null,
      "id": "00f03743",
      "metadata": {
        "id": "00f03743",
        "outputId": "ca77fee8-b8af-482e-eecb-bee0d12aa10f"
      },
      "outputs": [
        {
          "data": {
            "image/png": "[encoded data removed]",
            "text/plain": [
              "<Figure size 1000x1000 with 3 Axes>"
            ]
          },
          "metadata": {},
          "output_type": "display_data"
        }
      ],
      "source": [
        "plt.figure(figsize = (10, 10))\n",
        "plotnumber = 1\n",
        "\n",
        "for i in data2:\n",
        "    plt.subplot(3, 3, plotnumber)\n",
        "    sns.histplot(x = data2[i], hue = data['Loan_Status'])\n",
        "    plotnumber = plotnumber + 1\n",
        "\n",
        "plt.tight_layout()"
      ]
    },
    {
      "cell_type": "markdown",
      "id": "09b07ec1",
      "metadata": {
        "id": "09b07ec1"
      },
      "source": [
        "## Data Preprocessing"
      ]
    },
    {
      "cell_type": "code",
      "execution_count": null,
      "id": "5e16d18a",
      "metadata": {
        "scrolled": true,
        "id": "5e16d18a",
        "outputId": "8135894b-85f7-46a4-bc91-5265d55ab6d5"
      },
      "outputs": [
        {
          "data": {
            "text/plain": [
              "Loan_ID               0\n",
              "Gender               13\n",
              "Married               3\n",
              "Dependents           15\n",
              "Education             0\n",
              "Self_Employed        32\n",
              "ApplicantIncome       0\n",
              "CoapplicantIncome     0\n",
              "LoanAmount           22\n",
              "Loan_Amount_Term     14\n",
              "Credit_History       50\n",
              "Property_Area         0\n",
              "Loan_Status           0\n",
              "dtype: int64"
            ]
          },
          "execution_count": 18,
          "metadata": {},
          "output_type": "execute_result"
        }
      ],
      "source": [
        "data.isnull().sum()"
      ]
    },
    {
      "cell_type": "code",
      "execution_count": null,
      "id": "42244e36",
      "metadata": {
        "id": "42244e36",
        "outputId": "868ae202-11c9-4641-e425-0bf0363ccd31"
      },
      "outputs": [
        {
          "data": {
            "text/plain": [
              "Male      489\n",
              "Female    112\n",
              "Name: Gender, dtype: int64"
            ]
          },
          "execution_count": 19,
          "metadata": {},
          "output_type": "execute_result"
        }
      ],
      "source": [
        "data.Gender.value_counts()"
      ]
    },
    {
      "cell_type": "code",
      "execution_count": null,
      "id": "fe0a52de",
      "metadata": {
        "id": "fe0a52de",
        "outputId": "eb6932d9-f81a-431c-b59e-3027e9c99920"
      },
      "outputs": [
        {
          "data": {
            "text/html": [
              "<div>\n",
              "<style scoped>\n",
              "    .dataframe tbody tr th:only-of-type {\n",
              "        vertical-align: middle;\n",
              "    }\n",
              "\n",
              "    .dataframe tbody tr th {\n",
              "        vertical-align: top;\n",
              "    }\n",
              "\n",
              "    .dataframe thead th {\n",
              "        text-align: right;\n",
              "    }\n",
              "</style>\n",
              "<table border=\"1\" class=\"dataframe\">\n",
              "  <thead>\n",
              "    <tr style=\"text-align: right;\">\n",
              "      <th></th>\n",
              "      <th>Loan_ID</th>\n",
              "      <th>Gender</th>\n",
              "      <th>Married</th>\n",
              "      <th>Dependents</th>\n",
              "      <th>Education</th>\n",
              "      <th>Self_Employed</th>\n",
              "      <th>ApplicantIncome</th>\n",
              "      <th>CoapplicantIncome</th>\n",
              "      <th>LoanAmount</th>\n",
              "      <th>Loan_Amount_Term</th>\n",
              "      <th>Credit_History</th>\n",
              "      <th>Property_Area</th>\n",
              "      <th>Loan_Status</th>\n",
              "    </tr>\n",
              "  </thead>\n",
              "  <tbody>\n",
              "    <tr>\n",
              "      <th>23</th>\n",
              "      <td>LP001050</td>\n",
              "      <td>NaN</td>\n",
              "      <td>Yes</td>\n",
              "      <td>2</td>\n",
              "      <td>Not Graduate</td>\n",
              "      <td>No</td>\n",
              "      <td>3365</td>\n",
              "      <td>1917.0</td>\n",
              "      <td>112.0</td>\n",
              "      <td>360.0</td>\n",
              "      <td>0.0</td>\n",
              "      <td>Rural</td>\n",
              "      <td>N</td>\n",
              "    </tr>\n",
              "    <tr>\n",
              "      <th>126</th>\n",
              "      <td>LP001448</td>\n",
              "      <td>NaN</td>\n",
              "      <td>Yes</td>\n",
              "      <td>3+</td>\n",
              "      <td>Graduate</td>\n",
              "      <td>No</td>\n",
              "      <td>23803</td>\n",
              "      <td>0.0</td>\n",
              "      <td>370.0</td>\n",
              "      <td>360.0</td>\n",
              "      <td>1.0</td>\n",
              "      <td>Rural</td>\n",
              "      <td>Y</td>\n",
              "    </tr>\n",
              "    <tr>\n",
              "      <th>171</th>\n",
              "      <td>LP001585</td>\n",
              "      <td>NaN</td>\n",
              "      <td>Yes</td>\n",
              "      <td>3+</td>\n",
              "      <td>Graduate</td>\n",
              "      <td>No</td>\n",
              "      <td>51763</td>\n",
              "      <td>0.0</td>\n",
              "      <td>700.0</td>\n",
              "      <td>300.0</td>\n",
              "      <td>1.0</td>\n",
              "      <td>Urban</td>\n",
              "      <td>Y</td>\n",
              "    </tr>\n",
              "    <tr>\n",
              "      <th>188</th>\n",
              "      <td>LP001644</td>\n",
              "      <td>NaN</td>\n",
              "      <td>Yes</td>\n",
              "      <td>0</td>\n",
              "      <td>Graduate</td>\n",
              "      <td>Yes</td>\n",
              "      <td>674</td>\n",
              "      <td>5296.0</td>\n",
              "      <td>168.0</td>\n",
              "      <td>360.0</td>\n",
              "      <td>1.0</td>\n",
              "      <td>Rural</td>\n",
              "      <td>Y</td>\n",
              "    </tr>\n",
              "    <tr>\n",
              "      <th>314</th>\n",
              "      <td>LP002024</td>\n",
              "      <td>NaN</td>\n",
              "      <td>Yes</td>\n",
              "      <td>0</td>\n",
              "      <td>Graduate</td>\n",
              "      <td>No</td>\n",
              "      <td>2473</td>\n",
              "      <td>1843.0</td>\n",
              "      <td>159.0</td>\n",
              "      <td>360.0</td>\n",
              "      <td>1.0</td>\n",
              "      <td>Rural</td>\n",
              "      <td>N</td>\n",
              "    </tr>\n",
              "    <tr>\n",
              "      <th>334</th>\n",
              "      <td>LP002103</td>\n",
              "      <td>NaN</td>\n",
              "      <td>Yes</td>\n",
              "      <td>1</td>\n",
              "      <td>Graduate</td>\n",
              "      <td>Yes</td>\n",
              "      <td>9833</td>\n",
              "      <td>1833.0</td>\n",
              "      <td>182.0</td>\n",
              "      <td>180.0</td>\n",
              "      <td>1.0</td>\n",
              "      <td>Urban</td>\n",
              "      <td>Y</td>\n",
              "    </tr>\n",
              "    <tr>\n",
              "      <th>460</th>\n",
              "      <td>LP002478</td>\n",
              "      <td>NaN</td>\n",
              "      <td>Yes</td>\n",
              "      <td>0</td>\n",
              "      <td>Graduate</td>\n",
              "      <td>Yes</td>\n",
              "      <td>2083</td>\n",
              "      <td>4083.0</td>\n",
              "      <td>160.0</td>\n",
              "      <td>360.0</td>\n",
              "      <td>NaN</td>\n",
              "      <td>Semiurban</td>\n",
              "      <td>Y</td>\n",
              "    </tr>\n",
              "    <tr>\n",
              "      <th>467</th>\n",
              "      <td>LP002501</td>\n",
              "      <td>NaN</td>\n",
              "      <td>Yes</td>\n",
              "      <td>0</td>\n",
              "      <td>Graduate</td>\n",
              "      <td>No</td>\n",
              "      <td>16692</td>\n",
              "      <td>0.0</td>\n",
              "      <td>110.0</td>\n",
              "      <td>360.0</td>\n",
              "      <td>1.0</td>\n",
              "      <td>Semiurban</td>\n",
              "      <td>Y</td>\n",
              "    </tr>\n",
              "    <tr>\n",
              "      <th>477</th>\n",
              "      <td>LP002530</td>\n",
              "      <td>NaN</td>\n",
              "      <td>Yes</td>\n",
              "      <td>2</td>\n",
              "      <td>Graduate</td>\n",
              "      <td>No</td>\n",
              "      <td>2873</td>\n",
              "      <td>1872.0</td>\n",
              "      <td>132.0</td>\n",
              "      <td>360.0</td>\n",
              "      <td>0.0</td>\n",
              "      <td>Semiurban</td>\n",
              "      <td>N</td>\n",
              "    </tr>\n",
              "    <tr>\n",
              "      <th>507</th>\n",
              "      <td>LP002625</td>\n",
              "      <td>NaN</td>\n",
              "      <td>No</td>\n",
              "      <td>0</td>\n",
              "      <td>Graduate</td>\n",
              "      <td>No</td>\n",
              "      <td>3583</td>\n",
              "      <td>0.0</td>\n",
              "      <td>96.0</td>\n",
              "      <td>360.0</td>\n",
              "      <td>1.0</td>\n",
              "      <td>Urban</td>\n",
              "      <td>N</td>\n",
              "    </tr>\n",
              "    <tr>\n",
              "      <th>576</th>\n",
              "      <td>LP002872</td>\n",
              "      <td>NaN</td>\n",
              "      <td>Yes</td>\n",
              "      <td>0</td>\n",
              "      <td>Graduate</td>\n",
              "      <td>No</td>\n",
              "      <td>3087</td>\n",
              "      <td>2210.0</td>\n",
              "      <td>136.0</td>\n",
              "      <td>360.0</td>\n",
              "      <td>0.0</td>\n",
              "      <td>Semiurban</td>\n",
              "      <td>N</td>\n",
              "    </tr>\n",
              "    <tr>\n",
              "      <th>588</th>\n",
              "      <td>LP002925</td>\n",
              "      <td>NaN</td>\n",
              "      <td>No</td>\n",
              "      <td>0</td>\n",
              "      <td>Graduate</td>\n",
              "      <td>No</td>\n",
              "      <td>4750</td>\n",
              "      <td>0.0</td>\n",
              "      <td>94.0</td>\n",
              "      <td>360.0</td>\n",
              "      <td>1.0</td>\n",
              "      <td>Semiurban</td>\n",
              "      <td>Y</td>\n",
              "    </tr>\n",
              "    <tr>\n",
              "      <th>592</th>\n",
              "      <td>LP002933</td>\n",
              "      <td>NaN</td>\n",
              "      <td>No</td>\n",
              "      <td>3+</td>\n",
              "      <td>Graduate</td>\n",
              "      <td>Yes</td>\n",
              "      <td>9357</td>\n",
              "      <td>0.0</td>\n",
              "      <td>292.0</td>\n",
              "      <td>360.0</td>\n",
              "      <td>1.0</td>\n",
              "      <td>Semiurban</td>\n",
              "      <td>Y</td>\n",
              "    </tr>\n",
              "  </tbody>\n",
              "</table>\n",
              "</div>"
            ],
            "text/plain": [
              "      Loan_ID Gender Married Dependents     Education Self_Employed  \\\n",
              "23   LP001050    NaN     Yes          2  Not Graduate            No   \n",
              "126  LP001448    NaN     Yes         3+      Graduate            No   \n",
              "171  LP001585    NaN     Yes         3+      Graduate            No   \n",
              "188  LP001644    NaN     Yes          0      Graduate           Yes   \n",
              "314  LP002024    NaN     Yes          0      Graduate            No   \n",
              "334  LP002103    NaN     Yes          1      Graduate           Yes   \n",
              "460  LP002478    NaN     Yes          0      Graduate           Yes   \n",
              "467  LP002501    NaN     Yes          0      Graduate            No   \n",
              "477  LP002530    NaN     Yes          2      Graduate            No   \n",
              "507  LP002625    NaN      No          0      Graduate            No   \n",
              "576  LP002872    NaN     Yes          0      Graduate            No   \n",
              "588  LP002925    NaN      No          0      Graduate            No   \n",
              "592  LP002933    NaN      No         3+      Graduate           Yes   \n",
              "\n",
              "     ApplicantIncome  CoapplicantIncome  LoanAmount  Loan_Amount_Term  \\\n",
              "23              3365             1917.0       112.0             360.0   \n",
              "126            23803                0.0       370.0             360.0   \n",
              "171            51763                0.0       700.0             300.0   \n",
              "188              674             5296.0       168.0             360.0   \n",
              "314             2473             1843.0       159.0             360.0   \n",
              "334             9833             1833.0       182.0             180.0   \n",
              "460             2083             4083.0       160.0             360.0   \n",
              "467            16692                0.0       110.0             360.0   \n",
              "477             2873             1872.0       132.0             360.0   \n",
              "507             3583                0.0        96.0             360.0   \n",
              "576             3087             2210.0       136.0             360.0   \n",
              "588             4750                0.0        94.0             360.0   \n",
              "592             9357                0.0       292.0             360.0   \n",
              "\n",
              "     Credit_History Property_Area Loan_Status  \n",
              "23              0.0         Rural           N  \n",
              "126             1.0         Rural           Y  \n",
              "171             1.0         Urban           Y  \n",
              "188             1.0         Rural           Y  \n",
              "314             1.0         Rural           N  \n",
              "334             1.0         Urban           Y  \n",
              "460             NaN     Semiurban           Y  \n",
              "467             1.0     Semiurban           Y  \n",
              "477             0.0     Semiurban           N  \n",
              "507             1.0         Urban           N  \n",
              "576             0.0     Semiurban           N  \n",
              "588             1.0     Semiurban           Y  \n",
              "592             1.0     Semiurban           Y  "
            ]
          },
          "execution_count": 20,
          "metadata": {},
          "output_type": "execute_result"
        }
      ],
      "source": [
        "data.loc[data.Gender.isnull()]"
      ]
    },
    {
      "cell_type": "code",
      "execution_count": null,
      "id": "4a9a991d",
      "metadata": {
        "id": "4a9a991d",
        "outputId": "f46ec3df-3c27-411f-9b69-7410266275b5"
      },
      "outputs": [
        {
          "data": {
            "text/plain": [
              "23     NaN\n",
              "126    NaN\n",
              "171    NaN\n",
              "188    NaN\n",
              "314    NaN\n",
              "334    NaN\n",
              "460    NaN\n",
              "467    NaN\n",
              "477    NaN\n",
              "507    NaN\n",
              "576    NaN\n",
              "588    NaN\n",
              "592    NaN\n",
              "Name: Gender, dtype: object"
            ]
          },
          "execution_count": 21,
          "metadata": {},
          "output_type": "execute_result"
        }
      ],
      "source": [
        "data.loc[data.Gender.isnull(), 'Gender']"
      ]
    },
    {
      "cell_type": "code",
      "execution_count": null,
      "id": "edd1667f",
      "metadata": {
        "id": "edd1667f"
      },
      "outputs": [],
      "source": [
        "data.loc[data.Gender.isnull(), 'Gender'] = 'Male'"
      ]
    },
    {
      "cell_type": "code",
      "execution_count": null,
      "id": "ef768ae5",
      "metadata": {
        "id": "ef768ae5",
        "outputId": "5be89089-4916-4000-847c-9f9294c4e25e"
      },
      "outputs": [
        {
          "data": {
            "text/plain": [
              "0"
            ]
          },
          "execution_count": 23,
          "metadata": {},
          "output_type": "execute_result"
        }
      ],
      "source": [
        "data.Gender.isnull().sum()"
      ]
    },
    {
      "cell_type": "code",
      "execution_count": null,
      "id": "bcca3b1d",
      "metadata": {
        "id": "bcca3b1d",
        "outputId": "1bf008e0-296d-47d0-d6dd-d8dad758dcf7"
      },
      "outputs": [
        {
          "data": {
            "text/plain": [
              "Yes    398\n",
              "No     213\n",
              "Name: Married, dtype: int64"
            ]
          },
          "execution_count": 24,
          "metadata": {},
          "output_type": "execute_result"
        }
      ],
      "source": [
        "data.Married.value_counts()"
      ]
    },
    {
      "cell_type": "code",
      "execution_count": null,
      "id": "bab90d78",
      "metadata": {
        "id": "bab90d78"
      },
      "outputs": [],
      "source": [
        "data.loc[data.Married.isnull(), 'Married'] = 'No'"
      ]
    },
    {
      "cell_type": "code",
      "execution_count": null,
      "id": "f83fd1a2",
      "metadata": {
        "id": "f83fd1a2",
        "outputId": "da6bec61-ea2c-44bf-8c17-0c7bfe401f7a"
      },
      "outputs": [
        {
          "data": {
            "text/plain": [
              "0"
            ]
          },
          "execution_count": 26,
          "metadata": {},
          "output_type": "execute_result"
        }
      ],
      "source": [
        "data.Married.isnull().sum()"
      ]
    },
    {
      "cell_type": "code",
      "execution_count": null,
      "id": "e6fa9547",
      "metadata": {
        "id": "e6fa9547",
        "outputId": "b772b609-031b-4e4f-ff86-138115347d10"
      },
      "outputs": [
        {
          "data": {
            "text/plain": [
              "0     345\n",
              "1     102\n",
              "2     101\n",
              "3+     51\n",
              "Name: Dependents, dtype: int64"
            ]
          },
          "execution_count": 27,
          "metadata": {},
          "output_type": "execute_result"
        }
      ],
      "source": [
        "data.Dependents.value_counts()"
      ]
    },
    {
      "cell_type": "code",
      "execution_count": null,
      "id": "f265ce2f",
      "metadata": {
        "id": "f265ce2f"
      },
      "outputs": [],
      "source": [
        "data.loc[data.Dependents.isnull(), 'Dependents'] = '3+'"
      ]
    },
    {
      "cell_type": "code",
      "execution_count": null,
      "id": "acdc02ff",
      "metadata": {
        "id": "acdc02ff",
        "outputId": "851b197c-08c0-407b-fa5b-b789d56c19f7"
      },
      "outputs": [
        {
          "data": {
            "text/plain": [
              "0"
            ]
          },
          "execution_count": 29,
          "metadata": {},
          "output_type": "execute_result"
        }
      ],
      "source": [
        "data.Dependents.isnull().sum()"
      ]
    },
    {
      "cell_type": "code",
      "execution_count": null,
      "id": "e4db2662",
      "metadata": {
        "id": "e4db2662",
        "outputId": "c087c164-c017-4363-83e2-74ff91f81536"
      },
      "outputs": [
        {
          "data": {
            "text/plain": [
              "No     500\n",
              "Yes     82\n",
              "Name: Self_Employed, dtype: int64"
            ]
          },
          "execution_count": 30,
          "metadata": {},
          "output_type": "execute_result"
        }
      ],
      "source": [
        "data.Self_Employed.value_counts()"
      ]
    },
    {
      "cell_type": "code",
      "execution_count": null,
      "id": "0680f43c",
      "metadata": {
        "id": "0680f43c"
      },
      "outputs": [],
      "source": [
        "data.loc[data.Self_Employed.isnull(), 'Self_Employed'] = 'No'"
      ]
    },
    {
      "cell_type": "code",
      "execution_count": null,
      "id": "34f9d41b",
      "metadata": {
        "id": "34f9d41b",
        "outputId": "cf2faf1e-70d4-48b0-9711-557336032539"
      },
      "outputs": [
        {
          "data": {
            "text/plain": [
              "128.0"
            ]
          },
          "execution_count": 32,
          "metadata": {},
          "output_type": "execute_result"
        }
      ],
      "source": [
        "np.median(data.LoanAmount.dropna())"
      ]
    },
    {
      "cell_type": "code",
      "execution_count": null,
      "id": "1ec3e04a",
      "metadata": {
        "id": "1ec3e04a"
      },
      "outputs": [],
      "source": [
        "data.loc[data.LoanAmount.isnull(), 'LoanAmount'] = np.median(data.LoanAmount.dropna())"
      ]
    },
    {
      "cell_type": "code",
      "execution_count": null,
      "id": "a748d8d7",
      "metadata": {
        "id": "a748d8d7",
        "outputId": "30239cd7-19c0-43a9-b916-af171da3a32f"
      },
      "outputs": [
        {
          "data": {
            "text/plain": [
              "360.0    512\n",
              "180.0     44\n",
              "480.0     15\n",
              "300.0     13\n",
              "240.0      4\n",
              "84.0       4\n",
              "120.0      3\n",
              "60.0       2\n",
              "36.0       2\n",
              "12.0       1\n",
              "Name: Loan_Amount_Term, dtype: int64"
            ]
          },
          "execution_count": 34,
          "metadata": {},
          "output_type": "execute_result"
        }
      ],
      "source": [
        "data.Loan_Amount_Term.value_counts()"
      ]
    },
    {
      "cell_type": "code",
      "execution_count": null,
      "id": "a7efa3d8",
      "metadata": {
        "id": "a7efa3d8"
      },
      "outputs": [],
      "source": [
        "data.loc[data.Loan_Amount_Term.isnull(), 'Loan_Amount_Term'] = 360.0"
      ]
    },
    {
      "cell_type": "code",
      "execution_count": null,
      "id": "31c27bcb",
      "metadata": {
        "id": "31c27bcb",
        "outputId": "9e9d18c7-02cc-4ddf-86a5-7aecd70bf188"
      },
      "outputs": [
        {
          "data": {
            "text/plain": [
              "1.0    475\n",
              "0.0     89\n",
              "Name: Credit_History, dtype: int64"
            ]
          },
          "execution_count": 36,
          "metadata": {},
          "output_type": "execute_result"
        }
      ],
      "source": [
        "data.Credit_History.value_counts()"
      ]
    },
    {
      "cell_type": "code",
      "execution_count": null,
      "id": "f7d3e89d",
      "metadata": {
        "id": "f7d3e89d"
      },
      "outputs": [],
      "source": [
        "data.loc[data.Credit_History.isnull(), 'Credit_History'] = 0.0"
      ]
    },
    {
      "cell_type": "code",
      "execution_count": null,
      "id": "d4de0272",
      "metadata": {
        "id": "d4de0272",
        "outputId": "d8a9c2c2-8b16-48b6-e8e2-9c166ec1cd01"
      },
      "outputs": [
        {
          "data": {
            "text/plain": [
              "Loan_ID              0\n",
              "Gender               0\n",
              "Married              0\n",
              "Dependents           0\n",
              "Education            0\n",
              "Self_Employed        0\n",
              "ApplicantIncome      0\n",
              "CoapplicantIncome    0\n",
              "LoanAmount           0\n",
              "Loan_Amount_Term     0\n",
              "Credit_History       0\n",
              "Property_Area        0\n",
              "Loan_Status          0\n",
              "dtype: int64"
            ]
          },
          "execution_count": 38,
          "metadata": {},
          "output_type": "execute_result"
        }
      ],
      "source": [
        "data.isnull().sum()"
      ]
    },
    {
      "cell_type": "markdown",
      "id": "bda45e51",
      "metadata": {
        "id": "bda45e51"
      },
      "source": [
        "## Conversion of categorical data into numerical data"
      ]
    },
    {
      "cell_type": "code",
      "execution_count": null,
      "id": "eaa278c1",
      "metadata": {
        "id": "eaa278c1",
        "outputId": "bab06a15-1d4e-460f-e142-858f5f2cd72e"
      },
      "outputs": [
        {
          "name": "stdout",
          "output_type": "stream",
          "text": [
            "<class 'pandas.core.frame.DataFrame'>\n",
            "RangeIndex: 614 entries, 0 to 613\n",
            "Data columns (total 13 columns):\n",
            " #   Column             Non-Null Count  Dtype  \n",
            "---  ------             --------------  -----  \n",
            " 0   Loan_ID            614 non-null    object \n",
            " 1   Gender             614 non-null    object \n",
            " 2   Married            614 non-null    object \n",
            " 3   Dependents         614 non-null    object \n",
            " 4   Education          614 non-null    object \n",
            " 5   Self_Employed      614 non-null    object \n",
            " 6   ApplicantIncome    614 non-null    int64  \n",
            " 7   CoapplicantIncome  614 non-null    float64\n",
            " 8   LoanAmount         614 non-null    float64\n",
            " 9   Loan_Amount_Term   614 non-null    float64\n",
            " 10  Credit_History     614 non-null    float64\n",
            " 11  Property_Area      614 non-null    object \n",
            " 12  Loan_Status        614 non-null    object \n",
            "dtypes: float64(4), int64(1), object(8)\n",
            "memory usage: 62.5+ KB\n"
          ]
        }
      ],
      "source": [
        "data.info()"
      ]
    },
    {
      "cell_type": "code",
      "execution_count": null,
      "id": "46acc51c",
      "metadata": {
        "id": "46acc51c"
      },
      "outputs": [],
      "source": [
        "from sklearn.preprocessing import LabelEncoder\n",
        "le = LabelEncoder()"
      ]
    },
    {
      "cell_type": "code",
      "execution_count": null,
      "id": "8c28c62f",
      "metadata": {
        "id": "8c28c62f"
      },
      "outputs": [],
      "source": [
        "data.Gender = le.fit_transform(data.Gender)"
      ]
    },
    {
      "cell_type": "code",
      "execution_count": null,
      "id": "116c9de5",
      "metadata": {
        "id": "116c9de5",
        "outputId": "8610bc02-544f-471f-cf41-46efb18b64a7"
      },
      "outputs": [
        {
          "data": {
            "text/html": [
              "<div>\n",
              "<style scoped>\n",
              "    .dataframe tbody tr th:only-of-type {\n",
              "        vertical-align: middle;\n",
              "    }\n",
              "\n",
              "    .dataframe tbody tr th {\n",
              "        vertical-align: top;\n",
              "    }\n",
              "\n",
              "    .dataframe thead th {\n",
              "        text-align: right;\n",
              "    }\n",
              "</style>\n",
              "<table border=\"1\" class=\"dataframe\">\n",
              "  <thead>\n",
              "    <tr style=\"text-align: right;\">\n",
              "      <th></th>\n",
              "      <th>Loan_ID</th>\n",
              "      <th>Gender</th>\n",
              "      <th>Married</th>\n",
              "      <th>Dependents</th>\n",
              "      <th>Education</th>\n",
              "      <th>Self_Employed</th>\n",
              "      <th>ApplicantIncome</th>\n",
              "      <th>CoapplicantIncome</th>\n",
              "      <th>LoanAmount</th>\n",
              "      <th>Loan_Amount_Term</th>\n",
              "      <th>Credit_History</th>\n",
              "      <th>Property_Area</th>\n",
              "      <th>Loan_Status</th>\n",
              "    </tr>\n",
              "  </thead>\n",
              "  <tbody>\n",
              "    <tr>\n",
              "      <th>0</th>\n",
              "      <td>LP001002</td>\n",
              "      <td>1</td>\n",
              "      <td>No</td>\n",
              "      <td>0</td>\n",
              "      <td>Graduate</td>\n",
              "      <td>No</td>\n",
              "      <td>5849</td>\n",
              "      <td>0.0</td>\n",
              "      <td>128.0</td>\n",
              "      <td>360.0</td>\n",
              "      <td>1.0</td>\n",
              "      <td>Urban</td>\n",
              "      <td>Y</td>\n",
              "    </tr>\n",
              "    <tr>\n",
              "      <th>1</th>\n",
              "      <td>LP001003</td>\n",
              "      <td>1</td>\n",
              "      <td>Yes</td>\n",
              "      <td>1</td>\n",
              "      <td>Graduate</td>\n",
              "      <td>No</td>\n",
              "      <td>4583</td>\n",
              "      <td>1508.0</td>\n",
              "      <td>128.0</td>\n",
              "      <td>360.0</td>\n",
              "      <td>1.0</td>\n",
              "      <td>Rural</td>\n",
              "      <td>N</td>\n",
              "    </tr>\n",
              "    <tr>\n",
              "      <th>2</th>\n",
              "      <td>LP001005</td>\n",
              "      <td>1</td>\n",
              "      <td>Yes</td>\n",
              "      <td>0</td>\n",
              "      <td>Graduate</td>\n",
              "      <td>Yes</td>\n",
              "      <td>3000</td>\n",
              "      <td>0.0</td>\n",
              "      <td>66.0</td>\n",
              "      <td>360.0</td>\n",
              "      <td>1.0</td>\n",
              "      <td>Urban</td>\n",
              "      <td>Y</td>\n",
              "    </tr>\n",
              "    <tr>\n",
              "      <th>3</th>\n",
              "      <td>LP001006</td>\n",
              "      <td>1</td>\n",
              "      <td>Yes</td>\n",
              "      <td>0</td>\n",
              "      <td>Not Graduate</td>\n",
              "      <td>No</td>\n",
              "      <td>2583</td>\n",
              "      <td>2358.0</td>\n",
              "      <td>120.0</td>\n",
              "      <td>360.0</td>\n",
              "      <td>1.0</td>\n",
              "      <td>Urban</td>\n",
              "      <td>Y</td>\n",
              "    </tr>\n",
              "    <tr>\n",
              "      <th>4</th>\n",
              "      <td>LP001008</td>\n",
              "      <td>1</td>\n",
              "      <td>No</td>\n",
              "      <td>0</td>\n",
              "      <td>Graduate</td>\n",
              "      <td>No</td>\n",
              "      <td>6000</td>\n",
              "      <td>0.0</td>\n",
              "      <td>141.0</td>\n",
              "      <td>360.0</td>\n",
              "      <td>1.0</td>\n",
              "      <td>Urban</td>\n",
              "      <td>Y</td>\n",
              "    </tr>\n",
              "    <tr>\n",
              "      <th>...</th>\n",
              "      <td>...</td>\n",
              "      <td>...</td>\n",
              "      <td>...</td>\n",
              "      <td>...</td>\n",
              "      <td>...</td>\n",
              "      <td>...</td>\n",
              "      <td>...</td>\n",
              "      <td>...</td>\n",
              "      <td>...</td>\n",
              "      <td>...</td>\n",
              "      <td>...</td>\n",
              "      <td>...</td>\n",
              "      <td>...</td>\n",
              "    </tr>\n",
              "    <tr>\n",
              "      <th>609</th>\n",
              "      <td>LP002978</td>\n",
              "      <td>0</td>\n",
              "      <td>No</td>\n",
              "      <td>0</td>\n",
              "      <td>Graduate</td>\n",
              "      <td>No</td>\n",
              "      <td>2900</td>\n",
              "      <td>0.0</td>\n",
              "      <td>71.0</td>\n",
              "      <td>360.0</td>\n",
              "      <td>1.0</td>\n",
              "      <td>Rural</td>\n",
              "      <td>Y</td>\n",
              "    </tr>\n",
              "    <tr>\n",
              "      <th>610</th>\n",
              "      <td>LP002979</td>\n",
              "      <td>1</td>\n",
              "      <td>Yes</td>\n",
              "      <td>3+</td>\n",
              "      <td>Graduate</td>\n",
              "      <td>No</td>\n",
              "      <td>4106</td>\n",
              "      <td>0.0</td>\n",
              "      <td>40.0</td>\n",
              "      <td>180.0</td>\n",
              "      <td>1.0</td>\n",
              "      <td>Rural</td>\n",
              "      <td>Y</td>\n",
              "    </tr>\n",
              "    <tr>\n",
              "      <th>611</th>\n",
              "      <td>LP002983</td>\n",
              "      <td>1</td>\n",
              "      <td>Yes</td>\n",
              "      <td>1</td>\n",
              "      <td>Graduate</td>\n",
              "      <td>No</td>\n",
              "      <td>8072</td>\n",
              "      <td>240.0</td>\n",
              "      <td>253.0</td>\n",
              "      <td>360.0</td>\n",
              "      <td>1.0</td>\n",
              "      <td>Urban</td>\n",
              "      <td>Y</td>\n",
              "    </tr>\n",
              "    <tr>\n",
              "      <th>612</th>\n",
              "      <td>LP002984</td>\n",
              "      <td>1</td>\n",
              "      <td>Yes</td>\n",
              "      <td>2</td>\n",
              "      <td>Graduate</td>\n",
              "      <td>No</td>\n",
              "      <td>7583</td>\n",
              "      <td>0.0</td>\n",
              "      <td>187.0</td>\n",
              "      <td>360.0</td>\n",
              "      <td>1.0</td>\n",
              "      <td>Urban</td>\n",
              "      <td>Y</td>\n",
              "    </tr>\n",
              "    <tr>\n",
              "      <th>613</th>\n",
              "      <td>LP002990</td>\n",
              "      <td>0</td>\n",
              "      <td>No</td>\n",
              "      <td>0</td>\n",
              "      <td>Graduate</td>\n",
              "      <td>Yes</td>\n",
              "      <td>4583</td>\n",
              "      <td>0.0</td>\n",
              "      <td>133.0</td>\n",
              "      <td>360.0</td>\n",
              "      <td>0.0</td>\n",
              "      <td>Semiurban</td>\n",
              "      <td>N</td>\n",
              "    </tr>\n",
              "  </tbody>\n",
              "</table>\n",
              "<p>614 rows × 13 columns</p>\n",
              "</div>"
            ],
            "text/plain": [
              "      Loan_ID  Gender Married Dependents     Education Self_Employed  \\\n",
              "0    LP001002       1      No          0      Graduate            No   \n",
              "1    LP001003       1     Yes          1      Graduate            No   \n",
              "2    LP001005       1     Yes          0      Graduate           Yes   \n",
              "3    LP001006       1     Yes          0  Not Graduate            No   \n",
              "4    LP001008       1      No          0      Graduate            No   \n",
              "..        ...     ...     ...        ...           ...           ...   \n",
              "609  LP002978       0      No          0      Graduate            No   \n",
              "610  LP002979       1     Yes         3+      Graduate            No   \n",
              "611  LP002983       1     Yes          1      Graduate            No   \n",
              "612  LP002984       1     Yes          2      Graduate            No   \n",
              "613  LP002990       0      No          0      Graduate           Yes   \n",
              "\n",
              "     ApplicantIncome  CoapplicantIncome  LoanAmount  Loan_Amount_Term  \\\n",
              "0               5849                0.0       128.0             360.0   \n",
              "1               4583             1508.0       128.0             360.0   \n",
              "2               3000                0.0        66.0             360.0   \n",
              "3               2583             2358.0       120.0             360.0   \n",
              "4               6000                0.0       141.0             360.0   \n",
              "..               ...                ...         ...               ...   \n",
              "609             2900                0.0        71.0             360.0   \n",
              "610             4106                0.0        40.0             180.0   \n",
              "611             8072              240.0       253.0             360.0   \n",
              "612             7583                0.0       187.0             360.0   \n",
              "613             4583                0.0       133.0             360.0   \n",
              "\n",
              "     Credit_History Property_Area Loan_Status  \n",
              "0               1.0         Urban           Y  \n",
              "1               1.0         Rural           N  \n",
              "2               1.0         Urban           Y  \n",
              "3               1.0         Urban           Y  \n",
              "4               1.0         Urban           Y  \n",
              "..              ...           ...         ...  \n",
              "609             1.0         Rural           Y  \n",
              "610             1.0         Rural           Y  \n",
              "611             1.0         Urban           Y  \n",
              "612             1.0         Urban           Y  \n",
              "613             0.0     Semiurban           N  \n",
              "\n",
              "[614 rows x 13 columns]"
            ]
          },
          "execution_count": 42,
          "metadata": {},
          "output_type": "execute_result"
        }
      ],
      "source": [
        "data"
      ]
    },
    {
      "cell_type": "code",
      "execution_count": null,
      "id": "8d01c79c",
      "metadata": {
        "id": "8d01c79c"
      },
      "outputs": [],
      "source": [
        "data.Married = le.fit_transform(data.Married)\n",
        "data.Dependents = le.fit_transform(data.Dependents)\n",
        "data.Education = le.fit_transform(data.Education)\n",
        "data.Self_Employed = le.fit_transform(data.Self_Employed)\n",
        "data.Credit_History = le.fit_transform(data.Credit_History)\n",
        "data.Property_Area = le.fit_transform(data.Property_Area)\n",
        "data.Loan_Status = le.fit_transform(data.Loan_Status)"
      ]
    },
    {
      "cell_type": "code",
      "execution_count": null,
      "id": "c05e0785",
      "metadata": {
        "id": "c05e0785",
        "outputId": "6a42a3ed-d164-470f-ddaa-6000413183af"
      },
      "outputs": [
        {
          "data": {
            "text/html": [
              "<div>\n",
              "<style scoped>\n",
              "    .dataframe tbody tr th:only-of-type {\n",
              "        vertical-align: middle;\n",
              "    }\n",
              "\n",
              "    .dataframe tbody tr th {\n",
              "        vertical-align: top;\n",
              "    }\n",
              "\n",
              "    .dataframe thead th {\n",
              "        text-align: right;\n",
              "    }\n",
              "</style>\n",
              "<table border=\"1\" class=\"dataframe\">\n",
              "  <thead>\n",
              "    <tr style=\"text-align: right;\">\n",
              "      <th></th>\n",
              "      <th>Loan_ID</th>\n",
              "      <th>Gender</th>\n",
              "      <th>Married</th>\n",
              "      <th>Dependents</th>\n",
              "      <th>Education</th>\n",
              "      <th>Self_Employed</th>\n",
              "      <th>ApplicantIncome</th>\n",
              "      <th>CoapplicantIncome</th>\n",
              "      <th>LoanAmount</th>\n",
              "      <th>Loan_Amount_Term</th>\n",
              "      <th>Credit_History</th>\n",
              "      <th>Property_Area</th>\n",
              "      <th>Loan_Status</th>\n",
              "    </tr>\n",
              "  </thead>\n",
              "  <tbody>\n",
              "    <tr>\n",
              "      <th>0</th>\n",
              "      <td>LP001002</td>\n",
              "      <td>1</td>\n",
              "      <td>0</td>\n",
              "      <td>0</td>\n",
              "      <td>0</td>\n",
              "      <td>0</td>\n",
              "      <td>5849</td>\n",
              "      <td>0.0</td>\n",
              "      <td>128.0</td>\n",
              "      <td>360.0</td>\n",
              "      <td>1</td>\n",
              "      <td>2</td>\n",
              "      <td>1</td>\n",
              "    </tr>\n",
              "    <tr>\n",
              "      <th>1</th>\n",
              "      <td>LP001003</td>\n",
              "      <td>1</td>\n",
              "      <td>1</td>\n",
              "      <td>1</td>\n",
              "      <td>0</td>\n",
              "      <td>0</td>\n",
              "      <td>4583</td>\n",
              "      <td>1508.0</td>\n",
              "      <td>128.0</td>\n",
              "      <td>360.0</td>\n",
              "      <td>1</td>\n",
              "      <td>0</td>\n",
              "      <td>0</td>\n",
              "    </tr>\n",
              "    <tr>\n",
              "      <th>2</th>\n",
              "      <td>LP001005</td>\n",
              "      <td>1</td>\n",
              "      <td>1</td>\n",
              "      <td>0</td>\n",
              "      <td>0</td>\n",
              "      <td>1</td>\n",
              "      <td>3000</td>\n",
              "      <td>0.0</td>\n",
              "      <td>66.0</td>\n",
              "      <td>360.0</td>\n",
              "      <td>1</td>\n",
              "      <td>2</td>\n",
              "      <td>1</td>\n",
              "    </tr>\n",
              "    <tr>\n",
              "      <th>3</th>\n",
              "      <td>LP001006</td>\n",
              "      <td>1</td>\n",
              "      <td>1</td>\n",
              "      <td>0</td>\n",
              "      <td>1</td>\n",
              "      <td>0</td>\n",
              "      <td>2583</td>\n",
              "      <td>2358.0</td>\n",
              "      <td>120.0</td>\n",
              "      <td>360.0</td>\n",
              "      <td>1</td>\n",
              "      <td>2</td>\n",
              "      <td>1</td>\n",
              "    </tr>\n",
              "    <tr>\n",
              "      <th>4</th>\n",
              "      <td>LP001008</td>\n",
              "      <td>1</td>\n",
              "      <td>0</td>\n",
              "      <td>0</td>\n",
              "      <td>0</td>\n",
              "      <td>0</td>\n",
              "      <td>6000</td>\n",
              "      <td>0.0</td>\n",
              "      <td>141.0</td>\n",
              "      <td>360.0</td>\n",
              "      <td>1</td>\n",
              "      <td>2</td>\n",
              "      <td>1</td>\n",
              "    </tr>\n",
              "  </tbody>\n",
              "</table>\n",
              "</div>"
            ],
            "text/plain": [
              "    Loan_ID  Gender  Married  Dependents  Education  Self_Employed  \\\n",
              "0  LP001002       1        0           0          0              0   \n",
              "1  LP001003       1        1           1          0              0   \n",
              "2  LP001005       1        1           0          0              1   \n",
              "3  LP001006       1        1           0          1              0   \n",
              "4  LP001008       1        0           0          0              0   \n",
              "\n",
              "   ApplicantIncome  CoapplicantIncome  LoanAmount  Loan_Amount_Term  \\\n",
              "0             5849                0.0       128.0             360.0   \n",
              "1             4583             1508.0       128.0             360.0   \n",
              "2             3000                0.0        66.0             360.0   \n",
              "3             2583             2358.0       120.0             360.0   \n",
              "4             6000                0.0       141.0             360.0   \n",
              "\n",
              "   Credit_History  Property_Area  Loan_Status  \n",
              "0               1              2            1  \n",
              "1               1              0            0  \n",
              "2               1              2            1  \n",
              "3               1              2            1  \n",
              "4               1              2            1  "
            ]
          },
          "execution_count": 44,
          "metadata": {},
          "output_type": "execute_result"
        }
      ],
      "source": [
        "data.head()"
      ]
    },
    {
      "cell_type": "markdown",
      "id": "01a14f0e",
      "metadata": {
        "id": "01a14f0e"
      },
      "source": [
        "Task : Handling Outliers"
      ]
    },
    {
      "cell_type": "markdown",
      "id": "41ac4a41",
      "metadata": {
        "id": "41ac4a41"
      },
      "source": [
        "### Scaling"
      ]
    },
    {
      "cell_type": "code",
      "execution_count": null,
      "id": "9a366693",
      "metadata": {
        "id": "9a366693"
      },
      "outputs": [],
      "source": [
        "from sklearn.preprocessing import MinMaxScaler\n",
        "scaler = MinMaxScaler()"
      ]
    },
    {
      "cell_type": "code",
      "execution_count": null,
      "id": "f6ecba9a",
      "metadata": {
        "id": "f6ecba9a"
      },
      "outputs": [],
      "source": [
        "data.ApplicantIncome = scaler.fit_transform(data[['ApplicantIncome']])"
      ]
    },
    {
      "cell_type": "code",
      "execution_count": null,
      "id": "9b6a55c8",
      "metadata": {
        "id": "9b6a55c8",
        "outputId": "9902aea6-44ca-4b2f-9368-cb4175a0a921"
      },
      "outputs": [
        {
          "data": {
            "text/html": [
              "<div>\n",
              "<style scoped>\n",
              "    .dataframe tbody tr th:only-of-type {\n",
              "        vertical-align: middle;\n",
              "    }\n",
              "\n",
              "    .dataframe tbody tr th {\n",
              "        vertical-align: top;\n",
              "    }\n",
              "\n",
              "    .dataframe thead th {\n",
              "        text-align: right;\n",
              "    }\n",
              "</style>\n",
              "<table border=\"1\" class=\"dataframe\">\n",
              "  <thead>\n",
              "    <tr style=\"text-align: right;\">\n",
              "      <th></th>\n",
              "      <th>Loan_ID</th>\n",
              "      <th>Gender</th>\n",
              "      <th>Married</th>\n",
              "      <th>Dependents</th>\n",
              "      <th>Education</th>\n",
              "      <th>Self_Employed</th>\n",
              "      <th>ApplicantIncome</th>\n",
              "      <th>CoapplicantIncome</th>\n",
              "      <th>LoanAmount</th>\n",
              "      <th>Loan_Amount_Term</th>\n",
              "      <th>Credit_History</th>\n",
              "      <th>Property_Area</th>\n",
              "      <th>Loan_Status</th>\n",
              "    </tr>\n",
              "  </thead>\n",
              "  <tbody>\n",
              "    <tr>\n",
              "      <th>0</th>\n",
              "      <td>LP001002</td>\n",
              "      <td>1</td>\n",
              "      <td>0</td>\n",
              "      <td>0</td>\n",
              "      <td>0</td>\n",
              "      <td>0</td>\n",
              "      <td>0.070489</td>\n",
              "      <td>0.0</td>\n",
              "      <td>128.0</td>\n",
              "      <td>360.0</td>\n",
              "      <td>1</td>\n",
              "      <td>2</td>\n",
              "      <td>1</td>\n",
              "    </tr>\n",
              "    <tr>\n",
              "      <th>1</th>\n",
              "      <td>LP001003</td>\n",
              "      <td>1</td>\n",
              "      <td>1</td>\n",
              "      <td>1</td>\n",
              "      <td>0</td>\n",
              "      <td>0</td>\n",
              "      <td>0.054830</td>\n",
              "      <td>1508.0</td>\n",
              "      <td>128.0</td>\n",
              "      <td>360.0</td>\n",
              "      <td>1</td>\n",
              "      <td>0</td>\n",
              "      <td>0</td>\n",
              "    </tr>\n",
              "    <tr>\n",
              "      <th>2</th>\n",
              "      <td>LP001005</td>\n",
              "      <td>1</td>\n",
              "      <td>1</td>\n",
              "      <td>0</td>\n",
              "      <td>0</td>\n",
              "      <td>1</td>\n",
              "      <td>0.035250</td>\n",
              "      <td>0.0</td>\n",
              "      <td>66.0</td>\n",
              "      <td>360.0</td>\n",
              "      <td>1</td>\n",
              "      <td>2</td>\n",
              "      <td>1</td>\n",
              "    </tr>\n",
              "    <tr>\n",
              "      <th>3</th>\n",
              "      <td>LP001006</td>\n",
              "      <td>1</td>\n",
              "      <td>1</td>\n",
              "      <td>0</td>\n",
              "      <td>1</td>\n",
              "      <td>0</td>\n",
              "      <td>0.030093</td>\n",
              "      <td>2358.0</td>\n",
              "      <td>120.0</td>\n",
              "      <td>360.0</td>\n",
              "      <td>1</td>\n",
              "      <td>2</td>\n",
              "      <td>1</td>\n",
              "    </tr>\n",
              "    <tr>\n",
              "      <th>4</th>\n",
              "      <td>LP001008</td>\n",
              "      <td>1</td>\n",
              "      <td>0</td>\n",
              "      <td>0</td>\n",
              "      <td>0</td>\n",
              "      <td>0</td>\n",
              "      <td>0.072356</td>\n",
              "      <td>0.0</td>\n",
              "      <td>141.0</td>\n",
              "      <td>360.0</td>\n",
              "      <td>1</td>\n",
              "      <td>2</td>\n",
              "      <td>1</td>\n",
              "    </tr>\n",
              "  </tbody>\n",
              "</table>\n",
              "</div>"
            ],
            "text/plain": [
              "    Loan_ID  Gender  Married  Dependents  Education  Self_Employed  \\\n",
              "0  LP001002       1        0           0          0              0   \n",
              "1  LP001003       1        1           1          0              0   \n",
              "2  LP001005       1        1           0          0              1   \n",
              "3  LP001006       1        1           0          1              0   \n",
              "4  LP001008       1        0           0          0              0   \n",
              "\n",
              "   ApplicantIncome  CoapplicantIncome  LoanAmount  Loan_Amount_Term  \\\n",
              "0         0.070489                0.0       128.0             360.0   \n",
              "1         0.054830             1508.0       128.0             360.0   \n",
              "2         0.035250                0.0        66.0             360.0   \n",
              "3         0.030093             2358.0       120.0             360.0   \n",
              "4         0.072356                0.0       141.0             360.0   \n",
              "\n",
              "   Credit_History  Property_Area  Loan_Status  \n",
              "0               1              2            1  \n",
              "1               1              0            0  \n",
              "2               1              2            1  \n",
              "3               1              2            1  \n",
              "4               1              2            1  "
            ]
          },
          "execution_count": 47,
          "metadata": {},
          "output_type": "execute_result"
        }
      ],
      "source": [
        "data.head()"
      ]
    },
    {
      "cell_type": "code",
      "execution_count": null,
      "id": "cb92221f",
      "metadata": {
        "id": "cb92221f"
      },
      "outputs": [],
      "source": [
        "data[['CoapplicantIncome', 'LoanAmount', 'Loan_Amount_Term']] = scaler.fit_transform(data[['CoapplicantIncome', 'LoanAmount', 'Loan_Amount_Term']])"
      ]
    },
    {
      "cell_type": "markdown",
      "id": "3ac4bf03",
      "metadata": {
        "id": "3ac4bf03"
      },
      "source": [
        "## Feature Selection"
      ]
    },
    {
      "cell_type": "code",
      "execution_count": null,
      "id": "2ff6c2b7",
      "metadata": {
        "id": "2ff6c2b7"
      },
      "outputs": [],
      "source": [
        "data = data.drop('Loan_ID', axis =1)"
      ]
    },
    {
      "cell_type": "code",
      "execution_count": null,
      "id": "23f24ba8",
      "metadata": {
        "id": "23f24ba8",
        "outputId": "3a00bdc6-3e00-4dd1-ef36-c7a2ff1becee"
      },
      "outputs": [
        {
          "data": {
            "text/html": [
              "<div>\n",
              "<style scoped>\n",
              "    .dataframe tbody tr th:only-of-type {\n",
              "        vertical-align: middle;\n",
              "    }\n",
              "\n",
              "    .dataframe tbody tr th {\n",
              "        vertical-align: top;\n",
              "    }\n",
              "\n",
              "    .dataframe thead th {\n",
              "        text-align: right;\n",
              "    }\n",
              "</style>\n",
              "<table border=\"1\" class=\"dataframe\">\n",
              "  <thead>\n",
              "    <tr style=\"text-align: right;\">\n",
              "      <th></th>\n",
              "      <th>Gender</th>\n",
              "      <th>Married</th>\n",
              "      <th>Dependents</th>\n",
              "      <th>Education</th>\n",
              "      <th>Self_Employed</th>\n",
              "      <th>ApplicantIncome</th>\n",
              "      <th>CoapplicantIncome</th>\n",
              "      <th>LoanAmount</th>\n",
              "      <th>Loan_Amount_Term</th>\n",
              "      <th>Credit_History</th>\n",
              "      <th>Property_Area</th>\n",
              "      <th>Loan_Status</th>\n",
              "    </tr>\n",
              "  </thead>\n",
              "  <tbody>\n",
              "    <tr>\n",
              "      <th>0</th>\n",
              "      <td>1</td>\n",
              "      <td>0</td>\n",
              "      <td>0</td>\n",
              "      <td>0</td>\n",
              "      <td>0</td>\n",
              "      <td>0.070489</td>\n",
              "      <td>0.000000</td>\n",
              "      <td>0.172214</td>\n",
              "      <td>0.74359</td>\n",
              "      <td>1</td>\n",
              "      <td>2</td>\n",
              "      <td>1</td>\n",
              "    </tr>\n",
              "    <tr>\n",
              "      <th>1</th>\n",
              "      <td>1</td>\n",
              "      <td>1</td>\n",
              "      <td>1</td>\n",
              "      <td>0</td>\n",
              "      <td>0</td>\n",
              "      <td>0.054830</td>\n",
              "      <td>0.036192</td>\n",
              "      <td>0.172214</td>\n",
              "      <td>0.74359</td>\n",
              "      <td>1</td>\n",
              "      <td>0</td>\n",
              "      <td>0</td>\n",
              "    </tr>\n",
              "    <tr>\n",
              "      <th>2</th>\n",
              "      <td>1</td>\n",
              "      <td>1</td>\n",
              "      <td>0</td>\n",
              "      <td>0</td>\n",
              "      <td>1</td>\n",
              "      <td>0.035250</td>\n",
              "      <td>0.000000</td>\n",
              "      <td>0.082489</td>\n",
              "      <td>0.74359</td>\n",
              "      <td>1</td>\n",
              "      <td>2</td>\n",
              "      <td>1</td>\n",
              "    </tr>\n",
              "    <tr>\n",
              "      <th>3</th>\n",
              "      <td>1</td>\n",
              "      <td>1</td>\n",
              "      <td>0</td>\n",
              "      <td>1</td>\n",
              "      <td>0</td>\n",
              "      <td>0.030093</td>\n",
              "      <td>0.056592</td>\n",
              "      <td>0.160637</td>\n",
              "      <td>0.74359</td>\n",
              "      <td>1</td>\n",
              "      <td>2</td>\n",
              "      <td>1</td>\n",
              "    </tr>\n",
              "    <tr>\n",
              "      <th>4</th>\n",
              "      <td>1</td>\n",
              "      <td>0</td>\n",
              "      <td>0</td>\n",
              "      <td>0</td>\n",
              "      <td>0</td>\n",
              "      <td>0.072356</td>\n",
              "      <td>0.000000</td>\n",
              "      <td>0.191027</td>\n",
              "      <td>0.74359</td>\n",
              "      <td>1</td>\n",
              "      <td>2</td>\n",
              "      <td>1</td>\n",
              "    </tr>\n",
              "  </tbody>\n",
              "</table>\n",
              "</div>"
            ],
            "text/plain": [
              "   Gender  Married  Dependents  Education  Self_Employed  ApplicantIncome  \\\n",
              "0       1        0           0          0              0         0.070489   \n",
              "1       1        1           1          0              0         0.054830   \n",
              "2       1        1           0          0              1         0.035250   \n",
              "3       1        1           0          1              0         0.030093   \n",
              "4       1        0           0          0              0         0.072356   \n",
              "\n",
              "   CoapplicantIncome  LoanAmount  Loan_Amount_Term  Credit_History  \\\n",
              "0           0.000000    0.172214           0.74359               1   \n",
              "1           0.036192    0.172214           0.74359               1   \n",
              "2           0.000000    0.082489           0.74359               1   \n",
              "3           0.056592    0.160637           0.74359               1   \n",
              "4           0.000000    0.191027           0.74359               1   \n",
              "\n",
              "   Property_Area  Loan_Status  \n",
              "0              2            1  \n",
              "1              0            0  \n",
              "2              2            1  \n",
              "3              2            1  \n",
              "4              2            1  "
            ]
          },
          "execution_count": 50,
          "metadata": {},
          "output_type": "execute_result"
        }
      ],
      "source": [
        "data.head()"
      ]
    },
    {
      "cell_type": "code",
      "execution_count": null,
      "id": "f9e4952a",
      "metadata": {
        "id": "f9e4952a",
        "outputId": "94bd2e89-9a75-4d19-f591-fa3c71c10729"
      },
      "outputs": [
        {
          "data": {
            "text/html": [
              "<div>\n",
              "<style scoped>\n",
              "    .dataframe tbody tr th:only-of-type {\n",
              "        vertical-align: middle;\n",
              "    }\n",
              "\n",
              "    .dataframe tbody tr th {\n",
              "        vertical-align: top;\n",
              "    }\n",
              "\n",
              "    .dataframe thead th {\n",
              "        text-align: right;\n",
              "    }\n",
              "</style>\n",
              "<table border=\"1\" class=\"dataframe\">\n",
              "  <thead>\n",
              "    <tr style=\"text-align: right;\">\n",
              "      <th></th>\n",
              "      <th>Gender</th>\n",
              "      <th>Married</th>\n",
              "      <th>Dependents</th>\n",
              "      <th>Education</th>\n",
              "      <th>Self_Employed</th>\n",
              "      <th>ApplicantIncome</th>\n",
              "      <th>CoapplicantIncome</th>\n",
              "      <th>LoanAmount</th>\n",
              "      <th>Loan_Amount_Term</th>\n",
              "      <th>Credit_History</th>\n",
              "      <th>Property_Area</th>\n",
              "    </tr>\n",
              "  </thead>\n",
              "  <tbody>\n",
              "    <tr>\n",
              "      <th>Gender</th>\n",
              "      <td>1.000000</td>\n",
              "      <td>0.367389</td>\n",
              "      <td>0.161451</td>\n",
              "      <td>0.045364</td>\n",
              "      <td>-0.000525</td>\n",
              "      <td>0.058809</td>\n",
              "      <td>0.082912</td>\n",
              "      <td>0.106904</td>\n",
              "      <td>-0.074030</td>\n",
              "      <td>0.026655</td>\n",
              "      <td>-0.025752</td>\n",
              "    </tr>\n",
              "    <tr>\n",
              "      <th>Married</th>\n",
              "      <td>0.367389</td>\n",
              "      <td>1.000000</td>\n",
              "      <td>0.307667</td>\n",
              "      <td>0.017671</td>\n",
              "      <td>0.008491</td>\n",
              "      <td>0.050194</td>\n",
              "      <td>0.080496</td>\n",
              "      <td>0.145717</td>\n",
              "      <td>-0.103381</td>\n",
              "      <td>-0.023626</td>\n",
              "      <td>0.000395</td>\n",
              "    </tr>\n",
              "    <tr>\n",
              "      <th>Dependents</th>\n",
              "      <td>0.161451</td>\n",
              "      <td>0.307667</td>\n",
              "      <td>1.000000</td>\n",
              "      <td>0.061179</td>\n",
              "      <td>0.054023</td>\n",
              "      <td>0.110073</td>\n",
              "      <td>0.016073</td>\n",
              "      <td>0.140926</td>\n",
              "      <td>-0.084271</td>\n",
              "      <td>-0.034355</td>\n",
              "      <td>0.025773</td>\n",
              "    </tr>\n",
              "    <tr>\n",
              "      <th>Education</th>\n",
              "      <td>0.045364</td>\n",
              "      <td>0.017671</td>\n",
              "      <td>0.061179</td>\n",
              "      <td>1.000000</td>\n",
              "      <td>-0.010383</td>\n",
              "      <td>-0.140760</td>\n",
              "      <td>-0.062290</td>\n",
              "      <td>-0.168759</td>\n",
              "      <td>-0.073928</td>\n",
              "      <td>-0.081637</td>\n",
              "      <td>-0.065243</td>\n",
              "    </tr>\n",
              "    <tr>\n",
              "      <th>Self_Employed</th>\n",
              "      <td>-0.000525</td>\n",
              "      <td>0.008491</td>\n",
              "      <td>0.054023</td>\n",
              "      <td>-0.010383</td>\n",
              "      <td>1.000000</td>\n",
              "      <td>0.127180</td>\n",
              "      <td>-0.016100</td>\n",
              "      <td>0.115100</td>\n",
              "      <td>-0.033739</td>\n",
              "      <td>-0.004994</td>\n",
              "      <td>-0.030860</td>\n",
              "    </tr>\n",
              "    <tr>\n",
              "      <th>ApplicantIncome</th>\n",
              "      <td>0.058809</td>\n",
              "      <td>0.050194</td>\n",
              "      <td>0.110073</td>\n",
              "      <td>-0.140760</td>\n",
              "      <td>0.127180</td>\n",
              "      <td>1.000000</td>\n",
              "      <td>-0.116605</td>\n",
              "      <td>0.565181</td>\n",
              "      <td>-0.046531</td>\n",
              "      <td>0.006986</td>\n",
              "      <td>-0.009500</td>\n",
              "    </tr>\n",
              "    <tr>\n",
              "      <th>CoapplicantIncome</th>\n",
              "      <td>0.082912</td>\n",
              "      <td>0.080496</td>\n",
              "      <td>0.016073</td>\n",
              "      <td>-0.062290</td>\n",
              "      <td>-0.016100</td>\n",
              "      <td>-0.116605</td>\n",
              "      <td>1.000000</td>\n",
              "      <td>0.189218</td>\n",
              "      <td>-0.059383</td>\n",
              "      <td>-0.058795</td>\n",
              "      <td>0.010522</td>\n",
              "    </tr>\n",
              "    <tr>\n",
              "      <th>LoanAmount</th>\n",
              "      <td>0.106904</td>\n",
              "      <td>0.145717</td>\n",
              "      <td>0.140926</td>\n",
              "      <td>-0.168759</td>\n",
              "      <td>0.115100</td>\n",
              "      <td>0.565181</td>\n",
              "      <td>0.189218</td>\n",
              "      <td>1.000000</td>\n",
              "      <td>0.036960</td>\n",
              "      <td>-0.034473</td>\n",
              "      <td>-0.046632</td>\n",
              "    </tr>\n",
              "    <tr>\n",
              "      <th>Loan_Amount_Term</th>\n",
              "      <td>-0.074030</td>\n",
              "      <td>-0.103381</td>\n",
              "      <td>-0.084271</td>\n",
              "      <td>-0.073928</td>\n",
              "      <td>-0.033739</td>\n",
              "      <td>-0.046531</td>\n",
              "      <td>-0.059383</td>\n",
              "      <td>0.036960</td>\n",
              "      <td>1.000000</td>\n",
              "      <td>0.002361</td>\n",
              "      <td>-0.076120</td>\n",
              "    </tr>\n",
              "    <tr>\n",
              "      <th>Credit_History</th>\n",
              "      <td>0.026655</td>\n",
              "      <td>-0.023626</td>\n",
              "      <td>-0.034355</td>\n",
              "      <td>-0.081637</td>\n",
              "      <td>-0.004994</td>\n",
              "      <td>0.006986</td>\n",
              "      <td>-0.058795</td>\n",
              "      <td>-0.034473</td>\n",
              "      <td>0.002361</td>\n",
              "      <td>1.000000</td>\n",
              "      <td>-0.018761</td>\n",
              "    </tr>\n",
              "    <tr>\n",
              "      <th>Property_Area</th>\n",
              "      <td>-0.025752</td>\n",
              "      <td>0.000395</td>\n",
              "      <td>0.025773</td>\n",
              "      <td>-0.065243</td>\n",
              "      <td>-0.030860</td>\n",
              "      <td>-0.009500</td>\n",
              "      <td>0.010522</td>\n",
              "      <td>-0.046632</td>\n",
              "      <td>-0.076120</td>\n",
              "      <td>-0.018761</td>\n",
              "      <td>1.000000</td>\n",
              "    </tr>\n",
              "  </tbody>\n",
              "</table>\n",
              "</div>"
            ],
            "text/plain": [
              "                     Gender   Married  Dependents  Education  Self_Employed  \\\n",
              "Gender             1.000000  0.367389    0.161451   0.045364      -0.000525   \n",
              "Married            0.367389  1.000000    0.307667   0.017671       0.008491   \n",
              "Dependents         0.161451  0.307667    1.000000   0.061179       0.054023   \n",
              "Education          0.045364  0.017671    0.061179   1.000000      -0.010383   \n",
              "Self_Employed     -0.000525  0.008491    0.054023  -0.010383       1.000000   \n",
              "ApplicantIncome    0.058809  0.050194    0.110073  -0.140760       0.127180   \n",
              "CoapplicantIncome  0.082912  0.080496    0.016073  -0.062290      -0.016100   \n",
              "LoanAmount         0.106904  0.145717    0.140926  -0.168759       0.115100   \n",
              "Loan_Amount_Term  -0.074030 -0.103381   -0.084271  -0.073928      -0.033739   \n",
              "Credit_History     0.026655 -0.023626   -0.034355  -0.081637      -0.004994   \n",
              "Property_Area     -0.025752  0.000395    0.025773  -0.065243      -0.030860   \n",
              "\n",
              "                   ApplicantIncome  CoapplicantIncome  LoanAmount  \\\n",
              "Gender                    0.058809           0.082912    0.106904   \n",
              "Married                   0.050194           0.080496    0.145717   \n",
              "Dependents                0.110073           0.016073    0.140926   \n",
              "Education                -0.140760          -0.062290   -0.168759   \n",
              "Self_Employed             0.127180          -0.016100    0.115100   \n",
              "ApplicantIncome           1.000000          -0.116605    0.565181   \n",
              "CoapplicantIncome        -0.116605           1.000000    0.189218   \n",
              "LoanAmount                0.565181           0.189218    1.000000   \n",
              "Loan_Amount_Term         -0.046531          -0.059383    0.036960   \n",
              "Credit_History            0.006986          -0.058795   -0.034473   \n",
              "Property_Area            -0.009500           0.010522   -0.046632   \n",
              "\n",
              "                   Loan_Amount_Term  Credit_History  Property_Area  \n",
              "Gender                    -0.074030        0.026655      -0.025752  \n",
              "Married                   -0.103381       -0.023626       0.000395  \n",
              "Dependents                -0.084271       -0.034355       0.025773  \n",
              "Education                 -0.073928       -0.081637      -0.065243  \n",
              "Self_Employed             -0.033739       -0.004994      -0.030860  \n",
              "ApplicantIncome           -0.046531        0.006986      -0.009500  \n",
              "CoapplicantIncome         -0.059383       -0.058795       0.010522  \n",
              "LoanAmount                 0.036960       -0.034473      -0.046632  \n",
              "Loan_Amount_Term           1.000000        0.002361      -0.076120  \n",
              "Credit_History             0.002361        1.000000      -0.018761  \n",
              "Property_Area             -0.076120       -0.018761       1.000000  "
            ]
          },
          "execution_count": 51,
          "metadata": {},
          "output_type": "execute_result"
        }
      ],
      "source": [
        "data.drop('Loan_Status', axis = 1).corr()"
      ]
    },
    {
      "cell_type": "code",
      "execution_count": null,
      "id": "6094d28d",
      "metadata": {
        "id": "6094d28d",
        "outputId": "7132391d-2559-49f6-f4eb-2823ff4fbbe1"
      },
      "outputs": [
        {
          "data": {
            "text/plain": [
              "<AxesSubplot:>"
            ]
          },
          "execution_count": 52,
          "metadata": {},
          "output_type": "execute_result"
        },
        {
          "data": {
            "image/png": "[encoded data removed]",
            "text/plain": [
              "<Figure size 1000x1000 with 2 Axes>"
            ]
          },
          "metadata": {},
          "output_type": "display_data"
        }
      ],
      "source": [
        "plt.figure(figsize = (10, 10))\n",
        "sns.heatmap(data.drop('Loan_Status', axis = 1).corr(), annot = True)"
      ]
    },
    {
      "cell_type": "markdown",
      "id": "11a423eb",
      "metadata": {
        "id": "11a423eb"
      },
      "source": [
        "## Model Creation"
      ]
    },
    {
      "cell_type": "code",
      "execution_count": null,
      "id": "48caf7d7",
      "metadata": {
        "id": "48caf7d7",
        "outputId": "d3f8dfde-972f-4a78-81ec-7382e7acf109"
      },
      "outputs": [
        {
          "data": {
            "text/html": [
              "<div>\n",
              "<style scoped>\n",
              "    .dataframe tbody tr th:only-of-type {\n",
              "        vertical-align: middle;\n",
              "    }\n",
              "\n",
              "    .dataframe tbody tr th {\n",
              "        vertical-align: top;\n",
              "    }\n",
              "\n",
              "    .dataframe thead th {\n",
              "        text-align: right;\n",
              "    }\n",
              "</style>\n",
              "<table border=\"1\" class=\"dataframe\">\n",
              "  <thead>\n",
              "    <tr style=\"text-align: right;\">\n",
              "      <th></th>\n",
              "      <th>Gender</th>\n",
              "      <th>Married</th>\n",
              "      <th>Dependents</th>\n",
              "      <th>Education</th>\n",
              "      <th>Self_Employed</th>\n",
              "      <th>ApplicantIncome</th>\n",
              "      <th>CoapplicantIncome</th>\n",
              "      <th>LoanAmount</th>\n",
              "      <th>Loan_Amount_Term</th>\n",
              "      <th>Credit_History</th>\n",
              "      <th>Property_Area</th>\n",
              "    </tr>\n",
              "  </thead>\n",
              "  <tbody>\n",
              "    <tr>\n",
              "      <th>0</th>\n",
              "      <td>1</td>\n",
              "      <td>0</td>\n",
              "      <td>0</td>\n",
              "      <td>0</td>\n",
              "      <td>0</td>\n",
              "      <td>0.070489</td>\n",
              "      <td>0.000000</td>\n",
              "      <td>0.172214</td>\n",
              "      <td>0.74359</td>\n",
              "      <td>1</td>\n",
              "      <td>2</td>\n",
              "    </tr>\n",
              "    <tr>\n",
              "      <th>1</th>\n",
              "      <td>1</td>\n",
              "      <td>1</td>\n",
              "      <td>1</td>\n",
              "      <td>0</td>\n",
              "      <td>0</td>\n",
              "      <td>0.054830</td>\n",
              "      <td>0.036192</td>\n",
              "      <td>0.172214</td>\n",
              "      <td>0.74359</td>\n",
              "      <td>1</td>\n",
              "      <td>0</td>\n",
              "    </tr>\n",
              "    <tr>\n",
              "      <th>2</th>\n",
              "      <td>1</td>\n",
              "      <td>1</td>\n",
              "      <td>0</td>\n",
              "      <td>0</td>\n",
              "      <td>1</td>\n",
              "      <td>0.035250</td>\n",
              "      <td>0.000000</td>\n",
              "      <td>0.082489</td>\n",
              "      <td>0.74359</td>\n",
              "      <td>1</td>\n",
              "      <td>2</td>\n",
              "    </tr>\n",
              "    <tr>\n",
              "      <th>3</th>\n",
              "      <td>1</td>\n",
              "      <td>1</td>\n",
              "      <td>0</td>\n",
              "      <td>1</td>\n",
              "      <td>0</td>\n",
              "      <td>0.030093</td>\n",
              "      <td>0.056592</td>\n",
              "      <td>0.160637</td>\n",
              "      <td>0.74359</td>\n",
              "      <td>1</td>\n",
              "      <td>2</td>\n",
              "    </tr>\n",
              "    <tr>\n",
              "      <th>4</th>\n",
              "      <td>1</td>\n",
              "      <td>0</td>\n",
              "      <td>0</td>\n",
              "      <td>0</td>\n",
              "      <td>0</td>\n",
              "      <td>0.072356</td>\n",
              "      <td>0.000000</td>\n",
              "      <td>0.191027</td>\n",
              "      <td>0.74359</td>\n",
              "      <td>1</td>\n",
              "      <td>2</td>\n",
              "    </tr>\n",
              "  </tbody>\n",
              "</table>\n",
              "</div>"
            ],
            "text/plain": [
              "   Gender  Married  Dependents  Education  Self_Employed  ApplicantIncome  \\\n",
              "0       1        0           0          0              0         0.070489   \n",
              "1       1        1           1          0              0         0.054830   \n",
              "2       1        1           0          0              1         0.035250   \n",
              "3       1        1           0          1              0         0.030093   \n",
              "4       1        0           0          0              0         0.072356   \n",
              "\n",
              "   CoapplicantIncome  LoanAmount  Loan_Amount_Term  Credit_History  \\\n",
              "0           0.000000    0.172214           0.74359               1   \n",
              "1           0.036192    0.172214           0.74359               1   \n",
              "2           0.000000    0.082489           0.74359               1   \n",
              "3           0.056592    0.160637           0.74359               1   \n",
              "4           0.000000    0.191027           0.74359               1   \n",
              "\n",
              "   Property_Area  \n",
              "0              2  \n",
              "1              0  \n",
              "2              2  \n",
              "3              2  \n",
              "4              2  "
            ]
          },
          "execution_count": 53,
          "metadata": {},
          "output_type": "execute_result"
        }
      ],
      "source": [
        "x = data.drop('Loan_Status', axis = 1)\n",
        "x.head()"
      ]
    },
    {
      "cell_type": "code",
      "execution_count": null,
      "id": "c7ae9a97",
      "metadata": {
        "id": "c7ae9a97",
        "outputId": "5c99eaf5-653d-444d-8873-efece5546d66"
      },
      "outputs": [
        {
          "data": {
            "text/plain": [
              "0      1\n",
              "1      0\n",
              "2      1\n",
              "3      1\n",
              "4      1\n",
              "      ..\n",
              "609    1\n",
              "610    1\n",
              "611    1\n",
              "612    1\n",
              "613    0\n",
              "Name: Loan_Status, Length: 614, dtype: int32"
            ]
          },
          "execution_count": 54,
          "metadata": {},
          "output_type": "execute_result"
        }
      ],
      "source": [
        "y = data.Loan_Status\n",
        "y"
      ]
    },
    {
      "cell_type": "code",
      "execution_count": null,
      "id": "3b386451",
      "metadata": {
        "id": "3b386451"
      },
      "outputs": [],
      "source": [
        "from sklearn.model_selection import train_test_split\n",
        "x_train, x_test, y_train, y_test = train_test_split(x, y, test_size = 0.25, random_state = 42)"
      ]
    },
    {
      "cell_type": "code",
      "execution_count": null,
      "id": "8a07fc76",
      "metadata": {
        "id": "8a07fc76",
        "outputId": "e419627a-4a66-4e68-81cb-9227380cb0b9"
      },
      "outputs": [
        {
          "data": {
            "text/html": [
              "<div>\n",
              "<style scoped>\n",
              "    .dataframe tbody tr th:only-of-type {\n",
              "        vertical-align: middle;\n",
              "    }\n",
              "\n",
              "    .dataframe tbody tr th {\n",
              "        vertical-align: top;\n",
              "    }\n",
              "\n",
              "    .dataframe thead th {\n",
              "        text-align: right;\n",
              "    }\n",
              "</style>\n",
              "<table border=\"1\" class=\"dataframe\">\n",
              "  <thead>\n",
              "    <tr style=\"text-align: right;\">\n",
              "      <th></th>\n",
              "      <th>Gender</th>\n",
              "      <th>Married</th>\n",
              "      <th>Dependents</th>\n",
              "      <th>Education</th>\n",
              "      <th>Self_Employed</th>\n",
              "      <th>ApplicantIncome</th>\n",
              "      <th>CoapplicantIncome</th>\n",
              "      <th>LoanAmount</th>\n",
              "      <th>Loan_Amount_Term</th>\n",
              "      <th>Credit_History</th>\n",
              "      <th>Property_Area</th>\n",
              "    </tr>\n",
              "  </thead>\n",
              "  <tbody>\n",
              "    <tr>\n",
              "      <th>92</th>\n",
              "      <td>1</td>\n",
              "      <td>1</td>\n",
              "      <td>2</td>\n",
              "      <td>1</td>\n",
              "      <td>0</td>\n",
              "      <td>0.038627</td>\n",
              "      <td>0.043680</td>\n",
              "      <td>0.104197</td>\n",
              "      <td>0.743590</td>\n",
              "      <td>1</td>\n",
              "      <td>2</td>\n",
              "    </tr>\n",
              "    <tr>\n",
              "      <th>304</th>\n",
              "      <td>1</td>\n",
              "      <td>0</td>\n",
              "      <td>0</td>\n",
              "      <td>0</td>\n",
              "      <td>0</td>\n",
              "      <td>0.047619</td>\n",
              "      <td>0.060000</td>\n",
              "      <td>0.189580</td>\n",
              "      <td>0.743590</td>\n",
              "      <td>1</td>\n",
              "      <td>0</td>\n",
              "    </tr>\n",
              "    <tr>\n",
              "      <th>68</th>\n",
              "      <td>1</td>\n",
              "      <td>1</td>\n",
              "      <td>3</td>\n",
              "      <td>1</td>\n",
              "      <td>1</td>\n",
              "      <td>0.085962</td>\n",
              "      <td>0.000000</td>\n",
              "      <td>0.167873</td>\n",
              "      <td>0.102564</td>\n",
              "      <td>1</td>\n",
              "      <td>2</td>\n",
              "    </tr>\n",
              "    <tr>\n",
              "      <th>15</th>\n",
              "      <td>1</td>\n",
              "      <td>0</td>\n",
              "      <td>0</td>\n",
              "      <td>0</td>\n",
              "      <td>0</td>\n",
              "      <td>0.059369</td>\n",
              "      <td>0.000000</td>\n",
              "      <td>0.167873</td>\n",
              "      <td>0.743590</td>\n",
              "      <td>1</td>\n",
              "      <td>2</td>\n",
              "    </tr>\n",
              "    <tr>\n",
              "      <th>211</th>\n",
              "      <td>1</td>\n",
              "      <td>1</td>\n",
              "      <td>3</td>\n",
              "      <td>0</td>\n",
              "      <td>0</td>\n",
              "      <td>0.040569</td>\n",
              "      <td>0.030000</td>\n",
              "      <td>0.172214</td>\n",
              "      <td>0.743590</td>\n",
              "      <td>0</td>\n",
              "      <td>1</td>\n",
              "    </tr>\n",
              "    <tr>\n",
              "      <th>...</th>\n",
              "      <td>...</td>\n",
              "      <td>...</td>\n",
              "      <td>...</td>\n",
              "      <td>...</td>\n",
              "      <td>...</td>\n",
              "      <td>...</td>\n",
              "      <td>...</td>\n",
              "      <td>...</td>\n",
              "      <td>...</td>\n",
              "      <td>...</td>\n",
              "      <td>...</td>\n",
              "    </tr>\n",
              "    <tr>\n",
              "      <th>71</th>\n",
              "      <td>1</td>\n",
              "      <td>1</td>\n",
              "      <td>2</td>\n",
              "      <td>1</td>\n",
              "      <td>1</td>\n",
              "      <td>0.021336</td>\n",
              "      <td>0.045000</td>\n",
              "      <td>0.127352</td>\n",
              "      <td>0.743590</td>\n",
              "      <td>1</td>\n",
              "      <td>1</td>\n",
              "    </tr>\n",
              "    <tr>\n",
              "      <th>106</th>\n",
              "      <td>1</td>\n",
              "      <td>1</td>\n",
              "      <td>2</td>\n",
              "      <td>0</td>\n",
              "      <td>0</td>\n",
              "      <td>0.139357</td>\n",
              "      <td>0.027024</td>\n",
              "      <td>0.312590</td>\n",
              "      <td>0.743590</td>\n",
              "      <td>1</td>\n",
              "      <td>2</td>\n",
              "    </tr>\n",
              "    <tr>\n",
              "      <th>270</th>\n",
              "      <td>0</td>\n",
              "      <td>0</td>\n",
              "      <td>0</td>\n",
              "      <td>0</td>\n",
              "      <td>0</td>\n",
              "      <td>0.038182</td>\n",
              "      <td>0.000000</td>\n",
              "      <td>0.030391</td>\n",
              "      <td>0.743590</td>\n",
              "      <td>1</td>\n",
              "      <td>2</td>\n",
              "    </tr>\n",
              "    <tr>\n",
              "      <th>435</th>\n",
              "      <td>0</td>\n",
              "      <td>0</td>\n",
              "      <td>3</td>\n",
              "      <td>0</td>\n",
              "      <td>0</td>\n",
              "      <td>0.122412</td>\n",
              "      <td>0.000000</td>\n",
              "      <td>0.172214</td>\n",
              "      <td>0.487179</td>\n",
              "      <td>1</td>\n",
              "      <td>1</td>\n",
              "    </tr>\n",
              "    <tr>\n",
              "      <th>102</th>\n",
              "      <td>1</td>\n",
              "      <td>1</td>\n",
              "      <td>3</td>\n",
              "      <td>0</td>\n",
              "      <td>0</td>\n",
              "      <td>0.166976</td>\n",
              "      <td>0.000000</td>\n",
              "      <td>0.172214</td>\n",
              "      <td>0.743590</td>\n",
              "      <td>1</td>\n",
              "      <td>2</td>\n",
              "    </tr>\n",
              "  </tbody>\n",
              "</table>\n",
              "<p>460 rows × 11 columns</p>\n",
              "</div>"
            ],
            "text/plain": [
              "     Gender  Married  Dependents  Education  Self_Employed  ApplicantIncome  \\\n",
              "92        1        1           2          1              0         0.038627   \n",
              "304       1        0           0          0              0         0.047619   \n",
              "68        1        1           3          1              1         0.085962   \n",
              "15        1        0           0          0              0         0.059369   \n",
              "211       1        1           3          0              0         0.040569   \n",
              "..      ...      ...         ...        ...            ...              ...   \n",
              "71        1        1           2          1              1         0.021336   \n",
              "106       1        1           2          0              0         0.139357   \n",
              "270       0        0           0          0              0         0.038182   \n",
              "435       0        0           3          0              0         0.122412   \n",
              "102       1        1           3          0              0         0.166976   \n",
              "\n",
              "     CoapplicantIncome  LoanAmount  Loan_Amount_Term  Credit_History  \\\n",
              "92            0.043680    0.104197          0.743590               1   \n",
              "304           0.060000    0.189580          0.743590               1   \n",
              "68            0.000000    0.167873          0.102564               1   \n",
              "15            0.000000    0.167873          0.743590               1   \n",
              "211           0.030000    0.172214          0.743590               0   \n",
              "..                 ...         ...               ...             ...   \n",
              "71            0.045000    0.127352          0.743590               1   \n",
              "106           0.027024    0.312590          0.743590               1   \n",
              "270           0.000000    0.030391          0.743590               1   \n",
              "435           0.000000    0.172214          0.487179               1   \n",
              "102           0.000000    0.172214          0.743590               1   \n",
              "\n",
              "     Property_Area  \n",
              "92               2  \n",
              "304              0  \n",
              "68               2  \n",
              "15               2  \n",
              "211              1  \n",
              "..             ...  \n",
              "71               1  \n",
              "106              2  \n",
              "270              2  \n",
              "435              1  \n",
              "102              2  \n",
              "\n",
              "[460 rows x 11 columns]"
            ]
          },
          "execution_count": 56,
          "metadata": {},
          "output_type": "execute_result"
        }
      ],
      "source": [
        "x_train"
      ]
    },
    {
      "cell_type": "code",
      "execution_count": null,
      "id": "106fc0b9",
      "metadata": {
        "id": "106fc0b9",
        "outputId": "58df0e53-d467-4e09-e01c-8baef8c8b105"
      },
      "outputs": [
        {
          "data": {
            "text/html": [
              "<div>\n",
              "<style scoped>\n",
              "    .dataframe tbody tr th:only-of-type {\n",
              "        vertical-align: middle;\n",
              "    }\n",
              "\n",
              "    .dataframe tbody tr th {\n",
              "        vertical-align: top;\n",
              "    }\n",
              "\n",
              "    .dataframe thead th {\n",
              "        text-align: right;\n",
              "    }\n",
              "</style>\n",
              "<table border=\"1\" class=\"dataframe\">\n",
              "  <thead>\n",
              "    <tr style=\"text-align: right;\">\n",
              "      <th></th>\n",
              "      <th>Gender</th>\n",
              "      <th>Married</th>\n",
              "      <th>Dependents</th>\n",
              "      <th>Education</th>\n",
              "      <th>Self_Employed</th>\n",
              "      <th>ApplicantIncome</th>\n",
              "      <th>CoapplicantIncome</th>\n",
              "      <th>LoanAmount</th>\n",
              "      <th>Loan_Amount_Term</th>\n",
              "      <th>Credit_History</th>\n",
              "      <th>Property_Area</th>\n",
              "    </tr>\n",
              "  </thead>\n",
              "  <tbody>\n",
              "    <tr>\n",
              "      <th>350</th>\n",
              "      <td>1</td>\n",
              "      <td>1</td>\n",
              "      <td>0</td>\n",
              "      <td>0</td>\n",
              "      <td>0</td>\n",
              "      <td>0.110489</td>\n",
              "      <td>0.000000</td>\n",
              "      <td>0.316932</td>\n",
              "      <td>0.74359</td>\n",
              "      <td>1</td>\n",
              "      <td>1</td>\n",
              "    </tr>\n",
              "    <tr>\n",
              "      <th>377</th>\n",
              "      <td>1</td>\n",
              "      <td>1</td>\n",
              "      <td>0</td>\n",
              "      <td>0</td>\n",
              "      <td>0</td>\n",
              "      <td>0.051453</td>\n",
              "      <td>0.000000</td>\n",
              "      <td>0.175109</td>\n",
              "      <td>0.74359</td>\n",
              "      <td>0</td>\n",
              "      <td>1</td>\n",
              "    </tr>\n",
              "    <tr>\n",
              "      <th>163</th>\n",
              "      <td>1</td>\n",
              "      <td>1</td>\n",
              "      <td>2</td>\n",
              "      <td>0</td>\n",
              "      <td>0</td>\n",
              "      <td>0.049685</td>\n",
              "      <td>0.034728</td>\n",
              "      <td>0.215630</td>\n",
              "      <td>0.74359</td>\n",
              "      <td>1</td>\n",
              "      <td>0</td>\n",
              "    </tr>\n",
              "    <tr>\n",
              "      <th>609</th>\n",
              "      <td>0</td>\n",
              "      <td>0</td>\n",
              "      <td>0</td>\n",
              "      <td>0</td>\n",
              "      <td>0</td>\n",
              "      <td>0.034014</td>\n",
              "      <td>0.000000</td>\n",
              "      <td>0.089725</td>\n",
              "      <td>0.74359</td>\n",
              "      <td>1</td>\n",
              "      <td>0</td>\n",
              "    </tr>\n",
              "    <tr>\n",
              "      <th>132</th>\n",
              "      <td>1</td>\n",
              "      <td>0</td>\n",
              "      <td>0</td>\n",
              "      <td>0</td>\n",
              "      <td>0</td>\n",
              "      <td>0.031763</td>\n",
              "      <td>0.000000</td>\n",
              "      <td>0.088278</td>\n",
              "      <td>0.74359</td>\n",
              "      <td>1</td>\n",
              "      <td>1</td>\n",
              "    </tr>\n",
              "    <tr>\n",
              "      <th>...</th>\n",
              "      <td>...</td>\n",
              "      <td>...</td>\n",
              "      <td>...</td>\n",
              "      <td>...</td>\n",
              "      <td>...</td>\n",
              "      <td>...</td>\n",
              "      <td>...</td>\n",
              "      <td>...</td>\n",
              "      <td>...</td>\n",
              "      <td>...</td>\n",
              "      <td>...</td>\n",
              "    </tr>\n",
              "    <tr>\n",
              "      <th>535</th>\n",
              "      <td>1</td>\n",
              "      <td>0</td>\n",
              "      <td>0</td>\n",
              "      <td>1</td>\n",
              "      <td>0</td>\n",
              "      <td>0.029685</td>\n",
              "      <td>0.049008</td>\n",
              "      <td>0.169320</td>\n",
              "      <td>0.74359</td>\n",
              "      <td>1</td>\n",
              "      <td>0</td>\n",
              "    </tr>\n",
              "    <tr>\n",
              "      <th>468</th>\n",
              "      <td>0</td>\n",
              "      <td>1</td>\n",
              "      <td>2</td>\n",
              "      <td>1</td>\n",
              "      <td>0</td>\n",
              "      <td>0.000742</td>\n",
              "      <td>0.070007</td>\n",
              "      <td>0.128799</td>\n",
              "      <td>0.74359</td>\n",
              "      <td>1</td>\n",
              "      <td>1</td>\n",
              "    </tr>\n",
              "    <tr>\n",
              "      <th>582</th>\n",
              "      <td>0</td>\n",
              "      <td>1</td>\n",
              "      <td>0</td>\n",
              "      <td>0</td>\n",
              "      <td>0</td>\n",
              "      <td>0.037304</td>\n",
              "      <td>0.000000</td>\n",
              "      <td>0.039074</td>\n",
              "      <td>0.74359</td>\n",
              "      <td>1</td>\n",
              "      <td>1</td>\n",
              "    </tr>\n",
              "    <tr>\n",
              "      <th>291</th>\n",
              "      <td>1</td>\n",
              "      <td>1</td>\n",
              "      <td>2</td>\n",
              "      <td>0</td>\n",
              "      <td>0</td>\n",
              "      <td>0.052566</td>\n",
              "      <td>0.000000</td>\n",
              "      <td>0.170767</td>\n",
              "      <td>0.74359</td>\n",
              "      <td>0</td>\n",
              "      <td>1</td>\n",
              "    </tr>\n",
              "    <tr>\n",
              "      <th>75</th>\n",
              "      <td>1</td>\n",
              "      <td>0</td>\n",
              "      <td>0</td>\n",
              "      <td>0</td>\n",
              "      <td>0</td>\n",
              "      <td>0.044527</td>\n",
              "      <td>0.000000</td>\n",
              "      <td>0.150507</td>\n",
              "      <td>1.00000</td>\n",
              "      <td>1</td>\n",
              "      <td>2</td>\n",
              "    </tr>\n",
              "  </tbody>\n",
              "</table>\n",
              "<p>154 rows × 11 columns</p>\n",
              "</div>"
            ],
            "text/plain": [
              "     Gender  Married  Dependents  Education  Self_Employed  ApplicantIncome  \\\n",
              "350       1        1           0          0              0         0.110489   \n",
              "377       1        1           0          0              0         0.051453   \n",
              "163       1        1           2          0              0         0.049685   \n",
              "609       0        0           0          0              0         0.034014   \n",
              "132       1        0           0          0              0         0.031763   \n",
              "..      ...      ...         ...        ...            ...              ...   \n",
              "535       1        0           0          1              0         0.029685   \n",
              "468       0        1           2          1              0         0.000742   \n",
              "582       0        1           0          0              0         0.037304   \n",
              "291       1        1           2          0              0         0.052566   \n",
              "75        1        0           0          0              0         0.044527   \n",
              "\n",
              "     CoapplicantIncome  LoanAmount  Loan_Amount_Term  Credit_History  \\\n",
              "350           0.000000    0.316932           0.74359               1   \n",
              "377           0.000000    0.175109           0.74359               0   \n",
              "163           0.034728    0.215630           0.74359               1   \n",
              "609           0.000000    0.089725           0.74359               1   \n",
              "132           0.000000    0.088278           0.74359               1   \n",
              "..                 ...         ...               ...             ...   \n",
              "535           0.049008    0.169320           0.74359               1   \n",
              "468           0.070007    0.128799           0.74359               1   \n",
              "582           0.000000    0.039074           0.74359               1   \n",
              "291           0.000000    0.170767           0.74359               0   \n",
              "75            0.000000    0.150507           1.00000               1   \n",
              "\n",
              "     Property_Area  \n",
              "350              1  \n",
              "377              1  \n",
              "163              0  \n",
              "609              0  \n",
              "132              1  \n",
              "..             ...  \n",
              "535              0  \n",
              "468              1  \n",
              "582              1  \n",
              "291              1  \n",
              "75               2  \n",
              "\n",
              "[154 rows x 11 columns]"
            ]
          },
          "execution_count": 57,
          "metadata": {},
          "output_type": "execute_result"
        }
      ],
      "source": [
        "x_test"
      ]
    },
    {
      "cell_type": "code",
      "execution_count": null,
      "id": "6aed8789",
      "metadata": {
        "id": "6aed8789",
        "outputId": "a59a4385-bc10-40c9-a5ca-d958d9a8407a"
      },
      "outputs": [
        {
          "data": {
            "text/plain": [
              "1    422\n",
              "0    192\n",
              "Name: Loan_Status, dtype: int64"
            ]
          },
          "execution_count": 58,
          "metadata": {},
          "output_type": "execute_result"
        }
      ],
      "source": [
        "data.Loan_Status.value_counts()"
      ]
    },
    {
      "cell_type": "code",
      "execution_count": null,
      "id": "9bcb313d",
      "metadata": {
        "id": "9bcb313d"
      },
      "outputs": [],
      "source": [
        "from imblearn.over_sampling import SMOTE\n",
        "sm = SMOTE()"
      ]
    },
    {
      "cell_type": "code",
      "execution_count": null,
      "id": "3895c6c8",
      "metadata": {
        "id": "3895c6c8"
      },
      "outputs": [],
      "source": [
        "x_sm, y_sm = sm.fit_resample(x_train, y_train)"
      ]
    },
    {
      "cell_type": "code",
      "execution_count": null,
      "id": "f72e908c",
      "metadata": {
        "id": "f72e908c",
        "outputId": "428c900d-1998-4293-f07e-900429d788b4"
      },
      "outputs": [
        {
          "name": "stdout",
          "output_type": "stream",
          "text": [
            "Counter({1: 322, 0: 138})\n",
            "Counter({1: 322, 0: 322})\n"
          ]
        }
      ],
      "source": [
        "from collections import Counter\n",
        "print(Counter(y_train))\n",
        "print(Counter(y_sm))"
      ]
    },
    {
      "cell_type": "code",
      "execution_count": null,
      "id": "8a943d97",
      "metadata": {
        "id": "8a943d97"
      },
      "outputs": [],
      "source": [
        "from sklearn.svm import SVC\n",
        "sv = SVC()"
      ]
    },
    {
      "cell_type": "code",
      "execution_count": null,
      "id": "b8326f35",
      "metadata": {
        "id": "b8326f35",
        "outputId": "35c1012e-3833-41a0-ae7a-32f18a12aeac"
      },
      "outputs": [
        {
          "data": {
            "text/plain": [
              "SVC()"
            ]
          },
          "execution_count": 63,
          "metadata": {},
          "output_type": "execute_result"
        }
      ],
      "source": [
        "sv.fit(x_sm, y_sm)"
      ]
    },
    {
      "cell_type": "code",
      "execution_count": null,
      "id": "29147e69",
      "metadata": {
        "id": "29147e69",
        "outputId": "18fa00d9-a7ee-4b54-d321-d67f5c504486"
      },
      "outputs": [
        {
          "data": {
            "text/plain": [
              "array([1, 0, 1, 0, 1, 1, 1, 1, 1, 1, 0, 1, 1, 1, 1, 0, 0, 1, 1, 1, 1, 1,\n",
              "       1, 1, 1, 1, 1, 1, 1, 1, 1, 1, 1, 0, 0, 0, 1, 1, 1, 1, 1, 1, 1, 1,\n",
              "       0, 1, 0, 0, 0, 0, 0, 1, 0, 1, 1, 1, 1, 1, 0, 1, 0, 0, 0, 1, 1, 1,\n",
              "       1, 1, 1, 1, 0, 1, 1, 1, 0, 1, 1, 0, 0, 1, 1, 1, 1, 1, 1, 1, 1, 0,\n",
              "       1, 1, 1, 0, 0, 1, 1, 1, 0, 0, 0, 1, 1, 1, 1, 1, 0, 0, 1, 0, 1, 1,\n",
              "       1, 0, 1, 1, 0, 1, 1, 1, 1, 0, 1, 1, 1, 0, 1, 1, 1, 0, 1, 0, 0, 1,\n",
              "       1, 0, 1, 1, 1, 0, 1, 1, 1, 1, 1, 0, 1, 1, 1, 1, 1, 1, 1, 1, 0, 0])"
            ]
          },
          "execution_count": 64,
          "metadata": {},
          "output_type": "execute_result"
        }
      ],
      "source": [
        "y_pred = sv.predict(x_test)\n",
        "y_pred"
      ]
    },
    {
      "cell_type": "code",
      "execution_count": null,
      "id": "e0b6cfdc",
      "metadata": {
        "id": "e0b6cfdc",
        "outputId": "f9d73151-8dac-49b1-f680-cd2d55317a2d"
      },
      "outputs": [
        {
          "data": {
            "text/plain": [
              "array([1, 1, 1, 1, 1, 1, 1, 1, 0, 0, 0, 1, 1, 1, 1, 1, 1, 1, 1, 1, 1, 1,\n",
              "       1, 1, 1, 1, 1, 0, 1, 1, 1, 1, 1, 1, 0, 0, 0, 1, 1, 0, 1, 1, 0, 1,\n",
              "       1, 1, 0, 0, 0, 0, 0, 0, 0, 0, 1, 0, 0, 1, 0, 1, 1, 0, 0, 1, 1, 1,\n",
              "       1, 1, 0, 0, 0, 1, 0, 0, 0, 1, 1, 0, 0, 1, 0, 1, 0, 0, 1, 1, 1, 0,\n",
              "       1, 0, 0, 0, 0, 1, 1, 1, 1, 1, 0, 1, 1, 1, 1, 1, 1, 0, 1, 0, 1, 1,\n",
              "       1, 0, 1, 1, 1, 1, 1, 0, 1, 1, 1, 1, 1, 0, 1, 1, 1, 0, 0, 1, 0, 1,\n",
              "       1, 1, 0, 1, 1, 1, 1, 0, 1, 1, 0, 0, 1, 1, 1, 0, 1, 1, 1, 1, 0, 0])"
            ]
          },
          "execution_count": 65,
          "metadata": {},
          "output_type": "execute_result"
        }
      ],
      "source": [
        "y_test.values"
      ]
    },
    {
      "cell_type": "markdown",
      "id": "3058dda9",
      "metadata": {
        "id": "3058dda9"
      },
      "source": [
        "## Model Evaluation"
      ]
    },
    {
      "cell_type": "code",
      "execution_count": null,
      "id": "d25b93c3",
      "metadata": {
        "id": "d25b93c3"
      },
      "outputs": [],
      "source": [
        "from sklearn.metrics import accuracy_score, precision_score, recall_score, f1_score, confusion_matrix, classification_report"
      ]
    },
    {
      "cell_type": "code",
      "execution_count": null,
      "id": "db6a4d52",
      "metadata": {
        "id": "db6a4d52",
        "outputId": "e2457a15-0b51-4ed8-9740-070691e3637a"
      },
      "outputs": [
        {
          "data": {
            "text/plain": [
              "0.7402597402597403"
            ]
          },
          "execution_count": 67,
          "metadata": {},
          "output_type": "execute_result"
        }
      ],
      "source": [
        "acc = accuracy_score(y_test, y_pred)\n",
        "acc"
      ]
    },
    {
      "cell_type": "code",
      "execution_count": null,
      "id": "91e11084",
      "metadata": {
        "id": "91e11084",
        "outputId": "57a6c7f3-a800-4d31-c122-ac00d582cad5"
      },
      "outputs": [
        {
          "data": {
            "text/plain": [
              "0.7727272727272727"
            ]
          },
          "execution_count": 68,
          "metadata": {},
          "output_type": "execute_result"
        }
      ],
      "source": [
        "precision_score(y_test, y_pred)"
      ]
    },
    {
      "cell_type": "code",
      "execution_count": null,
      "id": "2e5ec7c7",
      "metadata": {
        "id": "2e5ec7c7",
        "outputId": "bb753e0d-13a7-4b97-b70b-cdc2a76c5dcb"
      },
      "outputs": [
        {
          "data": {
            "text/plain": [
              "0.85"
            ]
          },
          "execution_count": 69,
          "metadata": {},
          "output_type": "execute_result"
        }
      ],
      "source": [
        "recall_score(y_test, y_pred)"
      ]
    },
    {
      "cell_type": "code",
      "execution_count": null,
      "id": "42dc435b",
      "metadata": {
        "id": "42dc435b",
        "outputId": "a6d1d34b-8131-4117-f60c-c64757a4a729"
      },
      "outputs": [
        {
          "data": {
            "text/plain": [
              "0.8095238095238095"
            ]
          },
          "execution_count": 70,
          "metadata": {},
          "output_type": "execute_result"
        }
      ],
      "source": [
        "f1_score(y_test, y_pred)"
      ]
    },
    {
      "cell_type": "code",
      "execution_count": null,
      "id": "ae49e303",
      "metadata": {
        "id": "ae49e303",
        "outputId": "722d63d9-b6ba-499c-e25a-02306c6f0465"
      },
      "outputs": [
        {
          "data": {
            "text/plain": [
              "array([[29, 25],\n",
              "       [15, 85]], dtype=int64)"
            ]
          },
          "execution_count": 71,
          "metadata": {},
          "output_type": "execute_result"
        }
      ],
      "source": [
        "confusion_matrix(y_test, y_pred)"
      ]
    },
    {
      "cell_type": "code",
      "execution_count": null,
      "id": "52c23738",
      "metadata": {
        "id": "52c23738",
        "outputId": "84f6fecb-a27c-4e8b-ea3e-dc9d24436b81"
      },
      "outputs": [
        {
          "name": "stdout",
          "output_type": "stream",
          "text": [
            "              precision    recall  f1-score   support\n",
            "\n",
            "           0       0.66      0.54      0.59        54\n",
            "           1       0.77      0.85      0.81       100\n",
            "\n",
            "    accuracy                           0.74       154\n",
            "   macro avg       0.72      0.69      0.70       154\n",
            "weighted avg       0.73      0.74      0.73       154\n",
            "\n"
          ]
        }
      ],
      "source": [
        "print(classification_report(y_test, y_pred))"
      ]
    },
    {
      "cell_type": "markdown",
      "id": "41db9713",
      "metadata": {
        "id": "41db9713"
      },
      "source": [
        "## Cross Validation"
      ]
    },
    {
      "cell_type": "code",
      "execution_count": null,
      "id": "68870261",
      "metadata": {
        "id": "68870261"
      },
      "outputs": [],
      "source": [
        "from sklearn.svm import SVC\n",
        "sv1 = SVC()"
      ]
    },
    {
      "cell_type": "code",
      "execution_count": null,
      "id": "b95a4319",
      "metadata": {
        "scrolled": true,
        "id": "b95a4319",
        "outputId": "d483dd83-12b7-41d2-f8bc-976a112471f7"
      },
      "outputs": [
        {
          "data": {
            "text/plain": [
              "array([0.86813187, 0.82608696, 0.81111111, 0.85057471, 0.85875706])"
            ]
          },
          "execution_count": 74,
          "metadata": {},
          "output_type": "execute_result"
        }
      ],
      "source": [
        "from sklearn.model_selection import cross_val_score\n",
        "scores = cross_val_score(sv1, x, y, scoring = 'f1', cv = 5)\n",
        "scores"
      ]
    },
    {
      "cell_type": "code",
      "execution_count": null,
      "id": "7c3ebd50",
      "metadata": {
        "id": "7c3ebd50",
        "outputId": "d78a0fb6-ddba-46b1-edcf-1ba55c69545b"
      },
      "outputs": [
        {
          "data": {
            "text/plain": [
              "0.8429323421110577"
            ]
          },
          "execution_count": 75,
          "metadata": {},
          "output_type": "execute_result"
        }
      ],
      "source": [
        "np.mean(scores)"
      ]
    },
    {
      "cell_type": "code",
      "execution_count": null,
      "id": "b572df39",
      "metadata": {
        "id": "b572df39",
        "outputId": "f458cf03-0d59-4035-db64-c99348ec17ca"
      },
      "outputs": [
        {
          "data": {
            "text/plain": [
              "0.02116696228205032"
            ]
          },
          "execution_count": 76,
          "metadata": {},
          "output_type": "execute_result"
        }
      ],
      "source": [
        "np.std(scores)"
      ]
    },
    {
      "cell_type": "markdown",
      "id": "e774ca88",
      "metadata": {
        "id": "e774ca88"
      },
      "source": [
        "## Hyperparameter Tuning"
      ]
    },
    {
      "cell_type": "code",
      "execution_count": null,
      "id": "62307cdd",
      "metadata": {
        "id": "62307cdd"
      },
      "outputs": [],
      "source": [
        "from sklearn.model_selection import GridSearchCV"
      ]
    },
    {
      "cell_type": "code",
      "execution_count": null,
      "id": "f23e1e34",
      "metadata": {
        "id": "f23e1e34"
      },
      "outputs": [],
      "source": [
        "param_grid = {'C' : [0.1, 1, 10, 100, 1000], 'gamma' : [1, 0.1, 0.01, 0.001, 0.0001]}"
      ]
    },
    {
      "cell_type": "code",
      "execution_count": null,
      "id": "be516fbe",
      "metadata": {
        "id": "be516fbe"
      },
      "outputs": [],
      "source": [
        "grid = GridSearchCV(sv1, param_grid, scoring = 'f1', verbose = 3)"
      ]
    },
    {
      "cell_type": "code",
      "execution_count": null,
      "id": "7ba9c199",
      "metadata": {
        "id": "7ba9c199",
        "outputId": "99fc6898-8981-4b33-ba0e-8e04f77207eb"
      },
      "outputs": [
        {
          "name": "stdout",
          "output_type": "stream",
          "text": [
            "Fitting 5 folds for each of 25 candidates, totalling 125 fits\n",
            "[CV 1/5] END ....................C=0.1, gamma=1;, score=0.726 total time=   0.0s\n",
            "[CV 2/5] END ....................C=0.1, gamma=1;, score=0.697 total time=   0.0s\n",
            "[CV 3/5] END ....................C=0.1, gamma=1;, score=0.721 total time=   0.0s\n",
            "[CV 4/5] END ....................C=0.1, gamma=1;, score=0.697 total time=   0.0s\n",
            "[CV 5/5] END ....................C=0.1, gamma=1;, score=0.691 total time=   0.0s\n",
            "[CV 1/5] END ..................C=0.1, gamma=0.1;, score=0.787 total time=   0.0s\n",
            "[CV 2/5] END ..................C=0.1, gamma=0.1;, score=0.739 total time=   0.0s\n",
            "[CV 3/5] END ..................C=0.1, gamma=0.1;, score=0.736 total time=   0.0s\n",
            "[CV 4/5] END ..................C=0.1, gamma=0.1;, score=0.773 total time=   0.0s\n",
            "[CV 5/5] END ..................C=0.1, gamma=0.1;, score=0.811 total time=   0.0s\n",
            "[CV 1/5] END .................C=0.1, gamma=0.01;, score=0.000 total time=   0.0s\n",
            "[CV 2/5] END .................C=0.1, gamma=0.01;, score=0.000 total time=   0.0s\n",
            "[CV 3/5] END .................C=0.1, gamma=0.01;, score=0.663 total time=   0.0s\n",
            "[CV 4/5] END .................C=0.1, gamma=0.01;, score=0.663 total time=   0.0s\n",
            "[CV 5/5] END .................C=0.1, gamma=0.01;, score=0.811 total time=   0.0s\n",
            "[CV 1/5] END ................C=0.1, gamma=0.001;, score=0.000 total time=   0.0s\n",
            "[CV 2/5] END ................C=0.1, gamma=0.001;, score=0.000 total time=   0.0s\n",
            "[CV 3/5] END ................C=0.1, gamma=0.001;, score=0.663 total time=   0.0s\n",
            "[CV 4/5] END ................C=0.1, gamma=0.001;, score=0.663 total time=   0.0s\n",
            "[CV 5/5] END ................C=0.1, gamma=0.001;, score=0.811 total time=   0.0s\n",
            "[CV 1/5] END ...............C=0.1, gamma=0.0001;, score=0.000 total time=   0.0s\n",
            "[CV 2/5] END ...............C=0.1, gamma=0.0001;, score=0.000 total time=   0.0s\n",
            "[CV 3/5] END ...............C=0.1, gamma=0.0001;, score=0.663 total time=   0.0s\n",
            "[CV 4/5] END ...............C=0.1, gamma=0.0001;, score=0.663 total time=   0.0s\n",
            "[CV 5/5] END ...............C=0.1, gamma=0.0001;, score=0.811 total time=   0.0s\n",
            "[CV 1/5] END ......................C=1, gamma=1;, score=0.696 total time=   0.0s\n",
            "[CV 2/5] END ......................C=1, gamma=1;, score=0.723 total time=   0.0s\n",
            "[CV 3/5] END ......................C=1, gamma=1;, score=0.667 total time=   0.0s\n",
            "[CV 4/5] END ......................C=1, gamma=1;, score=0.754 total time=   0.0s\n",
            "[CV 5/5] END ......................C=1, gamma=1;, score=0.702 total time=   0.0s\n",
            "[CV 1/5] END ....................C=1, gamma=0.1;, score=0.787 total time=   0.0s\n",
            "[CV 2/5] END ....................C=1, gamma=0.1;, score=0.739 total time=   0.0s\n",
            "[CV 3/5] END ....................C=1, gamma=0.1;, score=0.736 total time=   0.0s\n",
            "[CV 4/5] END ....................C=1, gamma=0.1;, score=0.773 total time=   0.0s\n",
            "[CV 5/5] END ....................C=1, gamma=0.1;, score=0.811 total time=   0.0s\n",
            "[CV 1/5] END ...................C=1, gamma=0.01;, score=0.787 total time=   0.0s\n",
            "[CV 2/5] END ...................C=1, gamma=0.01;, score=0.739 total time=   0.0s\n",
            "[CV 3/5] END ...................C=1, gamma=0.01;, score=0.736 total time=   0.0s\n",
            "[CV 4/5] END ...................C=1, gamma=0.01;, score=0.773 total time=   0.0s\n",
            "[CV 5/5] END ...................C=1, gamma=0.01;, score=0.811 total time=   0.0s\n",
            "[CV 1/5] END ..................C=1, gamma=0.001;, score=0.000 total time=   0.0s\n",
            "[CV 2/5] END ..................C=1, gamma=0.001;, score=0.000 total time=   0.0s\n",
            "[CV 3/5] END ..................C=1, gamma=0.001;, score=0.663 total time=   0.0s\n",
            "[CV 4/5] END ..................C=1, gamma=0.001;, score=0.663 total time=   0.0s\n",
            "[CV 5/5] END ..................C=1, gamma=0.001;, score=0.811 total time=   0.0s\n",
            "[CV 1/5] END .................C=1, gamma=0.0001;, score=0.000 total time=   0.0s\n",
            "[CV 2/5] END .................C=1, gamma=0.0001;, score=0.000 total time=   0.0s\n",
            "[CV 3/5] END .................C=1, gamma=0.0001;, score=0.663 total time=   0.0s\n",
            "[CV 4/5] END .................C=1, gamma=0.0001;, score=0.663 total time=   0.0s\n",
            "[CV 5/5] END .................C=1, gamma=0.0001;, score=0.811 total time=   0.0s\n",
            "[CV 1/5] END .....................C=10, gamma=1;, score=0.733 total time=   0.0s\n",
            "[CV 2/5] END .....................C=10, gamma=1;, score=0.662 total time=   0.0s\n",
            "[CV 3/5] END .....................C=10, gamma=1;, score=0.618 total time=   0.0s\n",
            "[CV 4/5] END .....................C=10, gamma=1;, score=0.770 total time=   0.0s\n",
            "[CV 5/5] END .....................C=10, gamma=1;, score=0.726 total time=   0.0s\n",
            "[CV 1/5] END ...................C=10, gamma=0.1;, score=0.743 total time=   0.0s\n",
            "[CV 2/5] END ...................C=10, gamma=0.1;, score=0.715 total time=   0.0s\n",
            "[CV 3/5] END ...................C=10, gamma=0.1;, score=0.724 total time=   0.0s\n",
            "[CV 4/5] END ...................C=10, gamma=0.1;, score=0.772 total time=   0.0s\n",
            "[CV 5/5] END ...................C=10, gamma=0.1;, score=0.803 total time=   0.0s\n",
            "[CV 1/5] END ..................C=10, gamma=0.01;, score=0.787 total time=   0.0s\n",
            "[CV 2/5] END ..................C=10, gamma=0.01;, score=0.739 total time=   0.0s\n",
            "[CV 3/5] END ..................C=10, gamma=0.01;, score=0.736 total time=   0.0s\n",
            "[CV 4/5] END ..................C=10, gamma=0.01;, score=0.773 total time=   0.0s\n",
            "[CV 5/5] END ..................C=10, gamma=0.01;, score=0.811 total time=   0.0s\n",
            "[CV 1/5] END .................C=10, gamma=0.001;, score=0.787 total time=   0.0s\n",
            "[CV 2/5] END .................C=10, gamma=0.001;, score=0.739 total time=   0.0s\n",
            "[CV 3/5] END .................C=10, gamma=0.001;, score=0.736 total time=   0.0s\n",
            "[CV 4/5] END .................C=10, gamma=0.001;, score=0.773 total time=   0.0s\n",
            "[CV 5/5] END .................C=10, gamma=0.001;, score=0.811 total time=   0.0s\n",
            "[CV 1/5] END ................C=10, gamma=0.0001;, score=0.000 total time=   0.0s\n",
            "[CV 2/5] END ................C=10, gamma=0.0001;, score=0.000 total time=   0.0s\n",
            "[CV 3/5] END ................C=10, gamma=0.0001;, score=0.663 total time=   0.0s\n",
            "[CV 4/5] END ................C=10, gamma=0.0001;, score=0.663 total time=   0.0s\n",
            "[CV 5/5] END ................C=10, gamma=0.0001;, score=0.811 total time=   0.0s\n",
            "[CV 1/5] END ....................C=100, gamma=1;, score=0.730 total time=   0.0s\n",
            "[CV 2/5] END ....................C=100, gamma=1;, score=0.731 total time=   0.0s\n",
            "[CV 3/5] END ....................C=100, gamma=1;, score=0.604 total time=   0.0s\n",
            "[CV 4/5] END ....................C=100, gamma=1;, score=0.726 total time=   0.0s\n",
            "[CV 5/5] END ....................C=100, gamma=1;, score=0.737 total time=   0.0s\n",
            "[CV 1/5] END ..................C=100, gamma=0.1;, score=0.727 total time=   0.0s\n",
            "[CV 2/5] END ..................C=100, gamma=0.1;, score=0.691 total time=   0.0s\n",
            "[CV 3/5] END ..................C=100, gamma=0.1;, score=0.699 total time=   0.0s\n",
            "[CV 4/5] END ..................C=100, gamma=0.1;, score=0.748 total time=   0.0s\n",
            "[CV 5/5] END ..................C=100, gamma=0.1;, score=0.752 total time=   0.0s\n",
            "[CV 1/5] END .................C=100, gamma=0.01;, score=0.787 total time=   0.0s\n",
            "[CV 2/5] END .................C=100, gamma=0.01;, score=0.739 total time=   0.0s\n",
            "[CV 3/5] END .................C=100, gamma=0.01;, score=0.736 total time=   0.0s\n",
            "[CV 4/5] END .................C=100, gamma=0.01;, score=0.773 total time=   0.0s\n",
            "[CV 5/5] END .................C=100, gamma=0.01;, score=0.811 total time=   0.0s\n",
            "[CV 1/5] END ................C=100, gamma=0.001;, score=0.787 total time=   0.0s\n",
            "[CV 2/5] END ................C=100, gamma=0.001;, score=0.739 total time=   0.0s\n",
            "[CV 3/5] END ................C=100, gamma=0.001;, score=0.736 total time=   0.0s\n",
            "[CV 4/5] END ................C=100, gamma=0.001;, score=0.773 total time=   0.0s\n",
            "[CV 5/5] END ................C=100, gamma=0.001;, score=0.811 total time=   0.0s\n",
            "[CV 1/5] END ...............C=100, gamma=0.0001;, score=0.787 total time=   0.0s\n",
            "[CV 2/5] END ...............C=100, gamma=0.0001;, score=0.739 total time=   0.0s\n",
            "[CV 3/5] END ...............C=100, gamma=0.0001;, score=0.736 total time=   0.0s\n",
            "[CV 4/5] END ...............C=100, gamma=0.0001;, score=0.773 total time=   0.0s\n",
            "[CV 5/5] END ...............C=100, gamma=0.0001;, score=0.811 total time=   0.0s\n",
            "[CV 1/5] END ...................C=1000, gamma=1;, score=0.709 total time=   0.0s\n",
            "[CV 2/5] END ...................C=1000, gamma=1;, score=0.785 total time=   0.0s\n",
            "[CV 3/5] END ...................C=1000, gamma=1;, score=0.630 total time=   0.0s\n",
            "[CV 4/5] END ...................C=1000, gamma=1;, score=0.742 total time=   0.0s\n",
            "[CV 5/5] END ...................C=1000, gamma=1;, score=0.745 total time=   0.0s\n"
          ]
        },
        {
          "name": "stdout",
          "output_type": "stream",
          "text": [
            "[CV 1/5] END .................C=1000, gamma=0.1;, score=0.718 total time=   0.1s\n",
            "[CV 2/5] END .................C=1000, gamma=0.1;, score=0.652 total time=   0.0s\n",
            "[CV 3/5] END .................C=1000, gamma=0.1;, score=0.678 total time=   0.1s\n",
            "[CV 4/5] END .................C=1000, gamma=0.1;, score=0.746 total time=   0.1s\n",
            "[CV 5/5] END .................C=1000, gamma=0.1;, score=0.685 total time=   0.0s\n",
            "[CV 1/5] END ................C=1000, gamma=0.01;, score=0.722 total time=   0.0s\n",
            "[CV 2/5] END ................C=1000, gamma=0.01;, score=0.739 total time=   0.0s\n",
            "[CV 3/5] END ................C=1000, gamma=0.01;, score=0.736 total time=   0.0s\n",
            "[CV 4/5] END ................C=1000, gamma=0.01;, score=0.773 total time=   0.0s\n",
            "[CV 5/5] END ................C=1000, gamma=0.01;, score=0.811 total time=   0.0s\n",
            "[CV 1/5] END ...............C=1000, gamma=0.001;, score=0.787 total time=   0.0s\n",
            "[CV 2/5] END ...............C=1000, gamma=0.001;, score=0.739 total time=   0.0s\n",
            "[CV 3/5] END ...............C=1000, gamma=0.001;, score=0.736 total time=   0.0s\n",
            "[CV 4/5] END ...............C=1000, gamma=0.001;, score=0.773 total time=   0.1s\n",
            "[CV 5/5] END ...............C=1000, gamma=0.001;, score=0.811 total time=   0.0s\n",
            "[CV 1/5] END ..............C=1000, gamma=0.0001;, score=0.787 total time=   0.0s\n",
            "[CV 2/5] END ..............C=1000, gamma=0.0001;, score=0.739 total time=   0.0s\n",
            "[CV 3/5] END ..............C=1000, gamma=0.0001;, score=0.736 total time=   0.0s\n",
            "[CV 4/5] END ..............C=1000, gamma=0.0001;, score=0.773 total time=   0.0s\n",
            "[CV 5/5] END ..............C=1000, gamma=0.0001;, score=0.811 total time=   0.0s\n"
          ]
        },
        {
          "data": {
            "text/plain": [
              "GridSearchCV(estimator=SVC(),\n",
              "             param_grid={'C': [0.1, 1, 10, 100, 1000],\n",
              "                         'gamma': [1, 0.1, 0.01, 0.001, 0.0001]},\n",
              "             scoring='f1', verbose=3)"
            ]
          },
          "execution_count": 80,
          "metadata": {},
          "output_type": "execute_result"
        }
      ],
      "source": [
        "grid.fit(x_sm, y_sm)"
      ]
    },
    {
      "cell_type": "code",
      "execution_count": null,
      "id": "b395913b",
      "metadata": {
        "id": "b395913b",
        "outputId": "353d6839-3af1-4bbc-bad0-9be048358209"
      },
      "outputs": [
        {
          "data": {
            "text/plain": [
              "{'C': 0.1, 'gamma': 0.1}"
            ]
          },
          "execution_count": 81,
          "metadata": {},
          "output_type": "execute_result"
        }
      ],
      "source": [
        "grid.best_params_"
      ]
    },
    {
      "cell_type": "code",
      "execution_count": null,
      "id": "961abbf8",
      "metadata": {
        "id": "961abbf8"
      },
      "outputs": [],
      "source": [
        "sv2 = SVC(C = 1, gamma = 0.01, random_state = 42)"
      ]
    },
    {
      "cell_type": "code",
      "execution_count": null,
      "id": "5076fe22",
      "metadata": {
        "id": "5076fe22",
        "outputId": "27d1d99b-1db8-42f5-9b53-5d03448470ab"
      },
      "outputs": [
        {
          "data": {
            "text/plain": [
              "SVC(C=1, gamma=0.01, random_state=42)"
            ]
          },
          "execution_count": 83,
          "metadata": {},
          "output_type": "execute_result"
        }
      ],
      "source": [
        "sv2.fit(x_sm, y_sm)"
      ]
    },
    {
      "cell_type": "code",
      "execution_count": null,
      "id": "f066a203",
      "metadata": {
        "id": "f066a203"
      },
      "outputs": [],
      "source": [
        "y_pred1 = sv2.predict(x_test)"
      ]
    },
    {
      "cell_type": "code",
      "execution_count": null,
      "id": "2d52c808",
      "metadata": {
        "id": "2d52c808",
        "outputId": "e8d89ddb-87d0-4aa3-8e53-b32adde407ba"
      },
      "outputs": [
        {
          "data": {
            "text/plain": [
              "array([1, 0, 1, 1, 1, 1, 1, 1, 1, 1, 0, 1, 1, 1, 1, 0, 1, 1, 1, 1, 1, 1,\n",
              "       1, 1, 1, 1, 1, 1, 1, 1, 1, 1, 1, 1, 1, 0, 1, 1, 1, 1, 1, 1, 1, 1,\n",
              "       1, 1, 0, 0, 0, 0, 0, 1, 0, 1, 1, 1, 1, 1, 0, 1, 0, 0, 0, 1, 1, 1,\n",
              "       1, 1, 1, 1, 0, 1, 1, 1, 0, 1, 1, 0, 0, 1, 1, 1, 1, 1, 1, 1, 1, 0,\n",
              "       1, 1, 1, 0, 0, 1, 1, 1, 0, 0, 0, 1, 1, 1, 1, 1, 0, 0, 1, 0, 1, 1,\n",
              "       1, 0, 1, 1, 0, 1, 1, 1, 1, 1, 1, 1, 1, 0, 1, 1, 1, 0, 1, 0, 0, 1,\n",
              "       1, 0, 1, 1, 1, 0, 1, 1, 1, 1, 1, 0, 1, 1, 1, 1, 1, 1, 1, 1, 0, 1])"
            ]
          },
          "execution_count": 85,
          "metadata": {},
          "output_type": "execute_result"
        }
      ],
      "source": [
        "y_pred1"
      ]
    },
    {
      "cell_type": "code",
      "execution_count": null,
      "id": "fe1fd203",
      "metadata": {
        "scrolled": false,
        "id": "fe1fd203",
        "outputId": "d4fd368f-5a1b-49a6-cdd1-3efef86684e8"
      },
      "outputs": [
        {
          "name": "stdout",
          "output_type": "stream",
          "text": [
            "[0.8150289  0.8150289  0.81395349]\n",
            "Cross Validation score:  0.8146704306134337\n",
            "Standard Deviation 0.0005069547205710685\n"
          ]
        }
      ],
      "source": [
        "scores_after = cross_val_score(sv2, x, y, cv = 3, scoring = 'f1')\n",
        "print(scores_after)\n",
        "print('Cross Validation score: ', scores_after.mean())\n",
        "print('Standard Deviation', scores_after.std())"
      ]
    },
    {
      "cell_type": "code",
      "execution_count": null,
      "id": "ba296a26",
      "metadata": {
        "id": "ba296a26"
      },
      "outputs": [],
      "source": []
    },
    {
      "cell_type": "code",
      "execution_count": null,
      "id": "a6e863b1",
      "metadata": {
        "id": "a6e863b1"
      },
      "outputs": [],
      "source": []
    },
    {
      "cell_type": "code",
      "execution_count": null,
      "id": "515307f2",
      "metadata": {
        "id": "515307f2"
      },
      "outputs": [],
      "source": []
    },
    {
      "cell_type": "code",
      "execution_count": null,
      "id": "02d9dc2c",
      "metadata": {
        "id": "02d9dc2c"
      },
      "outputs": [],
      "source": []
    },
    {
      "cell_type": "code",
      "execution_count": null,
      "id": "185b1dcf",
      "metadata": {
        "id": "185b1dcf"
      },
      "outputs": [],
      "source": []
    },
    {
      "cell_type": "code",
      "execution_count": null,
      "id": "ef8d78a8",
      "metadata": {
        "id": "ef8d78a8"
      },
      "outputs": [],
      "source": []
    },
    {
      "cell_type": "code",
      "execution_count": null,
      "id": "7b0bea34",
      "metadata": {
        "id": "7b0bea34"
      },
      "outputs": [],
      "source": []
    },
    {
      "cell_type": "code",
      "execution_count": null,
      "id": "3845b54a",
      "metadata": {
        "id": "3845b54a"
      },
      "outputs": [],
      "source": []
    },
    {
      "cell_type": "code",
      "execution_count": null,
      "id": "2e5bb6b3",
      "metadata": {
        "id": "2e5bb6b3"
      },
      "outputs": [],
      "source": []
    },
    {
      "cell_type": "code",
      "execution_count": null,
      "id": "f9a46924",
      "metadata": {
        "id": "f9a46924"
      },
      "outputs": [],
      "source": []
    },
    {
      "cell_type": "code",
      "execution_count": null,
      "id": "dbef643b",
      "metadata": {
        "id": "dbef643b"
      },
      "outputs": [],
      "source": []
    },
    {
      "cell_type": "code",
      "execution_count": null,
      "id": "1fb0a8af",
      "metadata": {
        "id": "1fb0a8af"
      },
      "outputs": [],
      "source": []
    }
  ],
  "metadata": {
    "kernelspec": {
      "display_name": "Python 3 (ipykernel)",
      "language": "python",
      "name": "python3"
    },
    "language_info": {
      "codemirror_mode": {
        "name": "ipython",
        "version": 3
      },
      "file_extension": ".py",
      "mimetype": "text/x-python",
      "name": "python",
      "nbconvert_exporter": "python",
      "pygments_lexer": "ipython3",
      "version": "3.9.13"
    },
    "colab": {
      "provenance": [],
      "include_colab_link": true
    }
  },
  "nbformat": 4,
  "nbformat_minor": 5
}