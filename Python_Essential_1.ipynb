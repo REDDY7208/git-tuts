{
  "cells": [
    {
      "cell_type": "markdown",
      "metadata": {
        "id": "view-in-github",
        "colab_type": "text"
      },
      "source": [
        "<a href=\"https://colab.research.google.com/github/REDDY7208/git-tuts/blob/reddy/Python_Essential_1.ipynb\" target=\"_parent\"><img src=\"https://colab.research.google.com/assets/colab-badge.svg\" alt=\"Open In Colab\"/></a>"
      ]
    },
    {
      "cell_type": "markdown",
      "id": "5573a58b",
      "metadata": {
        "id": "5573a58b"
      },
      "source": [
        "# What is Jupyter  Notebook\n",
        "* The Jupyter Notebook is an open-source web application that allows data scientists to create and share documents that           integrate live code, equations, computational output, visualizations, and other multimedia resources,\n",
        "\n",
        "* Uses include data cleaning and transformation, numerical simulation, statistical modeling, data visualization, machine         learning, and much more.\n"
      ]
    },
    {
      "cell_type": "markdown",
      "id": "1c454286",
      "metadata": {
        "id": "1c454286"
      },
      "source": [
        "## Tutorial\n",
        "- Interactive\n",
        "- Results/outputs are stored so it is easy to review\n",
        "- Friendly for documentation\n",
        "- No limitation from performance\n",
        "- helpful shortcuts\n",
        "- Industry standard for all data science, ML, AI projects.\n",
        "\n",
        "<p> Extension of jupyter file is ipynb (i python notebook, previous name of Jupyter) </p>\n",
        "\n"
      ]
    },
    {
      "cell_type": "markdown",
      "id": "ee8239e8",
      "metadata": {
        "id": "ee8239e8"
      },
      "source": [
        "# This is a markdown\n",
        "\n",
        "**this is bold** this is not boldewfhbwebfs\n",
        "\n"
      ]
    },
    {
      "cell_type": "raw",
      "id": "291f7652",
      "metadata": {
        "id": "291f7652"
      },
      "source": [
        "This is Raw NBConvert\n",
        "python is coding launguage\n",
        "\n",
        "This is a raw cell\n",
        "Jupyter is awesome\n",
        "\n"
      ]
    },
    {
      "cell_type": "markdown",
      "id": "ec91a308",
      "metadata": {
        "id": "ec91a308"
      },
      "source": [
        "### mode\n",
        "* Green----> edit mode(Enter button)\n",
        "* blue-----> command mode(Esc button)\n"
      ]
    },
    {
      "cell_type": "markdown",
      "id": "e6babead",
      "metadata": {
        "id": "e6babead"
      },
      "source": [
        "# Short Cuts\n",
        "\n",
        "[shift] + [enter] : run a cell\n",
        "\n",
        "Command mode:\n",
        "a : insert cell above\n",
        "\n",
        "b : insert cell below\n",
        "\n",
        "dd : delete a cell\n",
        "\n",
        "z : undo a delete cell\n",
        "\n",
        "r : convert cell to raw cell\n",
        "\n",
        "m : convert cell to Markdown cell\n",
        "\n",
        "y : convert cell to code cell\n",
        "\n",
        "c: copy a cell\n",
        "\n",
        "v : paste a cell\n",
        "\n",
        "x : cut a cell\n",
        "\n",
        "o : toggle output\n",
        "\n",
        "# Edit Mode:\n",
        "\n",
        "Ctrl + C : copy a text\n",
        "\n",
        "Ctrl + V : paste\n",
        "\n",
        "Ctrl + X : cut\n",
        "\n",
        "Ctrl + Z : undo"
      ]
    },
    {
      "cell_type": "code",
      "execution_count": null,
      "id": "5f3721f7",
      "metadata": {
        "id": "5f3721f7"
      },
      "outputs": [],
      "source": [
        "import sys\n",
        "import keyword\n",
        "import operator\n",
        "import os"
      ]
    },
    {
      "cell_type": "markdown",
      "id": "cd840a4f",
      "metadata": {
        "id": "cd840a4f"
      },
      "source": [
        "# Keywords\n"
      ]
    },
    {
      "cell_type": "markdown",
      "id": "62590721",
      "metadata": {
        "id": "62590721"
      },
      "source": [
        "* Keywords in python are reserved words in python and cant be used as identifiers."
      ]
    },
    {
      "cell_type": "code",
      "execution_count": null,
      "id": "0ab1d4b0",
      "metadata": {
        "id": "0ab1d4b0",
        "outputId": "c029da18-5567-4f40-fe03-446d2abacde4",
        "scrolled": true
      },
      "outputs": [
        {
          "name": "stdout",
          "output_type": "stream",
          "text": [
            "['False', 'None', 'True', 'and', 'as', 'assert', 'async', 'await', 'break', 'class', 'continue', 'def', 'del', 'elif', 'else', 'except', 'finally', 'for', 'from', 'global', 'if', 'import', 'in', 'is', 'lambda', 'nonlocal', 'not', 'or', 'pass', 'raise', 'return', 'try', 'while', 'with', 'yield']\n"
          ]
        }
      ],
      "source": [
        "print(keyword.kwlist)  # It will give all keywords of python"
      ]
    },
    {
      "cell_type": "code",
      "execution_count": null,
      "id": "7a9ef08d",
      "metadata": {
        "id": "7a9ef08d",
        "outputId": "6e8a509a-d3fc-4966-cce6-14de5f87b176"
      },
      "outputs": [
        {
          "data": {
            "text/plain": [
              "35"
            ]
          },
          "execution_count": 3,
          "metadata": {},
          "output_type": "execute_result"
        }
      ],
      "source": [
        "len(keyword.kwlist)"
      ]
    },
    {
      "cell_type": "markdown",
      "id": "c15e70c8",
      "metadata": {
        "id": "c15e70c8"
      },
      "source": [
        "# Identifiers"
      ]
    },
    {
      "cell_type": "markdown",
      "id": "41911e15",
      "metadata": {
        "id": "41911e15"
      },
      "source": [
        "* An identifier is the name given to entities like functions,variables etc.\n",
        "* It helps in differentiating one entity from other."
      ]
    },
    {
      "cell_type": "code",
      "execution_count": null,
      "id": "66cb1403",
      "metadata": {
        "collapsed": true,
        "id": "66cb1403",
        "outputId": "599c8ae6-6a69-40e2-afc5-186c3b860f70"
      },
      "outputs": [
        {
          "ename": "SyntaxError",
          "evalue": "invalid syntax (<ipython-input-4-254948e9632a>, line 1)",
          "output_type": "error",
          "traceback": [
            "\u001b[1;36m  File \u001b[1;32m\"<ipython-input-4-254948e9632a>\"\u001b[1;36m, line \u001b[1;32m1\u001b[0m\n\u001b[1;33m    2var=34  #identifier can not be initaite with digit.\u001b[0m\n\u001b[1;37m     ^\u001b[0m\n\u001b[1;31mSyntaxError\u001b[0m\u001b[1;31m:\u001b[0m invalid syntax\n"
          ]
        }
      ],
      "source": [
        "2var=34  #identifier can not be initaite with digit."
      ]
    },
    {
      "cell_type": "code",
      "execution_count": null,
      "id": "c100d47b",
      "metadata": {
        "collapsed": true,
        "id": "c100d47b",
        "outputId": "da4c6ae8-8de7-4155-e830-15290440fd6a"
      },
      "outputs": [
        {
          "ename": "SyntaxError",
          "evalue": "cannot assign to operator (<ipython-input-5-001c3adf4325>, line 1)",
          "output_type": "error",
          "traceback": [
            "\u001b[1;36m  File \u001b[1;32m\"<ipython-input-5-001c3adf4325>\"\u001b[1;36m, line \u001b[1;32m1\u001b[0m\n\u001b[1;33m    var@123='abc' # Identifer cannot use special symbol\u001b[0m\n\u001b[1;37m    ^\u001b[0m\n\u001b[1;31mSyntaxError\u001b[0m\u001b[1;31m:\u001b[0m cannot assign to operator\n"
          ]
        }
      ],
      "source": [
        "var@123='abc' # Identifer cannot use special symbol"
      ]
    },
    {
      "cell_type": "code",
      "execution_count": null,
      "id": "57ac31ff",
      "metadata": {
        "id": "57ac31ff",
        "scrolled": true
      },
      "outputs": [],
      "source": [
        "import=123 # Keywords cannot be used as identifier"
      ]
    },
    {
      "cell_type": "code",
      "execution_count": null,
      "id": "2bba50bc",
      "metadata": {
        "id": "2bba50bc"
      },
      "outputs": [],
      "source": [
        "\"\"\"\n",
        "Correct way of defining an identifier\n",
        "(Identifiers can be a combination of letters in lowercase (a to z) or uppercase and only\n",
        "special chararcter allowed is _ )\"\"\"\n",
        "\n",
        "\n",
        "var=2\n",
        "# var is entity called as variable has been created and assigned with valeu of 2"
      ]
    },
    {
      "cell_type": "code",
      "execution_count": null,
      "id": "1f250660",
      "metadata": {
        "id": "1f250660"
      },
      "outputs": [],
      "source": [
        "VAR=3"
      ]
    },
    {
      "cell_type": "code",
      "execution_count": null,
      "id": "683313e3",
      "metadata": {
        "id": "683313e3"
      },
      "outputs": [],
      "source": [
        "var_12='Data'"
      ]
    },
    {
      "cell_type": "markdown",
      "id": "97b903b7",
      "metadata": {
        "id": "97b903b7"
      },
      "source": [
        "# Comments"
      ]
    },
    {
      "cell_type": "markdown",
      "id": "d915980a",
      "metadata": {
        "id": "d915980a"
      },
      "source": [
        "* Comments can be used to explain the code for more readabilty."
      ]
    },
    {
      "cell_type": "code",
      "execution_count": null,
      "id": "bba78a99",
      "metadata": {
        "id": "bba78a99"
      },
      "outputs": [],
      "source": [
        "# Single line comment\n",
        "val1 = 10\n"
      ]
    },
    {
      "cell_type": "code",
      "execution_count": null,
      "id": "2f772d53",
      "metadata": {
        "id": "2f772d53"
      },
      "outputs": [],
      "source": [
        "# Multiple\n",
        "# line\n",
        "# comment\n",
        "val1 = 10\n"
      ]
    },
    {
      "cell_type": "code",
      "execution_count": null,
      "id": "31a80171",
      "metadata": {
        "id": "31a80171"
      },
      "outputs": [],
      "source": [
        "'''\n",
        "Multiple line\n",
        "comment '''\n",
        "val1 = 10\n"
      ]
    },
    {
      "cell_type": "code",
      "execution_count": null,
      "id": "c700542b",
      "metadata": {
        "id": "c700542b"
      },
      "outputs": [],
      "source": [
        "\"\"\"\n",
        "Multiple line\n",
        "comment \"\"\"\n",
        "val1= 10\n"
      ]
    },
    {
      "cell_type": "markdown",
      "id": "a76869bd",
      "metadata": {
        "id": "a76869bd"
      },
      "source": [
        "# Statements"
      ]
    },
    {
      "cell_type": "markdown",
      "id": "8bf438c4",
      "metadata": {
        "id": "8bf438c4"
      },
      "source": [
        "* Instructions that a Python interpreter can execute."
      ]
    },
    {
      "cell_type": "code",
      "execution_count": null,
      "id": "49b580e9",
      "metadata": {
        "id": "49b580e9"
      },
      "outputs": [],
      "source": [
        "# Single line statement\n",
        "p2 = ['a' , 'b' , 'c' , 'd']\n",
        "p2\n"
      ]
    },
    {
      "cell_type": "code",
      "execution_count": null,
      "id": "0465af83",
      "metadata": {
        "colab": {
          "base_uri": "https://localhost:8080/"
        },
        "id": "0465af83",
        "outputId": "6ace23ed-38da-471e-db6a-b7f8fb32dfa2"
      },
      "outputs": [
        {
          "data": {
            "text/plain": [
              "290"
            ]
          },
          "execution_count": 1,
          "metadata": {},
          "output_type": "execute_result"
        }
      ],
      "source": [
        "# Multiple line statement\n",
        "p1 = 20 + 30 \\\n",
        "+  40  +  50  +\\\n",
        "+ 70 + 80\n",
        "p1\n"
      ]
    },
    {
      "cell_type": "markdown",
      "id": "88031484",
      "metadata": {
        "id": "88031484"
      },
      "source": [
        "# Indentation"
      ]
    },
    {
      "cell_type": "markdown",
      "id": "24395cc4",
      "metadata": {
        "id": "24395cc4"
      },
      "source": [
        "* Indentation refers to the spaces at the beginning of a code line. It is very important\n",
        "as Python uses indentation to indicate a block of code.If the indentation is not\n",
        "correct we will endup with IndentationError error."
      ]
    },
    {
      "cell_type": "code",
      "execution_count": null,
      "id": "e56b8e0a",
      "metadata": {
        "id": "e56b8e0a",
        "scrolled": true
      },
      "outputs": [],
      "source": [
        "# if indentation is skipped we will encounter \"IndentationError: expected an ind\n",
        "p = 10\n",
        "if  p  ==  10:\n",
        "print ('P is equal to 10')\n"
      ]
    },
    {
      "cell_type": "code",
      "execution_count": null,
      "id": "11262e4e",
      "metadata": {
        "id": "11262e4e"
      },
      "outputs": [],
      "source": [
        "p = 10\n",
        "if  p  ==  10:\n",
        "    print('Correct Indentation')\n",
        "\n",
        "\n",
        ""
      ]
    },
    {
      "cell_type": "markdown",
      "id": "a130bd3a",
      "metadata": {
        "id": "a130bd3a"
      },
      "source": [
        "# Docstrings"
      ]
    },
    {
      "cell_type": "markdown",
      "id": "39dde5a3",
      "metadata": {
        "id": "39dde5a3"
      },
      "source": [
        "\n",
        "1)\tDocstrings provide a convenient way of associating documentation with functions,\n",
        "classes, methods or modules.\n",
        "\n",
        "2)\tThey appear right after the definition of a function, method, class, or module.\n"
      ]
    },
    {
      "cell_type": "code",
      "execution_count": null,
      "id": "be7d1c17",
      "metadata": {
        "id": "be7d1c17"
      },
      "outputs": [],
      "source": [
        "def  square(num):\n",
        "    '''Square Function :- This function will return the square of a number'''\n",
        "    return num**2\n",
        ""
      ]
    },
    {
      "cell_type": "code",
      "execution_count": null,
      "id": "d11dddca",
      "metadata": {
        "id": "d11dddca"
      },
      "outputs": [],
      "source": [
        "print(square.__doc__)# We can access the Docstring using doc method"
      ]
    },
    {
      "cell_type": "code",
      "execution_count": null,
      "id": "9310d505",
      "metadata": {
        "id": "9310d505",
        "scrolled": false
      },
      "outputs": [],
      "source": [
        "help(square)"
      ]
    },
    {
      "cell_type": "markdown",
      "id": "a48922a0",
      "metadata": {
        "id": "a48922a0"
      },
      "source": [
        "# Variables"
      ]
    },
    {
      "cell_type": "markdown",
      "id": "33961071",
      "metadata": {
        "id": "33961071"
      },
      "source": [
        "*  A Python variable is a reserved memory location to store values.A variable is\n",
        "created the moment you first assign a value to it.\n"
      ]
    },
    {
      "cell_type": "code",
      "execution_count": null,
      "id": "85427289",
      "metadata": {
        "id": "85427289"
      },
      "outputs": [],
      "source": [
        "p=30"
      ]
    },
    {
      "cell_type": "code",
      "execution_count": null,
      "id": "3424e9fb",
      "metadata": {
        "id": "3424e9fb"
      },
      "outputs": [],
      "source": [
        "a=4 # Create a variable a and assign the value 4."
      ]
    },
    {
      "cell_type": "code",
      "execution_count": null,
      "id": "33a88b02",
      "metadata": {
        "id": "33a88b02"
      },
      "outputs": [],
      "source": [
        "a # This is how we call variable"
      ]
    },
    {
      "cell_type": "code",
      "execution_count": null,
      "id": "377c75f6",
      "metadata": {
        "id": "377c75f6"
      },
      "outputs": [],
      "source": [
        "print(a) # Print function is used to print outputs"
      ]
    },
    {
      "cell_type": "code",
      "execution_count": null,
      "id": "ad65dafa",
      "metadata": {
        "id": "ad65dafa"
      },
      "outputs": [],
      "source": [
        "print('This is print function')"
      ]
    },
    {
      "cell_type": "code",
      "execution_count": null,
      "id": "016fda5e",
      "metadata": {
        "id": "016fda5e"
      },
      "outputs": [],
      "source": [
        "type(a) # To know the datatype of python objects"
      ]
    },
    {
      "cell_type": "code",
      "execution_count": null,
      "id": "9c2fdbda",
      "metadata": {
        "id": "9c2fdbda"
      },
      "outputs": [],
      "source": [
        "'''\n",
        "id() function returns the “identity” of the object.\n",
        "The identity of an object - Is an integer\n",
        " - Guaranteed to be unique\n",
        " - Constant for this object during its lifetime.\n",
        "'''\n",
        "id(p)\n"
      ]
    },
    {
      "cell_type": "code",
      "execution_count": null,
      "id": "1cbe041e",
      "metadata": {
        "id": "1cbe041e",
        "scrolled": true
      },
      "outputs": [],
      "source": [
        "hex(id(p)) # Memory address of the variable"
      ]
    },
    {
      "cell_type": "code",
      "execution_count": null,
      "id": "dc5abf36",
      "metadata": {
        "id": "dc5abf36"
      },
      "outputs": [],
      "source": [
        "p  =  20  #Creates  an  integer object with value 20  and  assigns the variable p  to p\n",
        "q = 20   # Create new reference q which will point to value 20. p & q will be poiting to 20.\n",
        "r = q  #  variable r will also point to the same  location where  p  &  q  are pointing.\n"
      ]
    },
    {
      "cell_type": "code",
      "execution_count": null,
      "id": "d1da22e4",
      "metadata": {
        "id": "d1da22e4"
      },
      "outputs": [],
      "source": [
        "type(p), hex(id(p)) # Variable P is pointing to memory location '0x7fff3a6b2ad0'"
      ]
    },
    {
      "cell_type": "code",
      "execution_count": null,
      "id": "b4198a7b",
      "metadata": {
        "id": "b4198a7b",
        "scrolled": true
      },
      "outputs": [],
      "source": [
        "q , type(q), hex(id(q))"
      ]
    },
    {
      "cell_type": "code",
      "execution_count": null,
      "id": "f3f26b49",
      "metadata": {
        "id": "f3f26b49"
      },
      "outputs": [],
      "source": [
        "r, type(r),hex(id(r))"
      ]
    },
    {
      "cell_type": "markdown",
      "id": "3357de40",
      "metadata": {
        "id": "3357de40"
      },
      "source": [
        "![image.png](attachment:image.png)"
      ]
    },
    {
      "cell_type": "markdown",
      "id": "c4e3a2d2",
      "metadata": {
        "id": "c4e3a2d2"
      },
      "source": [
        "# Variable Assignment"
      ]
    },
    {
      "cell_type": "code",
      "execution_count": null,
      "id": "f741d376",
      "metadata": {
        "id": "f741d376",
        "scrolled": true
      },
      "outputs": [],
      "source": [
        "intvar = 10 # Integer variable\n",
        "floatvar = 2.57 # Float Variable\n",
        "strvar = \"Python Language\" # String variable\n",
        "print(intvar)\n",
        "print(floatvar)\n",
        "print(strvar)"
      ]
    },
    {
      "cell_type": "markdown",
      "id": "aff84426",
      "metadata": {
        "id": "aff84426"
      },
      "source": [
        "# Multiple Assignment"
      ]
    },
    {
      "cell_type": "code",
      "execution_count": null,
      "id": "d4683b2a",
      "metadata": {
        "id": "d4683b2a",
        "scrolled": true
      },
      "outputs": [],
      "source": [
        "intvar , floatvar , strvar = 10,2.57,\"Python Language\" # Using commas to separate variables\n",
        "print(intvar)\n",
        "print(floatvar)\n",
        "print(strvar)"
      ]
    },
    {
      "cell_type": "code",
      "execution_count": null,
      "id": "f486c066",
      "metadata": {
        "id": "f486c066"
      },
      "outputs": [],
      "source": [
        "print(intvar,floatvar,strvar)"
      ]
    },
    {
      "cell_type": "code",
      "execution_count": null,
      "id": "1644ff55",
      "metadata": {
        "id": "1644ff55",
        "scrolled": true
      },
      "outputs": [],
      "source": [
        "p1 = p2 = p3 = p4 = 44 # All variables pointing to same value\n",
        "print(p1,p2,p3,p4)"
      ]
    },
    {
      "cell_type": "markdown",
      "id": "37f99688",
      "metadata": {
        "id": "37f99688"
      },
      "source": [
        "# Data Types"
      ]
    },
    {
      "cell_type": "markdown",
      "id": "5a9a8cd3",
      "metadata": {
        "id": "5a9a8cd3"
      },
      "source": [
        "## Numeric"
      ]
    },
    {
      "cell_type": "code",
      "execution_count": null,
      "id": "7515e270",
      "metadata": {
        "id": "7515e270",
        "scrolled": true
      },
      "outputs": [],
      "source": [
        "val1 = 10 # Integer data type\n",
        "print(val1)\n",
        "print(type(val1)) # type of object\n",
        "print(sys.getsizeof(val1)) # size of integer object in bytes\n",
        "print(val1, \" is Integer?\", isinstance(val1, int)) # val1 is an instance of int datatype"
      ]
    },
    {
      "cell_type": "code",
      "execution_count": null,
      "id": "2fa04823",
      "metadata": {
        "id": "2fa04823",
        "scrolled": true
      },
      "outputs": [],
      "source": [
        "val2 = 92.78 # Float data type\n",
        "print(val2)\n",
        "print(type(val2)) # type of object\n",
        "print(sys.getsizeof(val2)) # size of float object in bytes\n",
        "print(val2, \" is float?\", isinstance(val2, float)) # Val2 is an instance of float"
      ]
    },
    {
      "cell_type": "code",
      "execution_count": null,
      "id": "61eda00f",
      "metadata": {
        "id": "61eda00f"
      },
      "outputs": [],
      "source": [
        "val3 = 25 + 10j # Complex data type\n",
        "print(val3)\n",
        "print(type(val3)) # type of object\n",
        "print(sys.getsizeof(val3)) # size of float object in bytes\n",
        "print(val3, \" is complex?\", isinstance(val3, complex)) # val3 is an instance of complex"
      ]
    },
    {
      "cell_type": "markdown",
      "id": "d7c74ac7",
      "metadata": {
        "id": "d7c74ac7"
      },
      "source": [
        "## Boolean"
      ]
    },
    {
      "cell_type": "markdown",
      "id": "807bb3c7",
      "metadata": {
        "id": "807bb3c7"
      },
      "source": [
        "* Boolean data type can have only two possible values true or false."
      ]
    },
    {
      "cell_type": "code",
      "execution_count": null,
      "id": "052cf431",
      "metadata": {
        "id": "052cf431"
      },
      "outputs": [],
      "source": [
        "bool1=True"
      ]
    },
    {
      "cell_type": "code",
      "execution_count": null,
      "id": "9cb97c89",
      "metadata": {
        "id": "9cb97c89"
      },
      "outputs": [],
      "source": [
        "bool2=False"
      ]
    },
    {
      "cell_type": "code",
      "execution_count": null,
      "id": "0f453174",
      "metadata": {
        "colab": {
          "base_uri": "https://localhost:8080/"
        },
        "id": "0f453174",
        "outputId": "d08bf352-9ebe-452c-ecf2-ffc26ab877df",
        "scrolled": true
      },
      "outputs": [
        {
          "data": {
            "text/plain": [
              "bool"
            ]
          },
          "execution_count": 4,
          "metadata": {},
          "output_type": "execute_result"
        }
      ],
      "source": [
        "type(bool1)"
      ]
    },
    {
      "cell_type": "code",
      "execution_count": null,
      "id": "6211346a",
      "metadata": {
        "colab": {
          "base_uri": "https://localhost:8080/"
        },
        "id": "6211346a",
        "outputId": "4bb76670-6652-4e52-820e-528a690347c5"
      },
      "outputs": [
        {
          "data": {
            "text/plain": [
              "True"
            ]
          },
          "execution_count": 5,
          "metadata": {},
          "output_type": "execute_result"
        }
      ],
      "source": [
        "isinstance(bool1, bool)"
      ]
    },
    {
      "cell_type": "code",
      "execution_count": null,
      "id": "8c600c49",
      "metadata": {
        "id": "8c600c49",
        "scrolled": true
      },
      "outputs": [],
      "source": [
        "bool(0)"
      ]
    },
    {
      "cell_type": "code",
      "execution_count": null,
      "id": "5b17409e",
      "metadata": {
        "colab": {
          "base_uri": "https://localhost:8080/"
        },
        "id": "5b17409e",
        "outputId": "192bcc41-5374-43e4-8d9c-357994df8518"
      },
      "outputs": [
        {
          "data": {
            "text/plain": [
              "True"
            ]
          },
          "execution_count": 6,
          "metadata": {},
          "output_type": "execute_result"
        }
      ],
      "source": [
        "bool(-98) # Anything apart from 0 everything is True"
      ]
    },
    {
      "cell_type": "markdown",
      "id": "b40a9db7",
      "metadata": {
        "id": "b40a9db7"
      },
      "source": [
        "## String"
      ]
    },
    {
      "cell_type": "markdown",
      "id": "6580adac",
      "metadata": {
        "id": "6580adac"
      },
      "source": [
        "###  String creation"
      ]
    },
    {
      "cell_type": "code",
      "execution_count": null,
      "id": "54346673",
      "metadata": {
        "colab": {
          "base_uri": "https://localhost:8080/"
        },
        "id": "54346673",
        "outputId": "e0d397f6-b94f-4c6f-a5a4-4be5da1d7ce6"
      },
      "outputs": [
        {
          "name": "stdout",
          "output_type": "stream",
          "text": [
            "HELLO PYTHON\n"
          ]
        }
      ],
      "source": [
        "str1 = \"HELLO PYTHON\"\n",
        "print(str1)"
      ]
    },
    {
      "cell_type": "code",
      "execution_count": null,
      "id": "34012e79",
      "metadata": {
        "colab": {
          "base_uri": "https://localhost:8080/"
        },
        "id": "34012e79",
        "outputId": "7e13484a-5150-48b3-d7cd-b997a97ecdeb"
      },
      "outputs": [
        {
          "name": "stdout",
          "output_type": "stream",
          "text": [
            "Hello World\n"
          ]
        }
      ],
      "source": [
        "mystr = 'Hello World' # Define string using single quotes\n",
        "print(mystr)"
      ]
    },
    {
      "cell_type": "code",
      "execution_count": null,
      "id": "80276312",
      "metadata": {
        "id": "80276312"
      },
      "outputs": [],
      "source": [
        "mystr = \"Hello World\" # Define string using double quotes\n",
        "print(mystr)"
      ]
    },
    {
      "cell_type": "code",
      "execution_count": null,
      "id": "b3e60e59",
      "metadata": {
        "colab": {
          "base_uri": "https://localhost:8080/",
          "height": 35
        },
        "id": "b3e60e59",
        "outputId": "dcc8bed0-5bf1-44ac-f5f9-1c671d783b77"
      },
      "outputs": [
        {
          "data": {
            "application/vnd.google.colaboratory.intrinsic+json": {
              "type": "string"
            },
            "text/plain": [
              "'Woohoo Woohoo Woohoo Woohoo Woohoo '"
            ]
          },
          "execution_count": 6,
          "metadata": {},
          "output_type": "execute_result"
        }
      ],
      "source": [
        "mystr2='Woohoo '\n",
        "mystr2=mystr2*5\n",
        "mystr2"
      ]
    },
    {
      "cell_type": "markdown",
      "id": "21e9ae35",
      "metadata": {
        "id": "21e9ae35"
      },
      "source": [
        "### String indexing"
      ]
    },
    {
      "cell_type": "markdown",
      "id": "6ba02321",
      "metadata": {
        "id": "6ba02321"
      },
      "source": [
        "![image.png](attachment:image.png)"
      ]
    },
    {
      "cell_type": "code",
      "execution_count": null,
      "id": "cd4091f8",
      "metadata": {
        "id": "cd4091f8",
        "scrolled": true
      },
      "outputs": [],
      "source": [
        "str1"
      ]
    },
    {
      "cell_type": "code",
      "execution_count": null,
      "id": "bb12a213",
      "metadata": {
        "colab": {
          "base_uri": "https://localhost:8080/",
          "height": 35
        },
        "id": "bb12a213",
        "outputId": "8bfafe5a-93f1-4378-f0f0-e8f174066223"
      },
      "outputs": [
        {
          "data": {
            "application/vnd.google.colaboratory.intrinsic+json": {
              "type": "string"
            },
            "text/plain": [
              "'H'"
            ]
          },
          "execution_count": 7,
          "metadata": {},
          "output_type": "execute_result"
        }
      ],
      "source": [
        "str1[0] # First character in string \"str1\"\n"
      ]
    },
    {
      "cell_type": "code",
      "execution_count": null,
      "id": "f4bc7dfc",
      "metadata": {
        "colab": {
          "base_uri": "https://localhost:8080/"
        },
        "id": "f4bc7dfc",
        "outputId": "64326dc6-64eb-4071-b8ff-e5949afcc565"
      },
      "outputs": [
        {
          "data": {
            "text/plain": [
              "12"
            ]
          },
          "execution_count": 8,
          "metadata": {},
          "output_type": "execute_result"
        }
      ],
      "source": [
        "len(str1) # Number of elements in given string."
      ]
    },
    {
      "cell_type": "code",
      "execution_count": null,
      "id": "2e238e59",
      "metadata": {
        "colab": {
          "base_uri": "https://localhost:8080/",
          "height": 35
        },
        "id": "2e238e59",
        "outputId": "c19e7592-473f-4d63-e676-18d670d1390c"
      },
      "outputs": [
        {
          "data": {
            "application/vnd.google.colaboratory.intrinsic+json": {
              "type": "string"
            },
            "text/plain": [
              "'N'"
            ]
          },
          "execution_count": 9,
          "metadata": {},
          "output_type": "execute_result"
        }
      ],
      "source": [
        "str1[len(str1)-1] # Last character in string using len functio"
      ]
    },
    {
      "cell_type": "code",
      "execution_count": null,
      "id": "686c1440",
      "metadata": {
        "id": "686c1440"
      },
      "outputs": [],
      "source": [
        "str1[-1] # Last character in string\n"
      ]
    },
    {
      "cell_type": "code",
      "execution_count": null,
      "id": "ae641b47",
      "metadata": {
        "id": "ae641b47"
      },
      "outputs": [],
      "source": [
        "str1[11]"
      ]
    },
    {
      "cell_type": "code",
      "execution_count": null,
      "id": "123531e7",
      "metadata": {
        "id": "123531e7",
        "scrolled": true
      },
      "outputs": [],
      "source": [
        "str1[6] #Fetch 7th element of the string"
      ]
    },
    {
      "cell_type": "code",
      "execution_count": null,
      "id": "47f9ed1c",
      "metadata": {
        "id": "47f9ed1c"
      },
      "outputs": [],
      "source": [
        "str1[5]"
      ]
    },
    {
      "cell_type": "markdown",
      "id": "617e14ce",
      "metadata": {
        "id": "617e14ce"
      },
      "source": [
        "### String Slicing"
      ]
    },
    {
      "cell_type": "code",
      "execution_count": null,
      "id": "803eef0b",
      "metadata": {
        "colab": {
          "base_uri": "https://localhost:8080/",
          "height": 35
        },
        "id": "803eef0b",
        "outputId": "ef2e19e3-b96b-45eb-fca7-1d24d28d184c"
      },
      "outputs": [
        {
          "data": {
            "application/vnd.google.colaboratory.intrinsic+json": {
              "type": "string"
            },
            "text/plain": [
              "'HELLO PYTHON'"
            ]
          },
          "execution_count": 10,
          "metadata": {},
          "output_type": "execute_result"
        }
      ],
      "source": [
        "str1"
      ]
    },
    {
      "cell_type": "code",
      "execution_count": null,
      "id": "cb2c62f1",
      "metadata": {
        "colab": {
          "base_uri": "https://localhost:8080/",
          "height": 35
        },
        "id": "cb2c62f1",
        "outputId": "cb328feb-7f3f-4abc-f9ba-0b96399b65a8"
      },
      "outputs": [
        {
          "data": {
            "application/vnd.google.colaboratory.intrinsic+json": {
              "type": "string"
            },
            "text/plain": [
              "'HELLO'"
            ]
          },
          "execution_count": 11,
          "metadata": {},
          "output_type": "execute_result"
        }
      ],
      "source": [
        "str1[0:5] # String slicing - Fetch all characters from 0 to 5 index\n",
        "# location excluding the upper limit"
      ]
    },
    {
      "cell_type": "code",
      "execution_count": null,
      "id": "f59e906f",
      "metadata": {
        "colab": {
          "base_uri": "https://localhost:8080/",
          "height": 35
        },
        "id": "f59e906f",
        "outputId": "ed723abd-96c1-4f64-f6e1-ea8eee2ebdc4"
      },
      "outputs": [
        {
          "data": {
            "application/vnd.google.colaboratory.intrinsic+json": {
              "type": "string"
            },
            "text/plain": [
              "'PYTHON'"
            ]
          },
          "execution_count": 12,
          "metadata": {},
          "output_type": "execute_result"
        }
      ],
      "source": [
        "str1[6:12] # String slicing - Retreive all characters between 6 - 12 index loc excluding the upper limit"
      ]
    },
    {
      "cell_type": "code",
      "execution_count": null,
      "id": "8146ce76",
      "metadata": {
        "colab": {
          "base_uri": "https://localhost:8080/",
          "height": 35
        },
        "id": "8146ce76",
        "outputId": "9eb2515e-8627-496c-cbc9-d3b817dd2cc8"
      },
      "outputs": [
        {
          "data": {
            "application/vnd.google.colaboratory.intrinsic+json": {
              "type": "string"
            },
            "text/plain": [
              "'HELLO PYTHON'"
            ]
          },
          "execution_count": 14,
          "metadata": {},
          "output_type": "execute_result"
        }
      ],
      "source": [
        "str1"
      ]
    },
    {
      "cell_type": "code",
      "execution_count": null,
      "id": "0882fb00",
      "metadata": {
        "id": "0882fb00"
      },
      "outputs": [],
      "source": [
        "str2='Data is new fuel'\n",
        "# Task:-Extract new from above string"
      ]
    },
    {
      "cell_type": "code",
      "execution_count": null,
      "id": "73331cfa",
      "metadata": {
        "id": "73331cfa"
      },
      "outputs": [],
      "source": [
        "str1"
      ]
    },
    {
      "cell_type": "code",
      "execution_count": null,
      "id": "59a24210",
      "metadata": {
        "colab": {
          "base_uri": "https://localhost:8080/",
          "height": 35
        },
        "id": "59a24210",
        "outputId": "e9a41b68-8021-4530-9737-6aed9a3543bc"
      },
      "outputs": [
        {
          "data": {
            "application/vnd.google.colaboratory.intrinsic+json": {
              "type": "string"
            },
            "text/plain": [
              "'PYTHON'"
            ]
          },
          "execution_count": 15,
          "metadata": {},
          "output_type": "execute_result"
        }
      ],
      "source": [
        "str1[-6:] # Retreive last six characters of the string"
      ]
    },
    {
      "cell_type": "code",
      "execution_count": null,
      "id": "b9980e4c",
      "metadata": {
        "colab": {
          "base_uri": "https://localhost:8080/",
          "height": 35
        },
        "id": "b9980e4c",
        "outputId": "e2602dd7-6bbd-4186-cb3e-9864e2d3e8f6"
      },
      "outputs": [
        {
          "data": {
            "application/vnd.google.colaboratory.intrinsic+json": {
              "type": "string"
            },
            "text/plain": [
              "'ELLO '"
            ]
          },
          "execution_count": 16,
          "metadata": {},
          "output_type": "execute_result"
        }
      ],
      "source": [
        "str1[-11:-6]"
      ]
    },
    {
      "cell_type": "code",
      "execution_count": null,
      "id": "67a23f12",
      "metadata": {
        "colab": {
          "base_uri": "https://localhost:8080/",
          "height": 35
        },
        "id": "67a23f12",
        "outputId": "34fc7ae8-0ff2-4595-9cda-87fa544216a5"
      },
      "outputs": [
        {
          "data": {
            "application/vnd.google.colaboratory.intrinsic+json": {
              "type": "string"
            },
            "text/plain": [
              "''"
            ]
          },
          "execution_count": 17,
          "metadata": {},
          "output_type": "execute_result"
        }
      ],
      "source": [
        "str1[-1:-11]"
      ]
    },
    {
      "cell_type": "code",
      "execution_count": null,
      "id": "a0a6b758",
      "metadata": {
        "id": "a0a6b758",
        "scrolled": true
      },
      "outputs": [],
      "source": [
        "str1[:] # All characters"
      ]
    },
    {
      "cell_type": "code",
      "execution_count": null,
      "id": "d8894020",
      "metadata": {
        "id": "d8894020"
      },
      "outputs": [],
      "source": [
        "str1[:5]"
      ]
    },
    {
      "cell_type": "code",
      "execution_count": null,
      "id": "17d3e24e",
      "metadata": {
        "id": "17d3e24e"
      },
      "outputs": [],
      "source": [
        "str1[4:]"
      ]
    },
    {
      "cell_type": "markdown",
      "id": "26ea1f22",
      "metadata": {
        "id": "26ea1f22"
      },
      "source": [
        "### Update and Delete string"
      ]
    },
    {
      "cell_type": "markdown",
      "id": "8be8dec6",
      "metadata": {
        "id": "8be8dec6"
      },
      "source": [
        "* Strings are immutable which means elements of a\n",
        "string cannot be changed once the they are assigned with\n",
        "any values\n"
      ]
    },
    {
      "cell_type": "code",
      "execution_count": null,
      "id": "b48e5be5",
      "metadata": {
        "colab": {
          "base_uri": "https://localhost:8080/",
          "height": 35
        },
        "id": "b48e5be5",
        "outputId": "f8f4a315-df4a-400f-bd1b-db504b7fa72c"
      },
      "outputs": [
        {
          "data": {
            "application/vnd.google.colaboratory.intrinsic+json": {
              "type": "string"
            },
            "text/plain": [
              "'HELLO PYTHON'"
            ]
          },
          "execution_count": 18,
          "metadata": {},
          "output_type": "execute_result"
        }
      ],
      "source": [
        "str1"
      ]
    },
    {
      "cell_type": "code",
      "execution_count": null,
      "id": "67aec6de",
      "metadata": {
        "id": "67aec6de",
        "scrolled": true
      },
      "outputs": [],
      "source": [
        "str1[0:5]='HEYA'\n"
      ]
    },
    {
      "cell_type": "code",
      "execution_count": null,
      "id": "14da5e50",
      "metadata": {
        "id": "14da5e50",
        "scrolled": true
      },
      "outputs": [],
      "source": [
        "del str1 # Delete a string\n",
        "\n"
      ]
    },
    {
      "cell_type": "code",
      "execution_count": null,
      "id": "1500df89",
      "metadata": {
        "id": "1500df89"
      },
      "outputs": [],
      "source": [
        "str1"
      ]
    },
    {
      "cell_type": "markdown",
      "id": "b5b59f30",
      "metadata": {
        "id": "b5b59f30"
      },
      "source": [
        "### String concatenation\n"
      ]
    },
    {
      "cell_type": "code",
      "execution_count": null,
      "id": "4c2cc25b",
      "metadata": {
        "id": "4c2cc25b"
      },
      "outputs": [],
      "source": [
        "#  String concatenation\n",
        "s1 = \"Data\"\n",
        "s2 = \"Science\"\n",
        "s3=s1 + s2"
      ]
    },
    {
      "cell_type": "code",
      "execution_count": null,
      "id": "ab79168c",
      "metadata": {
        "colab": {
          "base_uri": "https://localhost:8080/",
          "height": 35
        },
        "id": "ab79168c",
        "outputId": "52e315cc-5b0e-48ed-da61-4600f387f8b9"
      },
      "outputs": [
        {
          "data": {
            "application/vnd.google.colaboratory.intrinsic+json": {
              "type": "string"
            },
            "text/plain": [
              "'Data'"
            ]
          },
          "execution_count": 24,
          "metadata": {},
          "output_type": "execute_result"
        }
      ],
      "source": [
        "s1"
      ]
    },
    {
      "cell_type": "code",
      "execution_count": null,
      "id": "bb5628b2",
      "metadata": {
        "id": "bb5628b2"
      },
      "outputs": [],
      "source": [
        "s2"
      ]
    },
    {
      "cell_type": "code",
      "execution_count": null,
      "id": "668e22ee",
      "metadata": {
        "colab": {
          "base_uri": "https://localhost:8080/"
        },
        "id": "668e22ee",
        "outputId": "55d48f26-217b-4b97-ff00-d42ac2650078",
        "scrolled": true
      },
      "outputs": [
        {
          "name": "stdout",
          "output_type": "stream",
          "text": [
            "DataScience\n"
          ]
        }
      ],
      "source": [
        "print(s3)"
      ]
    },
    {
      "cell_type": "code",
      "execution_count": null,
      "id": "b9a1bc0e",
      "metadata": {
        "id": "b9a1bc0e"
      },
      "outputs": [],
      "source": [
        "#  String concatenation\n",
        "s1 = \"Data\"\n",
        "s2 = \"Science\"\n",
        "s3 = s1 +\" \"+ s2"
      ]
    },
    {
      "cell_type": "code",
      "execution_count": null,
      "id": "d8f423bd",
      "metadata": {
        "id": "d8f423bd"
      },
      "outputs": [],
      "source": [
        "print(s3)"
      ]
    },
    {
      "cell_type": "markdown",
      "id": "7b1f3379",
      "metadata": {
        "id": "7b1f3379"
      },
      "source": [
        "### String Membership"
      ]
    },
    {
      "cell_type": "code",
      "execution_count": null,
      "id": "86d2b79a",
      "metadata": {
        "id": "86d2b79a"
      },
      "outputs": [],
      "source": [
        "# String membership\n",
        "mystr1 = \"Hello Everyone\"\n"
      ]
    },
    {
      "cell_type": "code",
      "execution_count": null,
      "id": "073089bb",
      "metadata": {
        "id": "073089bb"
      },
      "outputs": [],
      "source": [
        "print ('Hello' in mystr1) # Check whether\n",
        "#substring \"Hello\" is present in given string\n"
      ]
    },
    {
      "cell_type": "code",
      "execution_count": null,
      "id": "9c9a0c62",
      "metadata": {
        "id": "9c9a0c62"
      },
      "outputs": [],
      "source": [
        "print ('Everyone' in mystr1) # Check whether substring \"Everyone\" is present in given string\n",
        "print ('Hi' in mystr1) # Check whether substring \"Hi\" is present in given string"
      ]
    },
    {
      "cell_type": "markdown",
      "id": "8ece4e99",
      "metadata": {
        "id": "8ece4e99"
      },
      "source": [
        "### String Partioning"
      ]
    },
    {
      "cell_type": "code",
      "execution_count": null,
      "id": "0ba08747",
      "metadata": {
        "id": "0ba08747"
      },
      "outputs": [],
      "source": [
        "\"\"\"\n",
        "The partition() method searches for a specified string and splits the string into\n",
        " - The first element contains the part before the argument string.\n",
        " - The second element contains the argument string.\n",
        " - The third element contains the part after the argument string.\n",
        "\"\"\"\n",
        "str5 = \"Natural language processing with Python and R and Java\"\n",
        "L = str5.partition(\"with\")"
      ]
    },
    {
      "cell_type": "code",
      "execution_count": null,
      "id": "4ee663bd",
      "metadata": {
        "colab": {
          "base_uri": "https://localhost:8080/"
        },
        "id": "4ee663bd",
        "outputId": "353d3d50-6fdb-49ec-db2b-da4d71415317"
      },
      "outputs": [
        {
          "name": "stdout",
          "output_type": "stream",
          "text": [
            "('Natural language processing ', 'with', ' Python and R and Java')\n"
          ]
        }
      ],
      "source": [
        "print(L)"
      ]
    },
    {
      "cell_type": "markdown",
      "id": "8c3d4fc9",
      "metadata": {
        "id": "8c3d4fc9"
      },
      "source": [
        "### String Functions"
      ]
    },
    {
      "cell_type": "code",
      "execution_count": null,
      "id": "be81f2fa",
      "metadata": {
        "id": "be81f2fa"
      },
      "outputs": [],
      "source": [
        "mystr2 = \" Hello Everyone \"\n",
        "mystr2"
      ]
    },
    {
      "cell_type": "code",
      "execution_count": null,
      "id": "e7a3b771",
      "metadata": {
        "id": "e7a3b771"
      },
      "outputs": [],
      "source": [
        "mystr2.strip() # Removes white space from begining & end"
      ]
    },
    {
      "cell_type": "code",
      "execution_count": null,
      "id": "adfd0c11",
      "metadata": {
        "id": "adfd0c11",
        "scrolled": true
      },
      "outputs": [],
      "source": [
        "mystr2.rstrip() # Removes all whitespaces at the end of the string"
      ]
    },
    {
      "cell_type": "code",
      "execution_count": null,
      "id": "ddba005e",
      "metadata": {
        "id": "ddba005e",
        "scrolled": true
      },
      "outputs": [],
      "source": [
        "mystr2.lstrip() # Removes all whitespaces at the begining of the string"
      ]
    },
    {
      "cell_type": "code",
      "execution_count": null,
      "id": "c747149b",
      "metadata": {
        "id": "c747149b"
      },
      "outputs": [],
      "source": [
        "mystr2"
      ]
    },
    {
      "cell_type": "code",
      "execution_count": null,
      "id": "b7afef19",
      "metadata": {
        "id": "b7afef19"
      },
      "outputs": [],
      "source": [
        "mystr2 = \"*********Hello Everyone***********All the\n",
        "Best**********\"\n",
        "mystr2"
      ]
    },
    {
      "cell_type": "code",
      "execution_count": null,
      "id": "dbb00304",
      "metadata": {
        "id": "dbb00304",
        "scrolled": true
      },
      "outputs": [],
      "source": [
        "mystr2.strip('*') # Removes all '*' characters from begining\n",
        "#& end of the string"
      ]
    },
    {
      "cell_type": "code",
      "execution_count": null,
      "id": "445c7f26",
      "metadata": {
        "id": "445c7f26"
      },
      "outputs": [],
      "source": [
        "rstrip,lstrip"
      ]
    },
    {
      "cell_type": "code",
      "execution_count": null,
      "id": "af7c9b10",
      "metadata": {
        "id": "af7c9b10"
      },
      "outputs": [],
      "source": [
        "mystr2"
      ]
    },
    {
      "cell_type": "code",
      "execution_count": null,
      "id": "9a08cfda",
      "metadata": {
        "id": "9a08cfda"
      },
      "outputs": [],
      "source": [
        "mystr2.lower()"
      ]
    },
    {
      "cell_type": "code",
      "execution_count": null,
      "id": "340e2449",
      "metadata": {
        "id": "340e2449",
        "scrolled": true
      },
      "outputs": [],
      "source": [
        "mystr2.upper()"
      ]
    },
    {
      "cell_type": "code",
      "execution_count": null,
      "id": "f8eb385a",
      "metadata": {
        "id": "f8eb385a"
      },
      "outputs": [],
      "source": [
        "mystr2"
      ]
    },
    {
      "cell_type": "code",
      "execution_count": null,
      "id": "7f5a1f0b",
      "metadata": {
        "id": "7f5a1f0b"
      },
      "outputs": [],
      "source": [
        "mystr2.replace('He','HI')"
      ]
    },
    {
      "cell_type": "code",
      "execution_count": null,
      "id": "ba2d6448",
      "metadata": {
        "id": "ba2d6448"
      },
      "outputs": [],
      "source": [
        "mystr3 = \"one two Three one two two three\"\n"
      ]
    },
    {
      "cell_type": "code",
      "execution_count": null,
      "id": "74926b2c",
      "metadata": {
        "id": "74926b2c"
      },
      "outputs": [],
      "source": [
        "mystr3.count('e')"
      ]
    },
    {
      "cell_type": "code",
      "execution_count": null,
      "id": "fad85656",
      "metadata": {
        "id": "fad85656"
      },
      "outputs": [],
      "source": [
        "mystr3.startswith(\"on\") # Return boolean value True if string starts with \"one\"\n"
      ]
    },
    {
      "cell_type": "code",
      "execution_count": null,
      "id": "6305a0b1",
      "metadata": {
        "id": "6305a0b1",
        "scrolled": true
      },
      "outputs": [],
      "source": [
        "mystr3.endswith(\"rte\") # Return boolean value True if string ends with \"three\""
      ]
    },
    {
      "cell_type": "code",
      "execution_count": null,
      "id": "f7d7c529",
      "metadata": {
        "id": "f7d7c529"
      },
      "outputs": [],
      "source": [
        "mystr4 = \"one two three four one two two three five five six seven six seven one oneone ten eight ten nine eleven ten ten nine\""
      ]
    },
    {
      "cell_type": "code",
      "execution_count": null,
      "id": "fcb30b96",
      "metadata": {
        "id": "fcb30b96"
      },
      "outputs": [],
      "source": [
        "mystr4.split()"
      ]
    },
    {
      "cell_type": "code",
      "execution_count": null,
      "id": "a8c2ae2d",
      "metadata": {
        "id": "a8c2ae2d"
      },
      "outputs": [],
      "source": [
        "mystr4.split('e')"
      ]
    },
    {
      "cell_type": "code",
      "execution_count": null,
      "id": "ff8f5f98",
      "metadata": {
        "id": "ff8f5f98"
      },
      "outputs": [],
      "source": [
        "# Combining string & numbers using format method\n",
        "item1 = 40\n",
        "item2 = 55\n",
        "item3 = 77\n",
        "res = \"Cost of item1 , item2 and item3 are {} , {} and {}\"\n",
        "print(res.format(item1,item2,item3))\n"
      ]
    },
    {
      "cell_type": "code",
      "execution_count": null,
      "id": "0362f463",
      "metadata": {
        "id": "0362f463"
      },
      "outputs": [],
      "source": [
        "a=5\n",
        "b=3\n",
        "c=9\n",
        "print('The value of a is {} and the value of b is {} value of c is {}  '.format(b,c,a))"
      ]
    },
    {
      "cell_type": "markdown",
      "id": "ed364f92",
      "metadata": {
        "id": "ed364f92"
      },
      "source": [
        "# Typecasting"
      ]
    },
    {
      "cell_type": "markdown",
      "id": "1eee6a0d",
      "metadata": {
        "id": "1eee6a0d"
      },
      "source": [
        "* Type Casting is the method to convert the variable data type into a certain data type in order to the operation required to be performed by users.\n",
        "\n",
        "* There are 2 ways in which typecasting is performed.\n",
        "\n",
        "1) Autotypecasting\n",
        "\n",
        "\n",
        "2) Forced Typecasting"
      ]
    },
    {
      "cell_type": "markdown",
      "id": "202310c5",
      "metadata": {
        "id": "202310c5"
      },
      "source": [
        "## Auto Typecasting\n",
        "* The Python interpreter automatically converts one data type to another without any user involvement."
      ]
    },
    {
      "cell_type": "code",
      "execution_count": null,
      "id": "85f98668",
      "metadata": {
        "id": "85f98668",
        "scrolled": true
      },
      "outputs": [],
      "source": [
        "4 + 5.67 + False # 4.0 + 5.6 + 0.0 ( background processing of the code) due to the  higher hierarchy of float datatype"
      ]
    },
    {
      "cell_type": "code",
      "execution_count": null,
      "id": "5ae66f4a",
      "metadata": {
        "id": "5ae66f4a"
      },
      "outputs": [],
      "source": [
        "4 + 5.6 + False + True"
      ]
    },
    {
      "cell_type": "code",
      "execution_count": null,
      "id": "d2d1107a",
      "metadata": {
        "colab": {
          "base_uri": "https://localhost:8080/",
          "height": 166
        },
        "id": "d2d1107a",
        "outputId": "d1145384-0b36-470d-c901-9c394cf2fb51",
        "scrolled": true
      },
      "outputs": [
        {
          "ename": "TypeError",
          "evalue": "ignored",
          "output_type": "error",
          "traceback": [
            "\u001b[0;31m---------------------------------------------------------------------------\u001b[0m",
            "\u001b[0;31mTypeError\u001b[0m                                 Traceback (most recent call last)",
            "\u001b[0;32m<ipython-input-1-e0b9e20c228f>\u001b[0m in \u001b[0;36m<module>\u001b[0;34m()\u001b[0m\n\u001b[0;32m----> 1\u001b[0;31m \u001b[0;36m4\u001b[0m\u001b[0;34m+\u001b[0m\u001b[0;36m3\u001b[0m\u001b[0;34m+\u001b[0m\u001b[0;34m'data'\u001b[0m\u001b[0;34m+\u001b[0m\u001b[0;36m6.7\u001b[0m\u001b[0;34m\u001b[0m\u001b[0;34m\u001b[0m\u001b[0m\n\u001b[0m",
            "\u001b[0;31mTypeError\u001b[0m: unsupported operand type(s) for +: 'int' and 'str'"
          ]
        }
      ],
      "source": [
        "4+3+'data'+6.7"
      ]
    },
    {
      "cell_type": "code",
      "execution_count": null,
      "id": "d272b730",
      "metadata": {
        "colab": {
          "base_uri": "https://localhost:8080/"
        },
        "id": "d272b730",
        "outputId": "6a36f544-a031-43b8-e587-1349b3430a80",
        "scrolled": true
      },
      "outputs": [
        {
          "data": {
            "text/plain": [
              "4.6"
            ]
          },
          "execution_count": 2,
          "metadata": {},
          "output_type": "execute_result"
        }
      ],
      "source": [
        "True + 3.6 # True is convert int 1 / True : 1, False : 0"
      ]
    },
    {
      "cell_type": "markdown",
      "id": "86d08aae",
      "metadata": {
        "id": "86d08aae"
      },
      "source": [
        "## Forced Typecasting"
      ]
    },
    {
      "cell_type": "code",
      "execution_count": null,
      "id": "d42d6532",
      "metadata": {
        "id": "d42d6532"
      },
      "outputs": [],
      "source": [
        "a=9.7"
      ]
    },
    {
      "cell_type": "code",
      "execution_count": null,
      "id": "5c4bd907",
      "metadata": {
        "id": "5c4bd907"
      },
      "outputs": [],
      "source": [
        "type(a)"
      ]
    },
    {
      "cell_type": "code",
      "execution_count": null,
      "id": "52c773ff",
      "metadata": {
        "id": "52c773ff"
      },
      "outputs": [],
      "source": [
        "int(a)"
      ]
    },
    {
      "cell_type": "code",
      "execution_count": null,
      "id": "62a2c67f",
      "metadata": {
        "id": "62a2c67f"
      },
      "outputs": [],
      "source": [
        "a=int(9.7)#coverting float type into int\n",
        "print(a)"
      ]
    },
    {
      "cell_type": "code",
      "execution_count": null,
      "id": "f4e7c68a",
      "metadata": {
        "colab": {
          "base_uri": "https://localhost:8080/",
          "height": 166
        },
        "id": "f4e7c68a",
        "outputId": "dead3237-e682-41f3-9d05-4e001cac5310"
      },
      "outputs": [
        {
          "ename": "ValueError",
          "evalue": "ignored",
          "output_type": "error",
          "traceback": [
            "\u001b[0;31m---------------------------------------------------------------------------\u001b[0m",
            "\u001b[0;31mValueError\u001b[0m                                Traceback (most recent call last)",
            "\u001b[0;32m<ipython-input-26-4e43b092a1b1>\u001b[0m in \u001b[0;36m<module>\u001b[0;34m()\u001b[0m\n\u001b[0;32m----> 1\u001b[0;31m \u001b[0mint\u001b[0m\u001b[0;34m(\u001b[0m\u001b[0;34m'data'\u001b[0m\u001b[0;34m)\u001b[0m\u001b[0;34m\u001b[0m\u001b[0;34m\u001b[0m\u001b[0m\n\u001b[0m",
            "\u001b[0;31mValueError\u001b[0m: invalid literal for int() with base 10: 'data'"
          ]
        }
      ],
      "source": [
        "int('data')"
      ]
    },
    {
      "cell_type": "code",
      "execution_count": null,
      "id": "bd684c6f",
      "metadata": {
        "id": "bd684c6f"
      },
      "outputs": [],
      "source": [
        "int('2')"
      ]
    },
    {
      "cell_type": "code",
      "execution_count": null,
      "id": "9e8361d5",
      "metadata": {
        "id": "9e8361d5"
      },
      "outputs": [],
      "source": [
        "int(True)"
      ]
    },
    {
      "cell_type": "code",
      "execution_count": null,
      "id": "75f03975",
      "metadata": {
        "id": "75f03975",
        "scrolled": true
      },
      "outputs": [],
      "source": [
        "int(False)"
      ]
    },
    {
      "cell_type": "code",
      "execution_count": null,
      "id": "8210d728",
      "metadata": {
        "colab": {
          "base_uri": "https://localhost:8080/",
          "height": 166
        },
        "id": "8210d728",
        "outputId": "0ff87cce-db23-46c5-80d9-c0e076f31b01"
      },
      "outputs": [
        {
          "ename": "ValueError",
          "evalue": "ignored",
          "output_type": "error",
          "traceback": [
            "\u001b[0;31m---------------------------------------------------------------------------\u001b[0m",
            "\u001b[0;31mValueError\u001b[0m                                Traceback (most recent call last)",
            "\u001b[0;32m<ipython-input-1-ff69890e481f>\u001b[0m in \u001b[0;36m<module>\u001b[0;34m()\u001b[0m\n\u001b[0;32m----> 1\u001b[0;31m \u001b[0mint\u001b[0m\u001b[0;34m(\u001b[0m\u001b[0;34m'True'\u001b[0m\u001b[0;34m)\u001b[0m\u001b[0;34m\u001b[0m\u001b[0;34m\u001b[0m\u001b[0m\n\u001b[0m",
            "\u001b[0;31mValueError\u001b[0m: invalid literal for int() with base 10: 'True'"
          ]
        }
      ],
      "source": [
        "int('True')"
      ]
    },
    {
      "cell_type": "code",
      "execution_count": null,
      "id": "dc81f7e9",
      "metadata": {
        "id": "dc81f7e9",
        "scrolled": true
      },
      "outputs": [],
      "source": [
        "float(5)"
      ]
    },
    {
      "cell_type": "code",
      "execution_count": null,
      "id": "7fadaa1a",
      "metadata": {
        "id": "7fadaa1a",
        "scrolled": true
      },
      "outputs": [],
      "source": [
        "float(True)"
      ]
    },
    {
      "cell_type": "code",
      "execution_count": null,
      "id": "2c1e5c2c",
      "metadata": {
        "id": "2c1e5c2c"
      },
      "outputs": [],
      "source": [
        "a='abc'  # Convert the datatype to float"
      ]
    },
    {
      "cell_type": "code",
      "execution_count": null,
      "id": "395b4aa7",
      "metadata": {
        "id": "395b4aa7",
        "scrolled": true
      },
      "outputs": [],
      "source": [
        "bool(8.9)#converting float type into bool"
      ]
    },
    {
      "cell_type": "code",
      "execution_count": null,
      "id": "a48861ee",
      "metadata": {
        "id": "a48861ee",
        "scrolled": true
      },
      "outputs": [],
      "source": [
        "bool(0)"
      ]
    },
    {
      "cell_type": "code",
      "execution_count": null,
      "id": "00a8c882",
      "metadata": {
        "id": "00a8c882",
        "scrolled": true
      },
      "outputs": [],
      "source": [
        "bool(-1)"
      ]
    },
    {
      "cell_type": "code",
      "execution_count": null,
      "id": "85eff29b",
      "metadata": {
        "id": "85eff29b"
      },
      "outputs": [],
      "source": [
        "# Guess the output\n",
        "int(1.5)+4+bool(0)\n",
        "int(5.6)+float(6)+bool(23)\n",
        "int(6.5)+1.2+int(5.5)+ bool(0)"
      ]
    },
    {
      "cell_type": "code",
      "execution_count": null,
      "id": "a8c93b79",
      "metadata": {
        "id": "a8c93b79",
        "scrolled": true
      },
      "outputs": [],
      "source": [
        "str(5)"
      ]
    },
    {
      "cell_type": "code",
      "execution_count": null,
      "id": "62476512",
      "metadata": {
        "id": "62476512"
      },
      "outputs": [],
      "source": [
        "str(9.0)"
      ]
    },
    {
      "cell_type": "code",
      "execution_count": null,
      "id": "434e87de",
      "metadata": {
        "id": "434e87de"
      },
      "outputs": [],
      "source": [
        "str(True)"
      ]
    }
  ],
  "metadata": {
    "colab": {
      "provenance": [],
      "include_colab_link": true
    },
    "kernelspec": {
      "display_name": "Python 3 (ipykernel)",
      "language": "python",
      "name": "python3"
    },
    "language_info": {
      "codemirror_mode": {
        "name": "ipython",
        "version": 3
      },
      "file_extension": ".py",
      "mimetype": "text/x-python",
      "name": "python",
      "nbconvert_exporter": "python",
      "pygments_lexer": "ipython3",
      "version": "3.9.12"
    }
  },
  "nbformat": 4,
  "nbformat_minor": 5
}